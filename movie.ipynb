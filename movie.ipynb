{
 "cells": [
  {
   "cell_type": "code",
   "execution_count": null,
   "id": "1eda65aa",
   "metadata": {},
   "outputs": [],
   "source": [
    "## import necessary packages !\n",
    "\n",
    "import pandas as pd\n",
    "import numpy as np\n",
    "import matplotlib.pyplot as plt\n",
    "import seaborn as sns"
   ]
  },
  {
   "cell_type": "code",
   "execution_count": null,
   "id": "8e21fcf0",
   "metadata": {},
   "outputs": [],
   "source": [
    "credits = pd.read_csv(r\"C:\\SPD Docs\\AI Projects\\ML Projects\\movie_recommendation_system\\tmdb_5000_credits.csv\")"
   ]
  },
  {
   "cell_type": "code",
   "execution_count": null,
   "id": "ad79aab7",
   "metadata": {},
   "outputs": [],
   "source": [
    "movies = pd.read_csv(r\"C:\\SPD Docs\\AI Projects\\ML Projects\\movie_recommendation_system\\tmdb_5000_movies.csv\")"
   ]
  },
  {
   "cell_type": "code",
   "execution_count": null,
   "id": "e4a4905b",
   "metadata": {},
   "outputs": [
    {
     "data": {
      "text/html": [
       "<div>\n",
       "<style scoped>\n",
       "    .dataframe tbody tr th:only-of-type {\n",
       "        vertical-align: middle;\n",
       "    }\n",
       "\n",
       "    .dataframe tbody tr th {\n",
       "        vertical-align: top;\n",
       "    }\n",
       "\n",
       "    .dataframe thead th {\n",
       "        text-align: right;\n",
       "    }\n",
       "</style>\n",
       "<table border=\"1\" class=\"dataframe\">\n",
       "  <thead>\n",
       "    <tr style=\"text-align: right;\">\n",
       "      <th></th>\n",
       "      <th>movie_id</th>\n",
       "      <th>title</th>\n",
       "      <th>cast</th>\n",
       "      <th>crew</th>\n",
       "    </tr>\n",
       "  </thead>\n",
       "  <tbody>\n",
       "    <tr>\n",
       "      <th>0</th>\n",
       "      <td>19995</td>\n",
       "      <td>Avatar</td>\n",
       "      <td>[{\"cast_id\": 242, \"character\": \"Jake Sully\", \"...</td>\n",
       "      <td>[{\"credit_id\": \"52fe48009251416c750aca23\", \"de...</td>\n",
       "    </tr>\n",
       "    <tr>\n",
       "      <th>1</th>\n",
       "      <td>285</td>\n",
       "      <td>Pirates of the Caribbean: At World's End</td>\n",
       "      <td>[{\"cast_id\": 4, \"character\": \"Captain Jack Spa...</td>\n",
       "      <td>[{\"credit_id\": \"52fe4232c3a36847f800b579\", \"de...</td>\n",
       "    </tr>\n",
       "    <tr>\n",
       "      <th>2</th>\n",
       "      <td>206647</td>\n",
       "      <td>Spectre</td>\n",
       "      <td>[{\"cast_id\": 1, \"character\": \"James Bond\", \"cr...</td>\n",
       "      <td>[{\"credit_id\": \"54805967c3a36829b5002c41\", \"de...</td>\n",
       "    </tr>\n",
       "    <tr>\n",
       "      <th>3</th>\n",
       "      <td>49026</td>\n",
       "      <td>The Dark Knight Rises</td>\n",
       "      <td>[{\"cast_id\": 2, \"character\": \"Bruce Wayne / Ba...</td>\n",
       "      <td>[{\"credit_id\": \"52fe4781c3a36847f81398c3\", \"de...</td>\n",
       "    </tr>\n",
       "  </tbody>\n",
       "</table>\n",
       "</div>"
      ],
      "text/plain": [
       "   movie_id                                     title  \\\n",
       "0     19995                                    Avatar   \n",
       "1       285  Pirates of the Caribbean: At World's End   \n",
       "2    206647                                   Spectre   \n",
       "3     49026                     The Dark Knight Rises   \n",
       "\n",
       "                                                cast  \\\n",
       "0  [{\"cast_id\": 242, \"character\": \"Jake Sully\", \"...   \n",
       "1  [{\"cast_id\": 4, \"character\": \"Captain Jack Spa...   \n",
       "2  [{\"cast_id\": 1, \"character\": \"James Bond\", \"cr...   \n",
       "3  [{\"cast_id\": 2, \"character\": \"Bruce Wayne / Ba...   \n",
       "\n",
       "                                                crew  \n",
       "0  [{\"credit_id\": \"52fe48009251416c750aca23\", \"de...  \n",
       "1  [{\"credit_id\": \"52fe4232c3a36847f800b579\", \"de...  \n",
       "2  [{\"credit_id\": \"54805967c3a36829b5002c41\", \"de...  \n",
       "3  [{\"credit_id\": \"52fe4781c3a36847f81398c3\", \"de...  "
      ]
     },
     "metadata": {},
     "output_type": "display_data"
    }
   ],
   "source": [
    "credits.head(4)"
   ]
  },
  {
   "cell_type": "code",
   "execution_count": null,
   "id": "28a886d1",
   "metadata": {},
   "outputs": [
    {
     "data": {
      "text/html": [
       "<div>\n",
       "<style scoped>\n",
       "    .dataframe tbody tr th:only-of-type {\n",
       "        vertical-align: middle;\n",
       "    }\n",
       "\n",
       "    .dataframe tbody tr th {\n",
       "        vertical-align: top;\n",
       "    }\n",
       "\n",
       "    .dataframe thead th {\n",
       "        text-align: right;\n",
       "    }\n",
       "</style>\n",
       "<table border=\"1\" class=\"dataframe\">\n",
       "  <thead>\n",
       "    <tr style=\"text-align: right;\">\n",
       "      <th></th>\n",
       "      <th>budget</th>\n",
       "      <th>genres</th>\n",
       "      <th>homepage</th>\n",
       "      <th>id</th>\n",
       "      <th>keywords</th>\n",
       "      <th>original_language</th>\n",
       "      <th>original_title</th>\n",
       "      <th>overview</th>\n",
       "      <th>popularity</th>\n",
       "      <th>production_companies</th>\n",
       "      <th>production_countries</th>\n",
       "      <th>release_date</th>\n",
       "      <th>revenue</th>\n",
       "      <th>runtime</th>\n",
       "      <th>spoken_languages</th>\n",
       "      <th>status</th>\n",
       "      <th>tagline</th>\n",
       "      <th>title</th>\n",
       "      <th>vote_average</th>\n",
       "      <th>vote_count</th>\n",
       "    </tr>\n",
       "  </thead>\n",
       "  <tbody>\n",
       "    <tr>\n",
       "      <th>0</th>\n",
       "      <td>237000000</td>\n",
       "      <td>[{\"id\": 28, \"name\": \"Action\"}, {\"id\": 12, \"nam...</td>\n",
       "      <td>http://www.avatarmovie.com/</td>\n",
       "      <td>19995</td>\n",
       "      <td>[{\"id\": 1463, \"name\": \"culture clash\"}, {\"id\":...</td>\n",
       "      <td>en</td>\n",
       "      <td>Avatar</td>\n",
       "      <td>In the 22nd century, a paraplegic Marine is di...</td>\n",
       "      <td>150.437577</td>\n",
       "      <td>[{\"name\": \"Ingenious Film Partners\", \"id\": 289...</td>\n",
       "      <td>[{\"iso_3166_1\": \"US\", \"name\": \"United States o...</td>\n",
       "      <td>2009-12-10</td>\n",
       "      <td>2787965087</td>\n",
       "      <td>162.0</td>\n",
       "      <td>[{\"iso_639_1\": \"en\", \"name\": \"English\"}, {\"iso...</td>\n",
       "      <td>Released</td>\n",
       "      <td>Enter the World of Pandora.</td>\n",
       "      <td>Avatar</td>\n",
       "      <td>7.2</td>\n",
       "      <td>11800</td>\n",
       "    </tr>\n",
       "    <tr>\n",
       "      <th>1</th>\n",
       "      <td>300000000</td>\n",
       "      <td>[{\"id\": 12, \"name\": \"Adventure\"}, {\"id\": 14, \"...</td>\n",
       "      <td>http://disney.go.com/disneypictures/pirates/</td>\n",
       "      <td>285</td>\n",
       "      <td>[{\"id\": 270, \"name\": \"ocean\"}, {\"id\": 726, \"na...</td>\n",
       "      <td>en</td>\n",
       "      <td>Pirates of the Caribbean: At World's End</td>\n",
       "      <td>Captain Barbossa, long believed to be dead, ha...</td>\n",
       "      <td>139.082615</td>\n",
       "      <td>[{\"name\": \"Walt Disney Pictures\", \"id\": 2}, {\"...</td>\n",
       "      <td>[{\"iso_3166_1\": \"US\", \"name\": \"United States o...</td>\n",
       "      <td>2007-05-19</td>\n",
       "      <td>961000000</td>\n",
       "      <td>169.0</td>\n",
       "      <td>[{\"iso_639_1\": \"en\", \"name\": \"English\"}]</td>\n",
       "      <td>Released</td>\n",
       "      <td>At the end of the world, the adventure begins.</td>\n",
       "      <td>Pirates of the Caribbean: At World's End</td>\n",
       "      <td>6.9</td>\n",
       "      <td>4500</td>\n",
       "    </tr>\n",
       "    <tr>\n",
       "      <th>2</th>\n",
       "      <td>245000000</td>\n",
       "      <td>[{\"id\": 28, \"name\": \"Action\"}, {\"id\": 12, \"nam...</td>\n",
       "      <td>http://www.sonypictures.com/movies/spectre/</td>\n",
       "      <td>206647</td>\n",
       "      <td>[{\"id\": 470, \"name\": \"spy\"}, {\"id\": 818, \"name...</td>\n",
       "      <td>en</td>\n",
       "      <td>Spectre</td>\n",
       "      <td>A cryptic message from Bond’s past sends him o...</td>\n",
       "      <td>107.376788</td>\n",
       "      <td>[{\"name\": \"Columbia Pictures\", \"id\": 5}, {\"nam...</td>\n",
       "      <td>[{\"iso_3166_1\": \"GB\", \"name\": \"United Kingdom\"...</td>\n",
       "      <td>2015-10-26</td>\n",
       "      <td>880674609</td>\n",
       "      <td>148.0</td>\n",
       "      <td>[{\"iso_639_1\": \"fr\", \"name\": \"Fran\\u00e7ais\"},...</td>\n",
       "      <td>Released</td>\n",
       "      <td>A Plan No One Escapes</td>\n",
       "      <td>Spectre</td>\n",
       "      <td>6.3</td>\n",
       "      <td>4466</td>\n",
       "    </tr>\n",
       "    <tr>\n",
       "      <th>3</th>\n",
       "      <td>250000000</td>\n",
       "      <td>[{\"id\": 28, \"name\": \"Action\"}, {\"id\": 80, \"nam...</td>\n",
       "      <td>http://www.thedarkknightrises.com/</td>\n",
       "      <td>49026</td>\n",
       "      <td>[{\"id\": 849, \"name\": \"dc comics\"}, {\"id\": 853,...</td>\n",
       "      <td>en</td>\n",
       "      <td>The Dark Knight Rises</td>\n",
       "      <td>Following the death of District Attorney Harve...</td>\n",
       "      <td>112.312950</td>\n",
       "      <td>[{\"name\": \"Legendary Pictures\", \"id\": 923}, {\"...</td>\n",
       "      <td>[{\"iso_3166_1\": \"US\", \"name\": \"United States o...</td>\n",
       "      <td>2012-07-16</td>\n",
       "      <td>1084939099</td>\n",
       "      <td>165.0</td>\n",
       "      <td>[{\"iso_639_1\": \"en\", \"name\": \"English\"}]</td>\n",
       "      <td>Released</td>\n",
       "      <td>The Legend Ends</td>\n",
       "      <td>The Dark Knight Rises</td>\n",
       "      <td>7.6</td>\n",
       "      <td>9106</td>\n",
       "    </tr>\n",
       "  </tbody>\n",
       "</table>\n",
       "</div>"
      ],
      "text/plain": [
       "      budget                                             genres  \\\n",
       "0  237000000  [{\"id\": 28, \"name\": \"Action\"}, {\"id\": 12, \"nam...   \n",
       "1  300000000  [{\"id\": 12, \"name\": \"Adventure\"}, {\"id\": 14, \"...   \n",
       "2  245000000  [{\"id\": 28, \"name\": \"Action\"}, {\"id\": 12, \"nam...   \n",
       "3  250000000  [{\"id\": 28, \"name\": \"Action\"}, {\"id\": 80, \"nam...   \n",
       "\n",
       "                                       homepage      id  \\\n",
       "0                   http://www.avatarmovie.com/   19995   \n",
       "1  http://disney.go.com/disneypictures/pirates/     285   \n",
       "2   http://www.sonypictures.com/movies/spectre/  206647   \n",
       "3            http://www.thedarkknightrises.com/   49026   \n",
       "\n",
       "                                            keywords original_language  \\\n",
       "0  [{\"id\": 1463, \"name\": \"culture clash\"}, {\"id\":...                en   \n",
       "1  [{\"id\": 270, \"name\": \"ocean\"}, {\"id\": 726, \"na...                en   \n",
       "2  [{\"id\": 470, \"name\": \"spy\"}, {\"id\": 818, \"name...                en   \n",
       "3  [{\"id\": 849, \"name\": \"dc comics\"}, {\"id\": 853,...                en   \n",
       "\n",
       "                             original_title  \\\n",
       "0                                    Avatar   \n",
       "1  Pirates of the Caribbean: At World's End   \n",
       "2                                   Spectre   \n",
       "3                     The Dark Knight Rises   \n",
       "\n",
       "                                            overview  popularity  \\\n",
       "0  In the 22nd century, a paraplegic Marine is di...  150.437577   \n",
       "1  Captain Barbossa, long believed to be dead, ha...  139.082615   \n",
       "2  A cryptic message from Bond’s past sends him o...  107.376788   \n",
       "3  Following the death of District Attorney Harve...  112.312950   \n",
       "\n",
       "                                production_companies  \\\n",
       "0  [{\"name\": \"Ingenious Film Partners\", \"id\": 289...   \n",
       "1  [{\"name\": \"Walt Disney Pictures\", \"id\": 2}, {\"...   \n",
       "2  [{\"name\": \"Columbia Pictures\", \"id\": 5}, {\"nam...   \n",
       "3  [{\"name\": \"Legendary Pictures\", \"id\": 923}, {\"...   \n",
       "\n",
       "                                production_countries release_date     revenue  \\\n",
       "0  [{\"iso_3166_1\": \"US\", \"name\": \"United States o...   2009-12-10  2787965087   \n",
       "1  [{\"iso_3166_1\": \"US\", \"name\": \"United States o...   2007-05-19   961000000   \n",
       "2  [{\"iso_3166_1\": \"GB\", \"name\": \"United Kingdom\"...   2015-10-26   880674609   \n",
       "3  [{\"iso_3166_1\": \"US\", \"name\": \"United States o...   2012-07-16  1084939099   \n",
       "\n",
       "   runtime                                   spoken_languages    status  \\\n",
       "0    162.0  [{\"iso_639_1\": \"en\", \"name\": \"English\"}, {\"iso...  Released   \n",
       "1    169.0           [{\"iso_639_1\": \"en\", \"name\": \"English\"}]  Released   \n",
       "2    148.0  [{\"iso_639_1\": \"fr\", \"name\": \"Fran\\u00e7ais\"},...  Released   \n",
       "3    165.0           [{\"iso_639_1\": \"en\", \"name\": \"English\"}]  Released   \n",
       "\n",
       "                                          tagline  \\\n",
       "0                     Enter the World of Pandora.   \n",
       "1  At the end of the world, the adventure begins.   \n",
       "2                           A Plan No One Escapes   \n",
       "3                                 The Legend Ends   \n",
       "\n",
       "                                      title  vote_average  vote_count  \n",
       "0                                    Avatar           7.2       11800  \n",
       "1  Pirates of the Caribbean: At World's End           6.9        4500  \n",
       "2                                   Spectre           6.3        4466  \n",
       "3                     The Dark Knight Rises           7.6        9106  "
      ]
     },
     "metadata": {},
     "output_type": "display_data"
    }
   ],
   "source": [
    "movies.head(4)"
   ]
  },
  {
   "cell_type": "code",
   "execution_count": null,
   "id": "cad2e9d3",
   "metadata": {},
   "outputs": [
    {
     "data": {
      "text/plain": [
       "Index(['movie_id', 'title', 'cast', 'crew'], dtype='object')"
      ]
     },
     "metadata": {},
     "output_type": "display_data"
    }
   ],
   "source": [
    "credits.columns"
   ]
  },
  {
   "cell_type": "code",
   "execution_count": null,
   "id": "545979e6",
   "metadata": {},
   "outputs": [],
   "source": [
    "credits_updated_df = credits.rename(columns={'movie_id': 'id'})"
   ]
  },
  {
   "cell_type": "code",
   "execution_count": null,
   "id": "bc38a171",
   "metadata": {},
   "outputs": [
    {
     "data": {
      "text/html": [
       "<div>\n",
       "<style scoped>\n",
       "    .dataframe tbody tr th:only-of-type {\n",
       "        vertical-align: middle;\n",
       "    }\n",
       "\n",
       "    .dataframe tbody tr th {\n",
       "        vertical-align: top;\n",
       "    }\n",
       "\n",
       "    .dataframe thead th {\n",
       "        text-align: right;\n",
       "    }\n",
       "</style>\n",
       "<table border=\"1\" class=\"dataframe\">\n",
       "  <thead>\n",
       "    <tr style=\"text-align: right;\">\n",
       "      <th></th>\n",
       "      <th>id</th>\n",
       "      <th>title</th>\n",
       "      <th>cast</th>\n",
       "      <th>crew</th>\n",
       "    </tr>\n",
       "  </thead>\n",
       "  <tbody>\n",
       "    <tr>\n",
       "      <th>0</th>\n",
       "      <td>19995</td>\n",
       "      <td>Avatar</td>\n",
       "      <td>[{\"cast_id\": 242, \"character\": \"Jake Sully\", \"...</td>\n",
       "      <td>[{\"credit_id\": \"52fe48009251416c750aca23\", \"de...</td>\n",
       "    </tr>\n",
       "    <tr>\n",
       "      <th>1</th>\n",
       "      <td>285</td>\n",
       "      <td>Pirates of the Caribbean: At World's End</td>\n",
       "      <td>[{\"cast_id\": 4, \"character\": \"Captain Jack Spa...</td>\n",
       "      <td>[{\"credit_id\": \"52fe4232c3a36847f800b579\", \"de...</td>\n",
       "    </tr>\n",
       "    <tr>\n",
       "      <th>2</th>\n",
       "      <td>206647</td>\n",
       "      <td>Spectre</td>\n",
       "      <td>[{\"cast_id\": 1, \"character\": \"James Bond\", \"cr...</td>\n",
       "      <td>[{\"credit_id\": \"54805967c3a36829b5002c41\", \"de...</td>\n",
       "    </tr>\n",
       "    <tr>\n",
       "      <th>3</th>\n",
       "      <td>49026</td>\n",
       "      <td>The Dark Knight Rises</td>\n",
       "      <td>[{\"cast_id\": 2, \"character\": \"Bruce Wayne / Ba...</td>\n",
       "      <td>[{\"credit_id\": \"52fe4781c3a36847f81398c3\", \"de...</td>\n",
       "    </tr>\n",
       "  </tbody>\n",
       "</table>\n",
       "</div>"
      ],
      "text/plain": [
       "       id                                     title  \\\n",
       "0   19995                                    Avatar   \n",
       "1     285  Pirates of the Caribbean: At World's End   \n",
       "2  206647                                   Spectre   \n",
       "3   49026                     The Dark Knight Rises   \n",
       "\n",
       "                                                cast  \\\n",
       "0  [{\"cast_id\": 242, \"character\": \"Jake Sully\", \"...   \n",
       "1  [{\"cast_id\": 4, \"character\": \"Captain Jack Spa...   \n",
       "2  [{\"cast_id\": 1, \"character\": \"James Bond\", \"cr...   \n",
       "3  [{\"cast_id\": 2, \"character\": \"Bruce Wayne / Ba...   \n",
       "\n",
       "                                                crew  \n",
       "0  [{\"credit_id\": \"52fe48009251416c750aca23\", \"de...  \n",
       "1  [{\"credit_id\": \"52fe4232c3a36847f800b579\", \"de...  \n",
       "2  [{\"credit_id\": \"54805967c3a36829b5002c41\", \"de...  \n",
       "3  [{\"credit_id\": \"52fe4781c3a36847f81398c3\", \"de...  "
      ]
     },
     "metadata": {},
     "output_type": "display_data"
    }
   ],
   "source": [
    "credits_updated_df.head(4)"
   ]
  },
  {
   "cell_type": "code",
   "execution_count": null,
   "id": "00f1a1cb",
   "metadata": {},
   "outputs": [
    {
     "data": {
      "text/plain": [
       "(4803, 20)"
      ]
     },
     "metadata": {},
     "output_type": "display_data"
    }
   ],
   "source": [
    "movies.shape"
   ]
  },
  {
   "cell_type": "code",
   "execution_count": null,
   "id": "533991ed",
   "metadata": {},
   "outputs": [
    {
     "data": {
      "text/plain": [
       "(4803, 4)"
      ]
     },
     "metadata": {},
     "output_type": "display_data"
    }
   ],
   "source": [
    "credits_updated_df.shape"
   ]
  },
  {
   "cell_type": "code",
   "execution_count": null,
   "id": "cfc903c7",
   "metadata": {},
   "outputs": [],
   "source": [
    "movies_credits_merge = movies.merge(credits_updated_df, on='id')"
   ]
  },
  {
   "cell_type": "code",
   "execution_count": null,
   "id": "ba454074",
   "metadata": {},
   "outputs": [
    {
     "data": {
      "text/plain": [
       "(4803, 23)"
      ]
     },
     "metadata": {},
     "output_type": "display_data"
    }
   ],
   "source": [
    "movies_credits_merge.shape"
   ]
  },
  {
   "cell_type": "code",
   "execution_count": null,
   "id": "e164b557",
   "metadata": {},
   "outputs": [
    {
     "data": {
      "text/plain": [
       "Index(['budget', 'genres', 'homepage', 'id', 'keywords', 'original_language',\n",
       "       'original_title', 'overview', 'popularity', 'production_companies',\n",
       "       'production_countries', 'release_date', 'revenue', 'runtime',\n",
       "       'spoken_languages', 'status', 'tagline', 'title_x', 'vote_average',\n",
       "       'vote_count', 'title_y', 'cast', 'crew'],\n",
       "      dtype='object')"
      ]
     },
     "metadata": {},
     "output_type": "display_data"
    }
   ],
   "source": [
    "movies_credits_merge.columns"
   ]
  },
  {
   "cell_type": "code",
   "execution_count": null,
   "id": "c674f0c3",
   "metadata": {},
   "outputs": [],
   "source": [
    "movies_cleaned_df = movies_credits_merge.drop(columns=[\"homepage\",\"title_x\",\"title_y\",\"production_countries\",\"status\"])"
   ]
  },
  {
   "cell_type": "code",
   "execution_count": null,
   "id": "6da4e042",
   "metadata": {},
   "outputs": [
    {
     "data": {
      "text/html": [
       "<div>\n",
       "<style scoped>\n",
       "    .dataframe tbody tr th:only-of-type {\n",
       "        vertical-align: middle;\n",
       "    }\n",
       "\n",
       "    .dataframe tbody tr th {\n",
       "        vertical-align: top;\n",
       "    }\n",
       "\n",
       "    .dataframe thead th {\n",
       "        text-align: right;\n",
       "    }\n",
       "</style>\n",
       "<table border=\"1\" class=\"dataframe\">\n",
       "  <thead>\n",
       "    <tr style=\"text-align: right;\">\n",
       "      <th></th>\n",
       "      <th>budget</th>\n",
       "      <th>genres</th>\n",
       "      <th>id</th>\n",
       "      <th>keywords</th>\n",
       "      <th>original_language</th>\n",
       "      <th>original_title</th>\n",
       "      <th>overview</th>\n",
       "      <th>popularity</th>\n",
       "      <th>production_companies</th>\n",
       "      <th>release_date</th>\n",
       "      <th>revenue</th>\n",
       "      <th>runtime</th>\n",
       "      <th>spoken_languages</th>\n",
       "      <th>tagline</th>\n",
       "      <th>vote_average</th>\n",
       "      <th>vote_count</th>\n",
       "      <th>cast</th>\n",
       "      <th>crew</th>\n",
       "    </tr>\n",
       "  </thead>\n",
       "  <tbody>\n",
       "    <tr>\n",
       "      <th>0</th>\n",
       "      <td>237000000</td>\n",
       "      <td>[{\"id\": 28, \"name\": \"Action\"}, {\"id\": 12, \"nam...</td>\n",
       "      <td>19995</td>\n",
       "      <td>[{\"id\": 1463, \"name\": \"culture clash\"}, {\"id\":...</td>\n",
       "      <td>en</td>\n",
       "      <td>Avatar</td>\n",
       "      <td>In the 22nd century, a paraplegic Marine is di...</td>\n",
       "      <td>150.437577</td>\n",
       "      <td>[{\"name\": \"Ingenious Film Partners\", \"id\": 289...</td>\n",
       "      <td>2009-12-10</td>\n",
       "      <td>2787965087</td>\n",
       "      <td>162.0</td>\n",
       "      <td>[{\"iso_639_1\": \"en\", \"name\": \"English\"}, {\"iso...</td>\n",
       "      <td>Enter the World of Pandora.</td>\n",
       "      <td>7.2</td>\n",
       "      <td>11800</td>\n",
       "      <td>[{\"cast_id\": 242, \"character\": \"Jake Sully\", \"...</td>\n",
       "      <td>[{\"credit_id\": \"52fe48009251416c750aca23\", \"de...</td>\n",
       "    </tr>\n",
       "    <tr>\n",
       "      <th>1</th>\n",
       "      <td>300000000</td>\n",
       "      <td>[{\"id\": 12, \"name\": \"Adventure\"}, {\"id\": 14, \"...</td>\n",
       "      <td>285</td>\n",
       "      <td>[{\"id\": 270, \"name\": \"ocean\"}, {\"id\": 726, \"na...</td>\n",
       "      <td>en</td>\n",
       "      <td>Pirates of the Caribbean: At World's End</td>\n",
       "      <td>Captain Barbossa, long believed to be dead, ha...</td>\n",
       "      <td>139.082615</td>\n",
       "      <td>[{\"name\": \"Walt Disney Pictures\", \"id\": 2}, {\"...</td>\n",
       "      <td>2007-05-19</td>\n",
       "      <td>961000000</td>\n",
       "      <td>169.0</td>\n",
       "      <td>[{\"iso_639_1\": \"en\", \"name\": \"English\"}]</td>\n",
       "      <td>At the end of the world, the adventure begins.</td>\n",
       "      <td>6.9</td>\n",
       "      <td>4500</td>\n",
       "      <td>[{\"cast_id\": 4, \"character\": \"Captain Jack Spa...</td>\n",
       "      <td>[{\"credit_id\": \"52fe4232c3a36847f800b579\", \"de...</td>\n",
       "    </tr>\n",
       "  </tbody>\n",
       "</table>\n",
       "</div>"
      ],
      "text/plain": [
       "      budget                                             genres     id  \\\n",
       "0  237000000  [{\"id\": 28, \"name\": \"Action\"}, {\"id\": 12, \"nam...  19995   \n",
       "1  300000000  [{\"id\": 12, \"name\": \"Adventure\"}, {\"id\": 14, \"...    285   \n",
       "\n",
       "                                            keywords original_language  \\\n",
       "0  [{\"id\": 1463, \"name\": \"culture clash\"}, {\"id\":...                en   \n",
       "1  [{\"id\": 270, \"name\": \"ocean\"}, {\"id\": 726, \"na...                en   \n",
       "\n",
       "                             original_title  \\\n",
       "0                                    Avatar   \n",
       "1  Pirates of the Caribbean: At World's End   \n",
       "\n",
       "                                            overview  popularity  \\\n",
       "0  In the 22nd century, a paraplegic Marine is di...  150.437577   \n",
       "1  Captain Barbossa, long believed to be dead, ha...  139.082615   \n",
       "\n",
       "                                production_companies release_date     revenue  \\\n",
       "0  [{\"name\": \"Ingenious Film Partners\", \"id\": 289...   2009-12-10  2787965087   \n",
       "1  [{\"name\": \"Walt Disney Pictures\", \"id\": 2}, {\"...   2007-05-19   961000000   \n",
       "\n",
       "   runtime                                   spoken_languages  \\\n",
       "0    162.0  [{\"iso_639_1\": \"en\", \"name\": \"English\"}, {\"iso...   \n",
       "1    169.0           [{\"iso_639_1\": \"en\", \"name\": \"English\"}]   \n",
       "\n",
       "                                          tagline  vote_average  vote_count  \\\n",
       "0                     Enter the World of Pandora.           7.2       11800   \n",
       "1  At the end of the world, the adventure begins.           6.9        4500   \n",
       "\n",
       "                                                cast  \\\n",
       "0  [{\"cast_id\": 242, \"character\": \"Jake Sully\", \"...   \n",
       "1  [{\"cast_id\": 4, \"character\": \"Captain Jack Spa...   \n",
       "\n",
       "                                                crew  \n",
       "0  [{\"credit_id\": \"52fe48009251416c750aca23\", \"de...  \n",
       "1  [{\"credit_id\": \"52fe4232c3a36847f800b579\", \"de...  "
      ]
     },
     "metadata": {},
     "output_type": "display_data"
    }
   ],
   "source": [
    "movies_cleaned_df.head(2)"
   ]
  },
  {
   "cell_type": "code",
   "execution_count": null,
   "id": "982fc9e3",
   "metadata": {},
   "outputs": [
    {
     "data": {
      "text/plain": [
       "Index(['budget', 'genres', 'id', 'keywords', 'original_language',\n",
       "       'original_title', 'overview', 'popularity', 'production_companies',\n",
       "       'release_date', 'revenue', 'runtime', 'spoken_languages', 'tagline',\n",
       "       'vote_average', 'vote_count', 'cast', 'crew'],\n",
       "      dtype='object')"
      ]
     },
     "metadata": {},
     "output_type": "display_data"
    }
   ],
   "source": [
    "movies_cleaned_df.columns"
   ]
  },
  {
   "cell_type": "markdown",
   "id": "8aef82eb",
   "metadata": {},
   "source": [
    "### Removing outliers for our movie recommender model"
   ]
  },
  {
   "cell_type": "code",
   "execution_count": null,
   "id": "7acd6b7a",
   "metadata": {},
   "outputs": [],
   "source": [
    "V = movies_cleaned_df['vote_count']\n",
    "R = movies_cleaned_df['vote_average']\n",
    "C = movies_cleaned_df['vote_average'].mean()"
   ]
  },
  {
   "cell_type": "code",
   "execution_count": null,
   "id": "0737f221",
   "metadata": {},
   "outputs": [
    {
     "data": {
      "text/plain": [
       "np.float64(6.092171559442016)"
      ]
     },
     "metadata": {},
     "output_type": "display_data"
    }
   ],
   "source": [
    "C"
   ]
  },
  {
   "cell_type": "code",
   "execution_count": null,
   "id": "eaeeefed",
   "metadata": {},
   "outputs": [
    {
     "data": {
      "text/html": [
       "<div>\n",
       "<style scoped>\n",
       "    .dataframe tbody tr th:only-of-type {\n",
       "        vertical-align: middle;\n",
       "    }\n",
       "\n",
       "    .dataframe tbody tr th {\n",
       "        vertical-align: top;\n",
       "    }\n",
       "\n",
       "    .dataframe thead th {\n",
       "        text-align: right;\n",
       "    }\n",
       "</style>\n",
       "<table border=\"1\" class=\"dataframe\">\n",
       "  <thead>\n",
       "    <tr style=\"text-align: right;\">\n",
       "      <th></th>\n",
       "      <th>original_title</th>\n",
       "      <th>vote_average</th>\n",
       "      <th>vote_count</th>\n",
       "    </tr>\n",
       "  </thead>\n",
       "  <tbody>\n",
       "    <tr>\n",
       "      <th>0</th>\n",
       "      <td>Avatar</td>\n",
       "      <td>7.2</td>\n",
       "      <td>11800</td>\n",
       "    </tr>\n",
       "    <tr>\n",
       "      <th>1</th>\n",
       "      <td>Pirates of the Caribbean: At World's End</td>\n",
       "      <td>6.9</td>\n",
       "      <td>4500</td>\n",
       "    </tr>\n",
       "    <tr>\n",
       "      <th>2</th>\n",
       "      <td>Spectre</td>\n",
       "      <td>6.3</td>\n",
       "      <td>4466</td>\n",
       "    </tr>\n",
       "    <tr>\n",
       "      <th>3</th>\n",
       "      <td>The Dark Knight Rises</td>\n",
       "      <td>7.6</td>\n",
       "      <td>9106</td>\n",
       "    </tr>\n",
       "    <tr>\n",
       "      <th>4</th>\n",
       "      <td>John Carter</td>\n",
       "      <td>6.1</td>\n",
       "      <td>2124</td>\n",
       "    </tr>\n",
       "    <tr>\n",
       "      <th>...</th>\n",
       "      <td>...</td>\n",
       "      <td>...</td>\n",
       "      <td>...</td>\n",
       "    </tr>\n",
       "    <tr>\n",
       "      <th>4798</th>\n",
       "      <td>El Mariachi</td>\n",
       "      <td>6.6</td>\n",
       "      <td>238</td>\n",
       "    </tr>\n",
       "    <tr>\n",
       "      <th>4799</th>\n",
       "      <td>Newlyweds</td>\n",
       "      <td>5.9</td>\n",
       "      <td>5</td>\n",
       "    </tr>\n",
       "    <tr>\n",
       "      <th>4800</th>\n",
       "      <td>Signed, Sealed, Delivered</td>\n",
       "      <td>7.0</td>\n",
       "      <td>6</td>\n",
       "    </tr>\n",
       "    <tr>\n",
       "      <th>4801</th>\n",
       "      <td>Shanghai Calling</td>\n",
       "      <td>5.7</td>\n",
       "      <td>7</td>\n",
       "    </tr>\n",
       "    <tr>\n",
       "      <th>4802</th>\n",
       "      <td>My Date with Drew</td>\n",
       "      <td>6.3</td>\n",
       "      <td>16</td>\n",
       "    </tr>\n",
       "  </tbody>\n",
       "</table>\n",
       "<p>4803 rows × 3 columns</p>\n",
       "</div>"
      ],
      "text/plain": [
       "                                original_title  vote_average  vote_count\n",
       "0                                       Avatar           7.2       11800\n",
       "1     Pirates of the Caribbean: At World's End           6.9        4500\n",
       "2                                      Spectre           6.3        4466\n",
       "3                        The Dark Knight Rises           7.6        9106\n",
       "4                                  John Carter           6.1        2124\n",
       "...                                        ...           ...         ...\n",
       "4798                               El Mariachi           6.6         238\n",
       "4799                                 Newlyweds           5.9           5\n",
       "4800                 Signed, Sealed, Delivered           7.0           6\n",
       "4801                          Shanghai Calling           5.7           7\n",
       "4802                         My Date with Drew           6.3          16\n",
       "\n",
       "[4803 rows x 3 columns]"
      ]
     },
     "metadata": {},
     "output_type": "display_data"
    }
   ],
   "source": [
    "movies_cleaned_df[['original_title', 'vote_average', 'vote_count']]"
   ]
  },
  {
   "cell_type": "code",
   "execution_count": null,
   "id": "12a49818",
   "metadata": {},
   "outputs": [
    {
     "data": {
      "text/plain": [
       "<Axes: xlabel='vote_count'>"
      ]
     },
     "metadata": {},
     "output_type": "display_data"
    },
    {
     "data": {
      "image/png": "[encoded data removed]",
      "text/plain": [
       "<Figure size 640x480 with 1 Axes>"
      ]
     },
     "metadata": {},
     "output_type": "display_data"
    }
   ],
   "source": [
    "sns.boxplot(data=movies_cleaned_df, x='vote_count')"
   ]
  },
  {
   "cell_type": "code",
   "execution_count": null,
   "id": "56f30596",
   "metadata": {},
   "outputs": [],
   "source": [
    "threshold = movies_cleaned_df['vote_count'].quantile(q=0.9)"
   ]
  },
  {
   "cell_type": "code",
   "execution_count": null,
   "id": "2d8a0d98",
   "metadata": {},
   "outputs": [],
   "source": [
    "m = threshold"
   ]
  },
  {
   "cell_type": "code",
   "execution_count": null,
   "id": "f5860d00",
   "metadata": {},
   "outputs": [
    {
     "data": {
      "text/plain": [
       "np.float64(1838.4000000000015)"
      ]
     },
     "metadata": {},
     "output_type": "display_data"
    }
   ],
   "source": [
    "m"
   ]
  },
  {
   "cell_type": "code",
   "execution_count": null,
   "id": "75939262",
   "metadata": {},
   "outputs": [],
   "source": [
    "filtered_df =movies_cleaned_df[movies_cleaned_df['vote_count']>=threshold]"
   ]
  },
  {
   "cell_type": "code",
   "execution_count": null,
   "id": "647dcb2f",
   "metadata": {},
   "outputs": [
    {
     "data": {
      "text/html": [
       "<div>\n",
       "<style scoped>\n",
       "    .dataframe tbody tr th:only-of-type {\n",
       "        vertical-align: middle;\n",
       "    }\n",
       "\n",
       "    .dataframe tbody tr th {\n",
       "        vertical-align: top;\n",
       "    }\n",
       "\n",
       "    .dataframe thead th {\n",
       "        text-align: right;\n",
       "    }\n",
       "</style>\n",
       "<table border=\"1\" class=\"dataframe\">\n",
       "  <thead>\n",
       "    <tr style=\"text-align: right;\">\n",
       "      <th></th>\n",
       "      <th>budget</th>\n",
       "      <th>genres</th>\n",
       "      <th>id</th>\n",
       "      <th>keywords</th>\n",
       "      <th>original_language</th>\n",
       "      <th>original_title</th>\n",
       "      <th>overview</th>\n",
       "      <th>popularity</th>\n",
       "      <th>production_companies</th>\n",
       "      <th>release_date</th>\n",
       "      <th>revenue</th>\n",
       "      <th>runtime</th>\n",
       "      <th>spoken_languages</th>\n",
       "      <th>tagline</th>\n",
       "      <th>vote_average</th>\n",
       "      <th>vote_count</th>\n",
       "      <th>cast</th>\n",
       "      <th>crew</th>\n",
       "    </tr>\n",
       "  </thead>\n",
       "  <tbody>\n",
       "    <tr>\n",
       "      <th>0</th>\n",
       "      <td>237000000</td>\n",
       "      <td>[{\"id\": 28, \"name\": \"Action\"}, {\"id\": 12, \"nam...</td>\n",
       "      <td>19995</td>\n",
       "      <td>[{\"id\": 1463, \"name\": \"culture clash\"}, {\"id\":...</td>\n",
       "      <td>en</td>\n",
       "      <td>Avatar</td>\n",
       "      <td>In the 22nd century, a paraplegic Marine is di...</td>\n",
       "      <td>150.437577</td>\n",
       "      <td>[{\"name\": \"Ingenious Film Partners\", \"id\": 289...</td>\n",
       "      <td>2009-12-10</td>\n",
       "      <td>2787965087</td>\n",
       "      <td>162.0</td>\n",
       "      <td>[{\"iso_639_1\": \"en\", \"name\": \"English\"}, {\"iso...</td>\n",
       "      <td>Enter the World of Pandora.</td>\n",
       "      <td>7.2</td>\n",
       "      <td>11800</td>\n",
       "      <td>[{\"cast_id\": 242, \"character\": \"Jake Sully\", \"...</td>\n",
       "      <td>[{\"credit_id\": \"52fe48009251416c750aca23\", \"de...</td>\n",
       "    </tr>\n",
       "    <tr>\n",
       "      <th>1</th>\n",
       "      <td>300000000</td>\n",
       "      <td>[{\"id\": 12, \"name\": \"Adventure\"}, {\"id\": 14, \"...</td>\n",
       "      <td>285</td>\n",
       "      <td>[{\"id\": 270, \"name\": \"ocean\"}, {\"id\": 726, \"na...</td>\n",
       "      <td>en</td>\n",
       "      <td>Pirates of the Caribbean: At World's End</td>\n",
       "      <td>Captain Barbossa, long believed to be dead, ha...</td>\n",
       "      <td>139.082615</td>\n",
       "      <td>[{\"name\": \"Walt Disney Pictures\", \"id\": 2}, {\"...</td>\n",
       "      <td>2007-05-19</td>\n",
       "      <td>961000000</td>\n",
       "      <td>169.0</td>\n",
       "      <td>[{\"iso_639_1\": \"en\", \"name\": \"English\"}]</td>\n",
       "      <td>At the end of the world, the adventure begins.</td>\n",
       "      <td>6.9</td>\n",
       "      <td>4500</td>\n",
       "      <td>[{\"cast_id\": 4, \"character\": \"Captain Jack Spa...</td>\n",
       "      <td>[{\"credit_id\": \"52fe4232c3a36847f800b579\", \"de...</td>\n",
       "    </tr>\n",
       "    <tr>\n",
       "      <th>2</th>\n",
       "      <td>245000000</td>\n",
       "      <td>[{\"id\": 28, \"name\": \"Action\"}, {\"id\": 12, \"nam...</td>\n",
       "      <td>206647</td>\n",
       "      <td>[{\"id\": 470, \"name\": \"spy\"}, {\"id\": 818, \"name...</td>\n",
       "      <td>en</td>\n",
       "      <td>Spectre</td>\n",
       "      <td>A cryptic message from Bond’s past sends him o...</td>\n",
       "      <td>107.376788</td>\n",
       "      <td>[{\"name\": \"Columbia Pictures\", \"id\": 5}, {\"nam...</td>\n",
       "      <td>2015-10-26</td>\n",
       "      <td>880674609</td>\n",
       "      <td>148.0</td>\n",
       "      <td>[{\"iso_639_1\": \"fr\", \"name\": \"Fran\\u00e7ais\"},...</td>\n",
       "      <td>A Plan No One Escapes</td>\n",
       "      <td>6.3</td>\n",
       "      <td>4466</td>\n",
       "      <td>[{\"cast_id\": 1, \"character\": \"James Bond\", \"cr...</td>\n",
       "      <td>[{\"credit_id\": \"54805967c3a36829b5002c41\", \"de...</td>\n",
       "    </tr>\n",
       "    <tr>\n",
       "      <th>3</th>\n",
       "      <td>250000000</td>\n",
       "      <td>[{\"id\": 28, \"name\": \"Action\"}, {\"id\": 80, \"nam...</td>\n",
       "      <td>49026</td>\n",
       "      <td>[{\"id\": 849, \"name\": \"dc comics\"}, {\"id\": 853,...</td>\n",
       "      <td>en</td>\n",
       "      <td>The Dark Knight Rises</td>\n",
       "      <td>Following the death of District Attorney Harve...</td>\n",
       "      <td>112.312950</td>\n",
       "      <td>[{\"name\": \"Legendary Pictures\", \"id\": 923}, {\"...</td>\n",
       "      <td>2012-07-16</td>\n",
       "      <td>1084939099</td>\n",
       "      <td>165.0</td>\n",
       "      <td>[{\"iso_639_1\": \"en\", \"name\": \"English\"}]</td>\n",
       "      <td>The Legend Ends</td>\n",
       "      <td>7.6</td>\n",
       "      <td>9106</td>\n",
       "      <td>[{\"cast_id\": 2, \"character\": \"Bruce Wayne / Ba...</td>\n",
       "      <td>[{\"credit_id\": \"52fe4781c3a36847f81398c3\", \"de...</td>\n",
       "    </tr>\n",
       "    <tr>\n",
       "      <th>4</th>\n",
       "      <td>260000000</td>\n",
       "      <td>[{\"id\": 28, \"name\": \"Action\"}, {\"id\": 12, \"nam...</td>\n",
       "      <td>49529</td>\n",
       "      <td>[{\"id\": 818, \"name\": \"based on novel\"}, {\"id\":...</td>\n",
       "      <td>en</td>\n",
       "      <td>John Carter</td>\n",
       "      <td>John Carter is a war-weary, former military ca...</td>\n",
       "      <td>43.926995</td>\n",
       "      <td>[{\"name\": \"Walt Disney Pictures\", \"id\": 2}]</td>\n",
       "      <td>2012-03-07</td>\n",
       "      <td>284139100</td>\n",
       "      <td>132.0</td>\n",
       "      <td>[{\"iso_639_1\": \"en\", \"name\": \"English\"}]</td>\n",
       "      <td>Lost in our world, found in another.</td>\n",
       "      <td>6.1</td>\n",
       "      <td>2124</td>\n",
       "      <td>[{\"cast_id\": 5, \"character\": \"John Carter\", \"c...</td>\n",
       "      <td>[{\"credit_id\": \"52fe479ac3a36847f813eaa3\", \"de...</td>\n",
       "    </tr>\n",
       "    <tr>\n",
       "      <th>...</th>\n",
       "      <td>...</td>\n",
       "      <td>...</td>\n",
       "      <td>...</td>\n",
       "      <td>...</td>\n",
       "      <td>...</td>\n",
       "      <td>...</td>\n",
       "      <td>...</td>\n",
       "      <td>...</td>\n",
       "      <td>...</td>\n",
       "      <td>...</td>\n",
       "      <td>...</td>\n",
       "      <td>...</td>\n",
       "      <td>...</td>\n",
       "      <td>...</td>\n",
       "      <td>...</td>\n",
       "      <td>...</td>\n",
       "      <td>...</td>\n",
       "      <td>...</td>\n",
       "    </tr>\n",
       "    <tr>\n",
       "      <th>4291</th>\n",
       "      <td>1200000</td>\n",
       "      <td>[{\"id\": 27, \"name\": \"Horror\"}, {\"id\": 9648, \"n...</td>\n",
       "      <td>176</td>\n",
       "      <td>[{\"id\": 1366, \"name\": \"shotgun\"}, {\"id\": 13000...</td>\n",
       "      <td>en</td>\n",
       "      <td>Saw</td>\n",
       "      <td>Obsessed with teaching his victims the value o...</td>\n",
       "      <td>63.655973</td>\n",
       "      <td>[{\"name\": \"Lions Gate Films\", \"id\": 35}, {\"nam...</td>\n",
       "      <td>2004-10-01</td>\n",
       "      <td>103911669</td>\n",
       "      <td>103.0</td>\n",
       "      <td>[{\"iso_639_1\": \"en\", \"name\": \"English\"}]</td>\n",
       "      <td>Live or die. Make your choice.</td>\n",
       "      <td>7.2</td>\n",
       "      <td>2184</td>\n",
       "      <td>[{\"cast_id\": 4, \"character\": \"Dr. Lawrence Gor...</td>\n",
       "      <td>[{\"credit_id\": \"52fe4223c3a36847f8006c57\", \"de...</td>\n",
       "    </tr>\n",
       "    <tr>\n",
       "      <th>4300</th>\n",
       "      <td>1200000</td>\n",
       "      <td>[{\"id\": 80, \"name\": \"Crime\"}, {\"id\": 53, \"name...</td>\n",
       "      <td>500</td>\n",
       "      <td>[{\"id\": 2052, \"name\": \"traitor\"}, {\"id\": 6099,...</td>\n",
       "      <td>en</td>\n",
       "      <td>Reservoir Dogs</td>\n",
       "      <td>A botched robbery indicates a police informant...</td>\n",
       "      <td>66.925866</td>\n",
       "      <td>[{\"name\": \"Live Entertainment\", \"id\": 285}, {\"...</td>\n",
       "      <td>1992-09-02</td>\n",
       "      <td>14661007</td>\n",
       "      <td>99.0</td>\n",
       "      <td>[{\"iso_639_1\": \"en\", \"name\": \"English\"}]</td>\n",
       "      <td>Every dog has his day.</td>\n",
       "      <td>8.0</td>\n",
       "      <td>3697</td>\n",
       "      <td>[{\"cast_id\": 20, \"character\": \"Mr. White/Larry...</td>\n",
       "      <td>[{\"credit_id\": \"52fe424ac3a36847f8012cb9\", \"de...</td>\n",
       "    </tr>\n",
       "    <tr>\n",
       "      <th>4302</th>\n",
       "      <td>1200000</td>\n",
       "      <td>[{\"id\": 37, \"name\": \"Western\"}]</td>\n",
       "      <td>429</td>\n",
       "      <td>[{\"id\": 801, \"name\": \"bounty hunter\"}, {\"id\": ...</td>\n",
       "      <td>it</td>\n",
       "      <td>Il buono, il brutto, il cattivo</td>\n",
       "      <td>While the Civil War rages between the Union an...</td>\n",
       "      <td>88.377076</td>\n",
       "      <td>[{\"name\": \"United Artists\", \"id\": 60}, {\"name\"...</td>\n",
       "      <td>1966-12-23</td>\n",
       "      <td>6000000</td>\n",
       "      <td>161.0</td>\n",
       "      <td>[{\"iso_639_1\": \"it\", \"name\": \"Italiano\"}]</td>\n",
       "      <td>For three men the Civil War wasn't hell. It wa...</td>\n",
       "      <td>8.1</td>\n",
       "      <td>2311</td>\n",
       "      <td>[{\"cast_id\": 6, \"character\": \"Tuco\", \"credit_i...</td>\n",
       "      <td>[{\"credit_id\": \"575aee00c3a3682d10000281\", \"de...</td>\n",
       "    </tr>\n",
       "    <tr>\n",
       "      <th>4337</th>\n",
       "      <td>1300000</td>\n",
       "      <td>[{\"id\": 80, \"name\": \"Crime\"}, {\"id\": 18, \"name...</td>\n",
       "      <td>103</td>\n",
       "      <td>[{\"id\": 422, \"name\": \"vietnam veteran\"}, {\"id\"...</td>\n",
       "      <td>en</td>\n",
       "      <td>Taxi Driver</td>\n",
       "      <td>A mentally unstable Vietnam War veteran works ...</td>\n",
       "      <td>58.845025</td>\n",
       "      <td>[{\"name\": \"Columbia Pictures Corporation\", \"id...</td>\n",
       "      <td>1976-02-07</td>\n",
       "      <td>28262574</td>\n",
       "      <td>114.0</td>\n",
       "      <td>[{\"iso_639_1\": \"en\", \"name\": \"English\"}, {\"iso...</td>\n",
       "      <td>On every street in every city, there's a nobod...</td>\n",
       "      <td>8.0</td>\n",
       "      <td>2535</td>\n",
       "      <td>[{\"cast_id\": 5, \"character\": \"Travis Bickle\", ...</td>\n",
       "      <td>[{\"credit_id\": \"52fe4218c3a36847f8003803\", \"de...</td>\n",
       "    </tr>\n",
       "    <tr>\n",
       "      <th>4602</th>\n",
       "      <td>350000</td>\n",
       "      <td>[{\"id\": 18, \"name\": \"Drama\"}]</td>\n",
       "      <td>389</td>\n",
       "      <td>[{\"id\": 934, \"name\": \"judge\"}, {\"id\": 1417, \"n...</td>\n",
       "      <td>en</td>\n",
       "      <td>12 Angry Men</td>\n",
       "      <td>The defense and the prosecution have rested an...</td>\n",
       "      <td>59.259204</td>\n",
       "      <td>[{\"name\": \"United Artists\", \"id\": 60}, {\"name\"...</td>\n",
       "      <td>1957-03-25</td>\n",
       "      <td>1000000</td>\n",
       "      <td>96.0</td>\n",
       "      <td>[{\"iso_639_1\": \"en\", \"name\": \"English\"}]</td>\n",
       "      <td>Life is in their hands. Death is on their minds.</td>\n",
       "      <td>8.2</td>\n",
       "      <td>2078</td>\n",
       "      <td>[{\"cast_id\": 29, \"character\": \"Juror 8\", \"cred...</td>\n",
       "      <td>[{\"credit_id\": \"52fe423dc3a36847f800ec55\", \"de...</td>\n",
       "    </tr>\n",
       "  </tbody>\n",
       "</table>\n",
       "<p>481 rows × 18 columns</p>\n",
       "</div>"
      ],
      "text/plain": [
       "         budget                                             genres      id  \\\n",
       "0     237000000  [{\"id\": 28, \"name\": \"Action\"}, {\"id\": 12, \"nam...   19995   \n",
       "1     300000000  [{\"id\": 12, \"name\": \"Adventure\"}, {\"id\": 14, \"...     285   \n",
       "2     245000000  [{\"id\": 28, \"name\": \"Action\"}, {\"id\": 12, \"nam...  206647   \n",
       "3     250000000  [{\"id\": 28, \"name\": \"Action\"}, {\"id\": 80, \"nam...   49026   \n",
       "4     260000000  [{\"id\": 28, \"name\": \"Action\"}, {\"id\": 12, \"nam...   49529   \n",
       "...         ...                                                ...     ...   \n",
       "4291    1200000  [{\"id\": 27, \"name\": \"Horror\"}, {\"id\": 9648, \"n...     176   \n",
       "4300    1200000  [{\"id\": 80, \"name\": \"Crime\"}, {\"id\": 53, \"name...     500   \n",
       "4302    1200000                    [{\"id\": 37, \"name\": \"Western\"}]     429   \n",
       "4337    1300000  [{\"id\": 80, \"name\": \"Crime\"}, {\"id\": 18, \"name...     103   \n",
       "4602     350000                      [{\"id\": 18, \"name\": \"Drama\"}]     389   \n",
       "\n",
       "                                               keywords original_language  \\\n",
       "0     [{\"id\": 1463, \"name\": \"culture clash\"}, {\"id\":...                en   \n",
       "1     [{\"id\": 270, \"name\": \"ocean\"}, {\"id\": 726, \"na...                en   \n",
       "2     [{\"id\": 470, \"name\": \"spy\"}, {\"id\": 818, \"name...                en   \n",
       "3     [{\"id\": 849, \"name\": \"dc comics\"}, {\"id\": 853,...                en   \n",
       "4     [{\"id\": 818, \"name\": \"based on novel\"}, {\"id\":...                en   \n",
       "...                                                 ...               ...   \n",
       "4291  [{\"id\": 1366, \"name\": \"shotgun\"}, {\"id\": 13000...                en   \n",
       "4300  [{\"id\": 2052, \"name\": \"traitor\"}, {\"id\": 6099,...                en   \n",
       "4302  [{\"id\": 801, \"name\": \"bounty hunter\"}, {\"id\": ...                it   \n",
       "4337  [{\"id\": 422, \"name\": \"vietnam veteran\"}, {\"id\"...                en   \n",
       "4602  [{\"id\": 934, \"name\": \"judge\"}, {\"id\": 1417, \"n...                en   \n",
       "\n",
       "                                original_title  \\\n",
       "0                                       Avatar   \n",
       "1     Pirates of the Caribbean: At World's End   \n",
       "2                                      Spectre   \n",
       "3                        The Dark Knight Rises   \n",
       "4                                  John Carter   \n",
       "...                                        ...   \n",
       "4291                                       Saw   \n",
       "4300                            Reservoir Dogs   \n",
       "4302           Il buono, il brutto, il cattivo   \n",
       "4337                               Taxi Driver   \n",
       "4602                              12 Angry Men   \n",
       "\n",
       "                                               overview  popularity  \\\n",
       "0     In the 22nd century, a paraplegic Marine is di...  150.437577   \n",
       "1     Captain Barbossa, long believed to be dead, ha...  139.082615   \n",
       "2     A cryptic message from Bond’s past sends him o...  107.376788   \n",
       "3     Following the death of District Attorney Harve...  112.312950   \n",
       "4     John Carter is a war-weary, former military ca...   43.926995   \n",
       "...                                                 ...         ...   \n",
       "4291  Obsessed with teaching his victims the value o...   63.655973   \n",
       "4300  A botched robbery indicates a police informant...   66.925866   \n",
       "4302  While the Civil War rages between the Union an...   88.377076   \n",
       "4337  A mentally unstable Vietnam War veteran works ...   58.845025   \n",
       "4602  The defense and the prosecution have rested an...   59.259204   \n",
       "\n",
       "                                   production_companies release_date  \\\n",
       "0     [{\"name\": \"Ingenious Film Partners\", \"id\": 289...   2009-12-10   \n",
       "1     [{\"name\": \"Walt Disney Pictures\", \"id\": 2}, {\"...   2007-05-19   \n",
       "2     [{\"name\": \"Columbia Pictures\", \"id\": 5}, {\"nam...   2015-10-26   \n",
       "3     [{\"name\": \"Legendary Pictures\", \"id\": 923}, {\"...   2012-07-16   \n",
       "4           [{\"name\": \"Walt Disney Pictures\", \"id\": 2}]   2012-03-07   \n",
       "...                                                 ...          ...   \n",
       "4291  [{\"name\": \"Lions Gate Films\", \"id\": 35}, {\"nam...   2004-10-01   \n",
       "4300  [{\"name\": \"Live Entertainment\", \"id\": 285}, {\"...   1992-09-02   \n",
       "4302  [{\"name\": \"United Artists\", \"id\": 60}, {\"name\"...   1966-12-23   \n",
       "4337  [{\"name\": \"Columbia Pictures Corporation\", \"id...   1976-02-07   \n",
       "4602  [{\"name\": \"United Artists\", \"id\": 60}, {\"name\"...   1957-03-25   \n",
       "\n",
       "         revenue  runtime                                   spoken_languages  \\\n",
       "0     2787965087    162.0  [{\"iso_639_1\": \"en\", \"name\": \"English\"}, {\"iso...   \n",
       "1      961000000    169.0           [{\"iso_639_1\": \"en\", \"name\": \"English\"}]   \n",
       "2      880674609    148.0  [{\"iso_639_1\": \"fr\", \"name\": \"Fran\\u00e7ais\"},...   \n",
       "3     1084939099    165.0           [{\"iso_639_1\": \"en\", \"name\": \"English\"}]   \n",
       "4      284139100    132.0           [{\"iso_639_1\": \"en\", \"name\": \"English\"}]   \n",
       "...          ...      ...                                                ...   \n",
       "4291   103911669    103.0           [{\"iso_639_1\": \"en\", \"name\": \"English\"}]   \n",
       "4300    14661007     99.0           [{\"iso_639_1\": \"en\", \"name\": \"English\"}]   \n",
       "4302     6000000    161.0          [{\"iso_639_1\": \"it\", \"name\": \"Italiano\"}]   \n",
       "4337    28262574    114.0  [{\"iso_639_1\": \"en\", \"name\": \"English\"}, {\"iso...   \n",
       "4602     1000000     96.0           [{\"iso_639_1\": \"en\", \"name\": \"English\"}]   \n",
       "\n",
       "                                                tagline  vote_average  \\\n",
       "0                           Enter the World of Pandora.           7.2   \n",
       "1        At the end of the world, the adventure begins.           6.9   \n",
       "2                                 A Plan No One Escapes           6.3   \n",
       "3                                       The Legend Ends           7.6   \n",
       "4                  Lost in our world, found in another.           6.1   \n",
       "...                                                 ...           ...   \n",
       "4291                     Live or die. Make your choice.           7.2   \n",
       "4300                             Every dog has his day.           8.0   \n",
       "4302  For three men the Civil War wasn't hell. It wa...           8.1   \n",
       "4337  On every street in every city, there's a nobod...           8.0   \n",
       "4602   Life is in their hands. Death is on their minds.           8.2   \n",
       "\n",
       "      vote_count                                               cast  \\\n",
       "0          11800  [{\"cast_id\": 242, \"character\": \"Jake Sully\", \"...   \n",
       "1           4500  [{\"cast_id\": 4, \"character\": \"Captain Jack Spa...   \n",
       "2           4466  [{\"cast_id\": 1, \"character\": \"James Bond\", \"cr...   \n",
       "3           9106  [{\"cast_id\": 2, \"character\": \"Bruce Wayne / Ba...   \n",
       "4           2124  [{\"cast_id\": 5, \"character\": \"John Carter\", \"c...   \n",
       "...          ...                                                ...   \n",
       "4291        2184  [{\"cast_id\": 4, \"character\": \"Dr. Lawrence Gor...   \n",
       "4300        3697  [{\"cast_id\": 20, \"character\": \"Mr. White/Larry...   \n",
       "4302        2311  [{\"cast_id\": 6, \"character\": \"Tuco\", \"credit_i...   \n",
       "4337        2535  [{\"cast_id\": 5, \"character\": \"Travis Bickle\", ...   \n",
       "4602        2078  [{\"cast_id\": 29, \"character\": \"Juror 8\", \"cred...   \n",
       "\n",
       "                                                   crew  \n",
       "0     [{\"credit_id\": \"52fe48009251416c750aca23\", \"de...  \n",
       "1     [{\"credit_id\": \"52fe4232c3a36847f800b579\", \"de...  \n",
       "2     [{\"credit_id\": \"54805967c3a36829b5002c41\", \"de...  \n",
       "3     [{\"credit_id\": \"52fe4781c3a36847f81398c3\", \"de...  \n",
       "4     [{\"credit_id\": \"52fe479ac3a36847f813eaa3\", \"de...  \n",
       "...                                                 ...  \n",
       "4291  [{\"credit_id\": \"52fe4223c3a36847f8006c57\", \"de...  \n",
       "4300  [{\"credit_id\": \"52fe424ac3a36847f8012cb9\", \"de...  \n",
       "4302  [{\"credit_id\": \"575aee00c3a3682d10000281\", \"de...  \n",
       "4337  [{\"credit_id\": \"52fe4218c3a36847f8003803\", \"de...  \n",
       "4602  [{\"credit_id\": \"52fe423dc3a36847f800ec55\", \"de...  \n",
       "\n",
       "[481 rows x 18 columns]"
      ]
     },
     "metadata": {},
     "output_type": "display_data"
    }
   ],
   "source": [
    "filtered_df"
   ]
  },
  {
   "cell_type": "code",
   "execution_count": null,
   "id": "cd4711ed",
   "metadata": {},
   "outputs": [],
   "source": [
    "V = filtered_df['vote_count']\n",
    "R = filtered_df['vote_average']\n",
    "C = filtered_df['vote_average'].mean()"
   ]
  },
  {
   "cell_type": "code",
   "execution_count": null,
   "id": "dab0bbbb",
   "metadata": {},
   "outputs": [
    {
     "data": {
      "text/plain": [
       "0       11800\n",
       "1        4500\n",
       "2        4466\n",
       "3        9106\n",
       "4        2124\n",
       "        ...  \n",
       "4291     2184\n",
       "4300     3697\n",
       "4302     2311\n",
       "4337     2535\n",
       "4602     2078\n",
       "Name: vote_count, Length: 481, dtype: int64"
      ]
     },
     "metadata": {},
     "output_type": "display_data"
    }
   ],
   "source": [
    "V"
   ]
  },
  {
   "cell_type": "code",
   "execution_count": null,
   "id": "19041ea5",
   "metadata": {},
   "outputs": [
    {
     "data": {
      "text/plain": [
       "0       7.2\n",
       "1       6.9\n",
       "2       6.3\n",
       "3       7.6\n",
       "4       6.1\n",
       "       ... \n",
       "4291    7.2\n",
       "4300    8.0\n",
       "4302    8.1\n",
       "4337    8.0\n",
       "4602    8.2\n",
       "Name: vote_average, Length: 481, dtype: float64"
      ]
     },
     "metadata": {},
     "output_type": "display_data"
    }
   ],
   "source": [
    "R"
   ]
  },
  {
   "cell_type": "code",
   "execution_count": null,
   "id": "b6005fe5",
   "metadata": {},
   "outputs": [
    {
     "data": {
      "text/plain": [
       "np.float64(6.962993762993763)"
      ]
     },
     "metadata": {},
     "output_type": "display_data"
    }
   ],
   "source": [
    "C"
   ]
  },
  {
   "cell_type": "markdown",
   "id": "a375fa59",
   "metadata": {},
   "source": [
    "### Calculate Average weighted rating value for every movie"
   ]
  },
  {
   "cell_type": "code",
   "execution_count": null,
   "id": "311e4684",
   "metadata": {},
   "outputs": [
    {
     "name": "stderr",
     "output_type": "stream",
     "text": [
      "C:\\Users\\soumy\\AppData\\Local\\Temp\\ipykernel_14828\\580303175.py:1: SettingWithCopyWarning: \n",
      "A value is trying to be set on a copy of a slice from a DataFrame.\n",
      "Try using .loc[row_indexer,col_indexer] = value instead\n",
      "\n",
      "See the caveats in the documentation: https://pandas.pydata.org/pandas-docs/stable/user_guide/indexing.html#returning-a-view-versus-a-copy\n",
      "  filtered_df['weighted_average']=((R*V)+(C*m))/(V+m)\n"
     ]
    }
   ],
   "source": [
    "filtered_df['weighted_average']=((R*V)+(C*m))/(V+m)"
   ]
  },
  {
   "cell_type": "code",
   "execution_count": null,
   "id": "a9db41ff",
   "metadata": {},
   "outputs": [
    {
     "data": {
      "text/html": [
       "<div>\n",
       "<style scoped>\n",
       "    .dataframe tbody tr th:only-of-type {\n",
       "        vertical-align: middle;\n",
       "    }\n",
       "\n",
       "    .dataframe tbody tr th {\n",
       "        vertical-align: top;\n",
       "    }\n",
       "\n",
       "    .dataframe thead th {\n",
       "        text-align: right;\n",
       "    }\n",
       "</style>\n",
       "<table border=\"1\" class=\"dataframe\">\n",
       "  <thead>\n",
       "    <tr style=\"text-align: right;\">\n",
       "      <th></th>\n",
       "      <th>budget</th>\n",
       "      <th>genres</th>\n",
       "      <th>id</th>\n",
       "      <th>keywords</th>\n",
       "      <th>original_language</th>\n",
       "      <th>original_title</th>\n",
       "      <th>overview</th>\n",
       "      <th>popularity</th>\n",
       "      <th>production_companies</th>\n",
       "      <th>release_date</th>\n",
       "      <th>revenue</th>\n",
       "      <th>runtime</th>\n",
       "      <th>spoken_languages</th>\n",
       "      <th>tagline</th>\n",
       "      <th>vote_average</th>\n",
       "      <th>vote_count</th>\n",
       "      <th>cast</th>\n",
       "      <th>crew</th>\n",
       "      <th>weighted_average</th>\n",
       "    </tr>\n",
       "  </thead>\n",
       "  <tbody>\n",
       "    <tr>\n",
       "      <th>0</th>\n",
       "      <td>237000000</td>\n",
       "      <td>[{\"id\": 28, \"name\": \"Action\"}, {\"id\": 12, \"nam...</td>\n",
       "      <td>19995</td>\n",
       "      <td>[{\"id\": 1463, \"name\": \"culture clash\"}, {\"id\":...</td>\n",
       "      <td>en</td>\n",
       "      <td>Avatar</td>\n",
       "      <td>In the 22nd century, a paraplegic Marine is di...</td>\n",
       "      <td>150.437577</td>\n",
       "      <td>[{\"name\": \"Ingenious Film Partners\", \"id\": 289...</td>\n",
       "      <td>2009-12-10</td>\n",
       "      <td>2787965087</td>\n",
       "      <td>162.0</td>\n",
       "      <td>[{\"iso_639_1\": \"en\", \"name\": \"English\"}, {\"iso...</td>\n",
       "      <td>Enter the World of Pandora.</td>\n",
       "      <td>7.2</td>\n",
       "      <td>11800</td>\n",
       "      <td>[{\"cast_id\": 242, \"character\": \"Jake Sully\", \"...</td>\n",
       "      <td>[{\"credit_id\": \"52fe48009251416c750aca23\", \"de...</td>\n",
       "      <td>7.168053</td>\n",
       "    </tr>\n",
       "    <tr>\n",
       "      <th>1</th>\n",
       "      <td>300000000</td>\n",
       "      <td>[{\"id\": 12, \"name\": \"Adventure\"}, {\"id\": 14, \"...</td>\n",
       "      <td>285</td>\n",
       "      <td>[{\"id\": 270, \"name\": \"ocean\"}, {\"id\": 726, \"na...</td>\n",
       "      <td>en</td>\n",
       "      <td>Pirates of the Caribbean: At World's End</td>\n",
       "      <td>Captain Barbossa, long believed to be dead, ha...</td>\n",
       "      <td>139.082615</td>\n",
       "      <td>[{\"name\": \"Walt Disney Pictures\", \"id\": 2}, {\"...</td>\n",
       "      <td>2007-05-19</td>\n",
       "      <td>961000000</td>\n",
       "      <td>169.0</td>\n",
       "      <td>[{\"iso_639_1\": \"en\", \"name\": \"English\"}]</td>\n",
       "      <td>At the end of the world, the adventure begins.</td>\n",
       "      <td>6.9</td>\n",
       "      <td>4500</td>\n",
       "      <td>[{\"cast_id\": 4, \"character\": \"Captain Jack Spa...</td>\n",
       "      <td>[{\"credit_id\": \"52fe4232c3a36847f800b579\", \"de...</td>\n",
       "      <td>6.918271</td>\n",
       "    </tr>\n",
       "    <tr>\n",
       "      <th>2</th>\n",
       "      <td>245000000</td>\n",
       "      <td>[{\"id\": 28, \"name\": \"Action\"}, {\"id\": 12, \"nam...</td>\n",
       "      <td>206647</td>\n",
       "      <td>[{\"id\": 470, \"name\": \"spy\"}, {\"id\": 818, \"name...</td>\n",
       "      <td>en</td>\n",
       "      <td>Spectre</td>\n",
       "      <td>A cryptic message from Bond’s past sends him o...</td>\n",
       "      <td>107.376788</td>\n",
       "      <td>[{\"name\": \"Columbia Pictures\", \"id\": 5}, {\"nam...</td>\n",
       "      <td>2015-10-26</td>\n",
       "      <td>880674609</td>\n",
       "      <td>148.0</td>\n",
       "      <td>[{\"iso_639_1\": \"fr\", \"name\": \"Fran\\u00e7ais\"},...</td>\n",
       "      <td>A Plan No One Escapes</td>\n",
       "      <td>6.3</td>\n",
       "      <td>4466</td>\n",
       "      <td>[{\"cast_id\": 1, \"character\": \"James Bond\", \"cr...</td>\n",
       "      <td>[{\"credit_id\": \"54805967c3a36829b5002c41\", \"de...</td>\n",
       "      <td>6.493333</td>\n",
       "    </tr>\n",
       "    <tr>\n",
       "      <th>3</th>\n",
       "      <td>250000000</td>\n",
       "      <td>[{\"id\": 28, \"name\": \"Action\"}, {\"id\": 80, \"nam...</td>\n",
       "      <td>49026</td>\n",
       "      <td>[{\"id\": 849, \"name\": \"dc comics\"}, {\"id\": 853,...</td>\n",
       "      <td>en</td>\n",
       "      <td>The Dark Knight Rises</td>\n",
       "      <td>Following the death of District Attorney Harve...</td>\n",
       "      <td>112.312950</td>\n",
       "      <td>[{\"name\": \"Legendary Pictures\", \"id\": 923}, {\"...</td>\n",
       "      <td>2012-07-16</td>\n",
       "      <td>1084939099</td>\n",
       "      <td>165.0</td>\n",
       "      <td>[{\"iso_639_1\": \"en\", \"name\": \"English\"}]</td>\n",
       "      <td>The Legend Ends</td>\n",
       "      <td>7.6</td>\n",
       "      <td>9106</td>\n",
       "      <td>[{\"cast_id\": 2, \"character\": \"Bruce Wayne / Ba...</td>\n",
       "      <td>[{\"credit_id\": \"52fe4781c3a36847f81398c3\", \"de...</td>\n",
       "      <td>7.492998</td>\n",
       "    </tr>\n",
       "    <tr>\n",
       "      <th>4</th>\n",
       "      <td>260000000</td>\n",
       "      <td>[{\"id\": 28, \"name\": \"Action\"}, {\"id\": 12, \"nam...</td>\n",
       "      <td>49529</td>\n",
       "      <td>[{\"id\": 818, \"name\": \"based on novel\"}, {\"id\":...</td>\n",
       "      <td>en</td>\n",
       "      <td>John Carter</td>\n",
       "      <td>John Carter is a war-weary, former military ca...</td>\n",
       "      <td>43.926995</td>\n",
       "      <td>[{\"name\": \"Walt Disney Pictures\", \"id\": 2}]</td>\n",
       "      <td>2012-03-07</td>\n",
       "      <td>284139100</td>\n",
       "      <td>132.0</td>\n",
       "      <td>[{\"iso_639_1\": \"en\", \"name\": \"English\"}]</td>\n",
       "      <td>Lost in our world, found in another.</td>\n",
       "      <td>6.1</td>\n",
       "      <td>2124</td>\n",
       "      <td>[{\"cast_id\": 5, \"character\": \"John Carter\", \"c...</td>\n",
       "      <td>[{\"credit_id\": \"52fe479ac3a36847f813eaa3\", \"de...</td>\n",
       "      <td>6.500396</td>\n",
       "    </tr>\n",
       "    <tr>\n",
       "      <th>...</th>\n",
       "      <td>...</td>\n",
       "      <td>...</td>\n",
       "      <td>...</td>\n",
       "      <td>...</td>\n",
       "      <td>...</td>\n",
       "      <td>...</td>\n",
       "      <td>...</td>\n",
       "      <td>...</td>\n",
       "      <td>...</td>\n",
       "      <td>...</td>\n",
       "      <td>...</td>\n",
       "      <td>...</td>\n",
       "      <td>...</td>\n",
       "      <td>...</td>\n",
       "      <td>...</td>\n",
       "      <td>...</td>\n",
       "      <td>...</td>\n",
       "      <td>...</td>\n",
       "      <td>...</td>\n",
       "    </tr>\n",
       "    <tr>\n",
       "      <th>4291</th>\n",
       "      <td>1200000</td>\n",
       "      <td>[{\"id\": 27, \"name\": \"Horror\"}, {\"id\": 9648, \"n...</td>\n",
       "      <td>176</td>\n",
       "      <td>[{\"id\": 1366, \"name\": \"shotgun\"}, {\"id\": 13000...</td>\n",
       "      <td>en</td>\n",
       "      <td>Saw</td>\n",
       "      <td>Obsessed with teaching his victims the value o...</td>\n",
       "      <td>63.655973</td>\n",
       "      <td>[{\"name\": \"Lions Gate Films\", \"id\": 35}, {\"nam...</td>\n",
       "      <td>2004-10-01</td>\n",
       "      <td>103911669</td>\n",
       "      <td>103.0</td>\n",
       "      <td>[{\"iso_639_1\": \"en\", \"name\": \"English\"}]</td>\n",
       "      <td>Live or die. Make your choice.</td>\n",
       "      <td>7.2</td>\n",
       "      <td>2184</td>\n",
       "      <td>[{\"cast_id\": 4, \"character\": \"Dr. Lawrence Gor...</td>\n",
       "      <td>[{\"credit_id\": \"52fe4223c3a36847f8006c57\", \"de...</td>\n",
       "      <td>7.091679</td>\n",
       "    </tr>\n",
       "    <tr>\n",
       "      <th>4300</th>\n",
       "      <td>1200000</td>\n",
       "      <td>[{\"id\": 80, \"name\": \"Crime\"}, {\"id\": 53, \"name...</td>\n",
       "      <td>500</td>\n",
       "      <td>[{\"id\": 2052, \"name\": \"traitor\"}, {\"id\": 6099,...</td>\n",
       "      <td>en</td>\n",
       "      <td>Reservoir Dogs</td>\n",
       "      <td>A botched robbery indicates a police informant...</td>\n",
       "      <td>66.925866</td>\n",
       "      <td>[{\"name\": \"Live Entertainment\", \"id\": 285}, {\"...</td>\n",
       "      <td>1992-09-02</td>\n",
       "      <td>14661007</td>\n",
       "      <td>99.0</td>\n",
       "      <td>[{\"iso_639_1\": \"en\", \"name\": \"English\"}]</td>\n",
       "      <td>Every dog has his day.</td>\n",
       "      <td>8.0</td>\n",
       "      <td>3697</td>\n",
       "      <td>[{\"cast_id\": 20, \"character\": \"Mr. White/Larry...</td>\n",
       "      <td>[{\"credit_id\": \"52fe424ac3a36847f8012cb9\", \"de...</td>\n",
       "      <td>7.655593</td>\n",
       "    </tr>\n",
       "    <tr>\n",
       "      <th>4302</th>\n",
       "      <td>1200000</td>\n",
       "      <td>[{\"id\": 37, \"name\": \"Western\"}]</td>\n",
       "      <td>429</td>\n",
       "      <td>[{\"id\": 801, \"name\": \"bounty hunter\"}, {\"id\": ...</td>\n",
       "      <td>it</td>\n",
       "      <td>Il buono, il brutto, il cattivo</td>\n",
       "      <td>While the Civil War rages between the Union an...</td>\n",
       "      <td>88.377076</td>\n",
       "      <td>[{\"name\": \"United Artists\", \"id\": 60}, {\"name\"...</td>\n",
       "      <td>1966-12-23</td>\n",
       "      <td>6000000</td>\n",
       "      <td>161.0</td>\n",
       "      <td>[{\"iso_639_1\": \"it\", \"name\": \"Italiano\"}]</td>\n",
       "      <td>For three men the Civil War wasn't hell. It wa...</td>\n",
       "      <td>8.1</td>\n",
       "      <td>2311</td>\n",
       "      <td>[{\"cast_id\": 6, \"character\": \"Tuco\", \"credit_i...</td>\n",
       "      <td>[{\"credit_id\": \"575aee00c3a3682d10000281\", \"de...</td>\n",
       "      <td>7.596247</td>\n",
       "    </tr>\n",
       "    <tr>\n",
       "      <th>4337</th>\n",
       "      <td>1300000</td>\n",
       "      <td>[{\"id\": 80, \"name\": \"Crime\"}, {\"id\": 18, \"name...</td>\n",
       "      <td>103</td>\n",
       "      <td>[{\"id\": 422, \"name\": \"vietnam veteran\"}, {\"id\"...</td>\n",
       "      <td>en</td>\n",
       "      <td>Taxi Driver</td>\n",
       "      <td>A mentally unstable Vietnam War veteran works ...</td>\n",
       "      <td>58.845025</td>\n",
       "      <td>[{\"name\": \"Columbia Pictures Corporation\", \"id...</td>\n",
       "      <td>1976-02-07</td>\n",
       "      <td>28262574</td>\n",
       "      <td>114.0</td>\n",
       "      <td>[{\"iso_639_1\": \"en\", \"name\": \"English\"}, {\"iso...</td>\n",
       "      <td>On every street in every city, there's a nobod...</td>\n",
       "      <td>8.0</td>\n",
       "      <td>2535</td>\n",
       "      <td>[{\"cast_id\": 5, \"character\": \"Travis Bickle\", ...</td>\n",
       "      <td>[{\"credit_id\": \"52fe4218c3a36847f8003803\", \"de...</td>\n",
       "      <td>7.564085</td>\n",
       "    </tr>\n",
       "    <tr>\n",
       "      <th>4602</th>\n",
       "      <td>350000</td>\n",
       "      <td>[{\"id\": 18, \"name\": \"Drama\"}]</td>\n",
       "      <td>389</td>\n",
       "      <td>[{\"id\": 934, \"name\": \"judge\"}, {\"id\": 1417, \"n...</td>\n",
       "      <td>en</td>\n",
       "      <td>12 Angry Men</td>\n",
       "      <td>The defense and the prosecution have rested an...</td>\n",
       "      <td>59.259204</td>\n",
       "      <td>[{\"name\": \"United Artists\", \"id\": 60}, {\"name\"...</td>\n",
       "      <td>1957-03-25</td>\n",
       "      <td>1000000</td>\n",
       "      <td>96.0</td>\n",
       "      <td>[{\"iso_639_1\": \"en\", \"name\": \"English\"}]</td>\n",
       "      <td>Life is in their hands. Death is on their minds.</td>\n",
       "      <td>8.2</td>\n",
       "      <td>2078</td>\n",
       "      <td>[{\"cast_id\": 29, \"character\": \"Juror 8\", \"cred...</td>\n",
       "      <td>[{\"credit_id\": \"52fe423dc3a36847f800ec55\", \"de...</td>\n",
       "      <td>7.619336</td>\n",
       "    </tr>\n",
       "  </tbody>\n",
       "</table>\n",
       "<p>481 rows × 19 columns</p>\n",
       "</div>"
      ],
      "text/plain": [
       "         budget                                             genres      id  \\\n",
       "0     237000000  [{\"id\": 28, \"name\": \"Action\"}, {\"id\": 12, \"nam...   19995   \n",
       "1     300000000  [{\"id\": 12, \"name\": \"Adventure\"}, {\"id\": 14, \"...     285   \n",
       "2     245000000  [{\"id\": 28, \"name\": \"Action\"}, {\"id\": 12, \"nam...  206647   \n",
       "3     250000000  [{\"id\": 28, \"name\": \"Action\"}, {\"id\": 80, \"nam...   49026   \n",
       "4     260000000  [{\"id\": 28, \"name\": \"Action\"}, {\"id\": 12, \"nam...   49529   \n",
       "...         ...                                                ...     ...   \n",
       "4291    1200000  [{\"id\": 27, \"name\": \"Horror\"}, {\"id\": 9648, \"n...     176   \n",
       "4300    1200000  [{\"id\": 80, \"name\": \"Crime\"}, {\"id\": 53, \"name...     500   \n",
       "4302    1200000                    [{\"id\": 37, \"name\": \"Western\"}]     429   \n",
       "4337    1300000  [{\"id\": 80, \"name\": \"Crime\"}, {\"id\": 18, \"name...     103   \n",
       "4602     350000                      [{\"id\": 18, \"name\": \"Drama\"}]     389   \n",
       "\n",
       "                                               keywords original_language  \\\n",
       "0     [{\"id\": 1463, \"name\": \"culture clash\"}, {\"id\":...                en   \n",
       "1     [{\"id\": 270, \"name\": \"ocean\"}, {\"id\": 726, \"na...                en   \n",
       "2     [{\"id\": 470, \"name\": \"spy\"}, {\"id\": 818, \"name...                en   \n",
       "3     [{\"id\": 849, \"name\": \"dc comics\"}, {\"id\": 853,...                en   \n",
       "4     [{\"id\": 818, \"name\": \"based on novel\"}, {\"id\":...                en   \n",
       "...                                                 ...               ...   \n",
       "4291  [{\"id\": 1366, \"name\": \"shotgun\"}, {\"id\": 13000...                en   \n",
       "4300  [{\"id\": 2052, \"name\": \"traitor\"}, {\"id\": 6099,...                en   \n",
       "4302  [{\"id\": 801, \"name\": \"bounty hunter\"}, {\"id\": ...                it   \n",
       "4337  [{\"id\": 422, \"name\": \"vietnam veteran\"}, {\"id\"...                en   \n",
       "4602  [{\"id\": 934, \"name\": \"judge\"}, {\"id\": 1417, \"n...                en   \n",
       "\n",
       "                                original_title  \\\n",
       "0                                       Avatar   \n",
       "1     Pirates of the Caribbean: At World's End   \n",
       "2                                      Spectre   \n",
       "3                        The Dark Knight Rises   \n",
       "4                                  John Carter   \n",
       "...                                        ...   \n",
       "4291                                       Saw   \n",
       "4300                            Reservoir Dogs   \n",
       "4302           Il buono, il brutto, il cattivo   \n",
       "4337                               Taxi Driver   \n",
       "4602                              12 Angry Men   \n",
       "\n",
       "                                               overview  popularity  \\\n",
       "0     In the 22nd century, a paraplegic Marine is di...  150.437577   \n",
       "1     Captain Barbossa, long believed to be dead, ha...  139.082615   \n",
       "2     A cryptic message from Bond’s past sends him o...  107.376788   \n",
       "3     Following the death of District Attorney Harve...  112.312950   \n",
       "4     John Carter is a war-weary, former military ca...   43.926995   \n",
       "...                                                 ...         ...   \n",
       "4291  Obsessed with teaching his victims the value o...   63.655973   \n",
       "4300  A botched robbery indicates a police informant...   66.925866   \n",
       "4302  While the Civil War rages between the Union an...   88.377076   \n",
       "4337  A mentally unstable Vietnam War veteran works ...   58.845025   \n",
       "4602  The defense and the prosecution have rested an...   59.259204   \n",
       "\n",
       "                                   production_companies release_date  \\\n",
       "0     [{\"name\": \"Ingenious Film Partners\", \"id\": 289...   2009-12-10   \n",
       "1     [{\"name\": \"Walt Disney Pictures\", \"id\": 2}, {\"...   2007-05-19   \n",
       "2     [{\"name\": \"Columbia Pictures\", \"id\": 5}, {\"nam...   2015-10-26   \n",
       "3     [{\"name\": \"Legendary Pictures\", \"id\": 923}, {\"...   2012-07-16   \n",
       "4           [{\"name\": \"Walt Disney Pictures\", \"id\": 2}]   2012-03-07   \n",
       "...                                                 ...          ...   \n",
       "4291  [{\"name\": \"Lions Gate Films\", \"id\": 35}, {\"nam...   2004-10-01   \n",
       "4300  [{\"name\": \"Live Entertainment\", \"id\": 285}, {\"...   1992-09-02   \n",
       "4302  [{\"name\": \"United Artists\", \"id\": 60}, {\"name\"...   1966-12-23   \n",
       "4337  [{\"name\": \"Columbia Pictures Corporation\", \"id...   1976-02-07   \n",
       "4602  [{\"name\": \"United Artists\", \"id\": 60}, {\"name\"...   1957-03-25   \n",
       "\n",
       "         revenue  runtime                                   spoken_languages  \\\n",
       "0     2787965087    162.0  [{\"iso_639_1\": \"en\", \"name\": \"English\"}, {\"iso...   \n",
       "1      961000000    169.0           [{\"iso_639_1\": \"en\", \"name\": \"English\"}]   \n",
       "2      880674609    148.0  [{\"iso_639_1\": \"fr\", \"name\": \"Fran\\u00e7ais\"},...   \n",
       "3     1084939099    165.0           [{\"iso_639_1\": \"en\", \"name\": \"English\"}]   \n",
       "4      284139100    132.0           [{\"iso_639_1\": \"en\", \"name\": \"English\"}]   \n",
       "...          ...      ...                                                ...   \n",
       "4291   103911669    103.0           [{\"iso_639_1\": \"en\", \"name\": \"English\"}]   \n",
       "4300    14661007     99.0           [{\"iso_639_1\": \"en\", \"name\": \"English\"}]   \n",
       "4302     6000000    161.0          [{\"iso_639_1\": \"it\", \"name\": \"Italiano\"}]   \n",
       "4337    28262574    114.0  [{\"iso_639_1\": \"en\", \"name\": \"English\"}, {\"iso...   \n",
       "4602     1000000     96.0           [{\"iso_639_1\": \"en\", \"name\": \"English\"}]   \n",
       "\n",
       "                                                tagline  vote_average  \\\n",
       "0                           Enter the World of Pandora.           7.2   \n",
       "1        At the end of the world, the adventure begins.           6.9   \n",
       "2                                 A Plan No One Escapes           6.3   \n",
       "3                                       The Legend Ends           7.6   \n",
       "4                  Lost in our world, found in another.           6.1   \n",
       "...                                                 ...           ...   \n",
       "4291                     Live or die. Make your choice.           7.2   \n",
       "4300                             Every dog has his day.           8.0   \n",
       "4302  For three men the Civil War wasn't hell. It wa...           8.1   \n",
       "4337  On every street in every city, there's a nobod...           8.0   \n",
       "4602   Life is in their hands. Death is on their minds.           8.2   \n",
       "\n",
       "      vote_count                                               cast  \\\n",
       "0          11800  [{\"cast_id\": 242, \"character\": \"Jake Sully\", \"...   \n",
       "1           4500  [{\"cast_id\": 4, \"character\": \"Captain Jack Spa...   \n",
       "2           4466  [{\"cast_id\": 1, \"character\": \"James Bond\", \"cr...   \n",
       "3           9106  [{\"cast_id\": 2, \"character\": \"Bruce Wayne / Ba...   \n",
       "4           2124  [{\"cast_id\": 5, \"character\": \"John Carter\", \"c...   \n",
       "...          ...                                                ...   \n",
       "4291        2184  [{\"cast_id\": 4, \"character\": \"Dr. Lawrence Gor...   \n",
       "4300        3697  [{\"cast_id\": 20, \"character\": \"Mr. White/Larry...   \n",
       "4302        2311  [{\"cast_id\": 6, \"character\": \"Tuco\", \"credit_i...   \n",
       "4337        2535  [{\"cast_id\": 5, \"character\": \"Travis Bickle\", ...   \n",
       "4602        2078  [{\"cast_id\": 29, \"character\": \"Juror 8\", \"cred...   \n",
       "\n",
       "                                                   crew  weighted_average  \n",
       "0     [{\"credit_id\": \"52fe48009251416c750aca23\", \"de...          7.168053  \n",
       "1     [{\"credit_id\": \"52fe4232c3a36847f800b579\", \"de...          6.918271  \n",
       "2     [{\"credit_id\": \"54805967c3a36829b5002c41\", \"de...          6.493333  \n",
       "3     [{\"credit_id\": \"52fe4781c3a36847f81398c3\", \"de...          7.492998  \n",
       "4     [{\"credit_id\": \"52fe479ac3a36847f813eaa3\", \"de...          6.500396  \n",
       "...                                                 ...               ...  \n",
       "4291  [{\"credit_id\": \"52fe4223c3a36847f8006c57\", \"de...          7.091679  \n",
       "4300  [{\"credit_id\": \"52fe424ac3a36847f8012cb9\", \"de...          7.655593  \n",
       "4302  [{\"credit_id\": \"575aee00c3a3682d10000281\", \"de...          7.596247  \n",
       "4337  [{\"credit_id\": \"52fe4218c3a36847f8003803\", \"de...          7.564085  \n",
       "4602  [{\"credit_id\": \"52fe423dc3a36847f800ec55\", \"de...          7.619336  \n",
       "\n",
       "[481 rows x 19 columns]"
      ]
     },
     "metadata": {},
     "output_type": "display_data"
    }
   ],
   "source": [
    "filtered_df"
   ]
  },
  {
   "cell_type": "code",
   "execution_count": null,
   "id": "c15414fc",
   "metadata": {},
   "outputs": [
    {
     "data": {
      "text/plain": [
       "Index(['budget', 'genres', 'id', 'keywords', 'original_language',\n",
       "       'original_title', 'overview', 'popularity', 'production_companies',\n",
       "       'release_date', 'revenue', 'runtime', 'spoken_languages', 'tagline',\n",
       "       'vote_average', 'vote_count', 'cast', 'crew', 'weighted_average'],\n",
       "      dtype='object')"
      ]
     },
     "metadata": {},
     "output_type": "display_data"
    }
   ],
   "source": [
    "filtered_df.columns"
   ]
  },
  {
   "cell_type": "markdown",
   "id": "2825f50f",
   "metadata": {},
   "source": [
    "## Top 20 most recommended movies based on the Average rated model"
   ]
  },
  {
   "cell_type": "code",
   "execution_count": null,
   "id": "28addaf4",
   "metadata": {},
   "outputs": [],
   "source": [
    "sorted_ranking_df = filtered_df.sort_values('weighted_average', ascending=False).head(20)"
   ]
  },
  {
   "cell_type": "code",
   "execution_count": null,
   "id": "11c25ea5",
   "metadata": {},
   "outputs": [
    {
     "data": {
      "text/plain": [
       "Index(['budget', 'genres', 'id', 'keywords', 'original_language',\n",
       "       'original_title', 'overview', 'popularity', 'production_companies',\n",
       "       'release_date', 'revenue', 'runtime', 'spoken_languages', 'tagline',\n",
       "       'vote_average', 'vote_count', 'cast', 'crew', 'weighted_average'],\n",
       "      dtype='object')"
      ]
     },
     "metadata": {},
     "output_type": "display_data"
    }
   ],
   "source": [
    "sorted_ranking_df.columns"
   ]
  },
  {
   "cell_type": "code",
   "execution_count": null,
   "id": "a3c60d55",
   "metadata": {},
   "outputs": [
    {
     "data": {
      "text/html": [
       "<div>\n",
       "<style scoped>\n",
       "    .dataframe tbody tr th:only-of-type {\n",
       "        vertical-align: middle;\n",
       "    }\n",
       "\n",
       "    .dataframe tbody tr th {\n",
       "        vertical-align: top;\n",
       "    }\n",
       "\n",
       "    .dataframe thead th {\n",
       "        text-align: right;\n",
       "    }\n",
       "</style>\n",
       "<table border=\"1\" class=\"dataframe\">\n",
       "  <thead>\n",
       "    <tr style=\"text-align: right;\">\n",
       "      <th></th>\n",
       "      <th>original_title</th>\n",
       "      <th>vote_count</th>\n",
       "      <th>vote_average</th>\n",
       "      <th>weighted_average</th>\n",
       "      <th>popularity</th>\n",
       "    </tr>\n",
       "  </thead>\n",
       "  <tbody>\n",
       "    <tr>\n",
       "      <th>1881</th>\n",
       "      <td>The Shawshank Redemption</td>\n",
       "      <td>8205</td>\n",
       "      <td>8.5</td>\n",
       "      <td>8.218658</td>\n",
       "      <td>136.747729</td>\n",
       "    </tr>\n",
       "    <tr>\n",
       "      <th>662</th>\n",
       "      <td>Fight Club</td>\n",
       "      <td>9413</td>\n",
       "      <td>8.3</td>\n",
       "      <td>8.081543</td>\n",
       "      <td>146.757391</td>\n",
       "    </tr>\n",
       "    <tr>\n",
       "      <th>3232</th>\n",
       "      <td>Pulp Fiction</td>\n",
       "      <td>8428</td>\n",
       "      <td>8.3</td>\n",
       "      <td>8.060583</td>\n",
       "      <td>121.463076</td>\n",
       "    </tr>\n",
       "    <tr>\n",
       "      <th>3337</th>\n",
       "      <td>The Godfather</td>\n",
       "      <td>5893</td>\n",
       "      <td>8.4</td>\n",
       "      <td>8.058304</td>\n",
       "      <td>143.659698</td>\n",
       "    </tr>\n",
       "    <tr>\n",
       "      <th>65</th>\n",
       "      <td>The Dark Knight</td>\n",
       "      <td>12002</td>\n",
       "      <td>8.2</td>\n",
       "      <td>8.035690</td>\n",
       "      <td>187.322927</td>\n",
       "    </tr>\n",
       "    <tr>\n",
       "      <th>809</th>\n",
       "      <td>Forrest Gump</td>\n",
       "      <td>7927</td>\n",
       "      <td>8.2</td>\n",
       "      <td>7.967126</td>\n",
       "      <td>138.133331</td>\n",
       "    </tr>\n",
       "    <tr>\n",
       "      <th>96</th>\n",
       "      <td>Inception</td>\n",
       "      <td>13752</td>\n",
       "      <td>8.1</td>\n",
       "      <td>7.965926</td>\n",
       "      <td>167.583710</td>\n",
       "    </tr>\n",
       "    <tr>\n",
       "      <th>95</th>\n",
       "      <td>Interstellar</td>\n",
       "      <td>10867</td>\n",
       "      <td>8.1</td>\n",
       "      <td>7.935482</td>\n",
       "      <td>724.247784</td>\n",
       "    </tr>\n",
       "    <tr>\n",
       "      <th>1990</th>\n",
       "      <td>The Empire Strikes Back</td>\n",
       "      <td>5879</td>\n",
       "      <td>8.2</td>\n",
       "      <td>7.905327</td>\n",
       "      <td>78.517830</td>\n",
       "    </tr>\n",
       "    <tr>\n",
       "      <th>1818</th>\n",
       "      <td>Schindler's List</td>\n",
       "      <td>4329</td>\n",
       "      <td>8.3</td>\n",
       "      <td>7.901461</td>\n",
       "      <td>104.469351</td>\n",
       "    </tr>\n",
       "    <tr>\n",
       "      <th>3865</th>\n",
       "      <td>Whiplash</td>\n",
       "      <td>4254</td>\n",
       "      <td>8.3</td>\n",
       "      <td>7.896554</td>\n",
       "      <td>192.528841</td>\n",
       "    </tr>\n",
       "    <tr>\n",
       "      <th>329</th>\n",
       "      <td>The Lord of the Rings: The Return of the King</td>\n",
       "      <td>8064</td>\n",
       "      <td>8.1</td>\n",
       "      <td>7.888913</td>\n",
       "      <td>123.630332</td>\n",
       "    </tr>\n",
       "    <tr>\n",
       "      <th>2294</th>\n",
       "      <td>千と千尋の神隠し</td>\n",
       "      <td>3840</td>\n",
       "      <td>8.3</td>\n",
       "      <td>7.867140</td>\n",
       "      <td>118.968562</td>\n",
       "    </tr>\n",
       "    <tr>\n",
       "      <th>2912</th>\n",
       "      <td>Star Wars</td>\n",
       "      <td>6624</td>\n",
       "      <td>8.1</td>\n",
       "      <td>7.852993</td>\n",
       "      <td>126.393695</td>\n",
       "    </tr>\n",
       "    <tr>\n",
       "      <th>2731</th>\n",
       "      <td>The Godfather: Part II</td>\n",
       "      <td>3338</td>\n",
       "      <td>8.3</td>\n",
       "      <td>7.825162</td>\n",
       "      <td>105.792936</td>\n",
       "    </tr>\n",
       "    <tr>\n",
       "      <th>1553</th>\n",
       "      <td>Se7en</td>\n",
       "      <td>5765</td>\n",
       "      <td>8.1</td>\n",
       "      <td>7.825087</td>\n",
       "      <td>79.579532</td>\n",
       "    </tr>\n",
       "    <tr>\n",
       "      <th>262</th>\n",
       "      <td>The Lord of the Rings: The Fellowship of the Ring</td>\n",
       "      <td>8705</td>\n",
       "      <td>8.0</td>\n",
       "      <td>7.819182</td>\n",
       "      <td>138.049577</td>\n",
       "    </tr>\n",
       "    <tr>\n",
       "      <th>690</th>\n",
       "      <td>The Green Mile</td>\n",
       "      <td>4048</td>\n",
       "      <td>8.2</td>\n",
       "      <td>7.813667</td>\n",
       "      <td>103.698022</td>\n",
       "    </tr>\n",
       "    <tr>\n",
       "      <th>330</th>\n",
       "      <td>The Lord of the Rings: The Two Towers</td>\n",
       "      <td>7487</td>\n",
       "      <td>8.0</td>\n",
       "      <td>7.795566</td>\n",
       "      <td>106.914973</td>\n",
       "    </tr>\n",
       "    <tr>\n",
       "      <th>77</th>\n",
       "      <td>Inside Out</td>\n",
       "      <td>6560</td>\n",
       "      <td>8.0</td>\n",
       "      <td>7.773001</td>\n",
       "      <td>128.655964</td>\n",
       "    </tr>\n",
       "  </tbody>\n",
       "</table>\n",
       "</div>"
      ],
      "text/plain": [
       "                                         original_title  vote_count  \\\n",
       "1881                           The Shawshank Redemption        8205   \n",
       "662                                          Fight Club        9413   \n",
       "3232                                       Pulp Fiction        8428   \n",
       "3337                                      The Godfather        5893   \n",
       "65                                      The Dark Knight       12002   \n",
       "809                                        Forrest Gump        7927   \n",
       "96                                            Inception       13752   \n",
       "95                                         Interstellar       10867   \n",
       "1990                            The Empire Strikes Back        5879   \n",
       "1818                                   Schindler's List        4329   \n",
       "3865                                           Whiplash        4254   \n",
       "329       The Lord of the Rings: The Return of the King        8064   \n",
       "2294                                           千と千尋の神隠し        3840   \n",
       "2912                                          Star Wars        6624   \n",
       "2731                             The Godfather: Part II        3338   \n",
       "1553                                              Se7en        5765   \n",
       "262   The Lord of the Rings: The Fellowship of the Ring        8705   \n",
       "690                                      The Green Mile        4048   \n",
       "330               The Lord of the Rings: The Two Towers        7487   \n",
       "77                                           Inside Out        6560   \n",
       "\n",
       "      vote_average  weighted_average  popularity  \n",
       "1881           8.5          8.218658  136.747729  \n",
       "662            8.3          8.081543  146.757391  \n",
       "3232           8.3          8.060583  121.463076  \n",
       "3337           8.4          8.058304  143.659698  \n",
       "65             8.2          8.035690  187.322927  \n",
       "809            8.2          7.967126  138.133331  \n",
       "96             8.1          7.965926  167.583710  \n",
       "95             8.1          7.935482  724.247784  \n",
       "1990           8.2          7.905327   78.517830  \n",
       "1818           8.3          7.901461  104.469351  \n",
       "3865           8.3          7.896554  192.528841  \n",
       "329            8.1          7.888913  123.630332  \n",
       "2294           8.3          7.867140  118.968562  \n",
       "2912           8.1          7.852993  126.393695  \n",
       "2731           8.3          7.825162  105.792936  \n",
       "1553           8.1          7.825087   79.579532  \n",
       "262            8.0          7.819182  138.049577  \n",
       "690            8.2          7.813667  103.698022  \n",
       "330            8.0          7.795566  106.914973  \n",
       "77             8.0          7.773001  128.655964  "
      ]
     },
     "metadata": {},
     "output_type": "display_data"
    }
   ],
   "source": [
    "sorted_ranking_df[['original_title', 'vote_count', 'vote_average', 'weighted_average', 'popularity']]"
   ]
  },
  {
   "cell_type": "code",
   "execution_count": null,
   "id": "576ce953",
   "metadata": {},
   "outputs": [],
   "source": [
    "import warnings\n",
    "from warnings import filterwarnings\n",
    "filterwarnings('ignore')"
   ]
  },
  {
   "cell_type": "code",
   "execution_count": null,
   "id": "94734e15",
   "metadata": {},
   "outputs": [
    {
     "data": {
      "text/plain": [
       "<Axes: xlabel='weighted_average', ylabel='original_title'>"
      ]
     },
     "metadata": {},
     "output_type": "display_data"
    },
    {
     "data": {
      "image/png": "[encoded data removed]",
      "text/plain": [
       "<Figure size 640x480 with 1 Axes>"
      ]
     },
     "metadata": {},
     "output_type": "display_data"
    }
   ],
   "source": [
    "sns.barplot(x=sorted_ranking_df['weighted_average'], y=sorted_ranking_df['original_title'], data=sorted_ranking_df)"
   ]
  },
  {
   "cell_type": "markdown",
   "id": "4a2ee7fb",
   "metadata": {},
   "source": [
    "### Top 10 movie titles which have highest popularity score"
   ]
  },
  {
   "cell_type": "code",
   "execution_count": null,
   "id": "48e726f1",
   "metadata": {},
   "outputs": [
    {
     "data": {
      "text/plain": [
       "Index(['budget', 'genres', 'id', 'keywords', 'original_language',\n",
       "       'original_title', 'overview', 'popularity', 'production_companies',\n",
       "       'release_date', 'revenue', 'runtime', 'spoken_languages', 'tagline',\n",
       "       'vote_average', 'vote_count', 'cast', 'crew', 'weighted_average'],\n",
       "      dtype='object')"
      ]
     },
     "metadata": {},
     "output_type": "display_data"
    }
   ],
   "source": [
    "filtered_df.columns"
   ]
  },
  {
   "cell_type": "code",
   "execution_count": null,
   "id": "4587a420",
   "metadata": {},
   "outputs": [],
   "source": [
    "popularity_df = filtered_df.sort_values('popularity', ascending=False)"
   ]
  },
  {
   "cell_type": "code",
   "execution_count": null,
   "id": "dd2f80a3",
   "metadata": {},
   "outputs": [
    {
     "data": {
      "text/plain": [
       "<Axes: ylabel='original_title'>"
      ]
     },
     "metadata": {},
     "output_type": "display_data"
    },
    {
     "data": {
      "image/png": "[encoded data removed]",
      "text/plain": [
       "<Figure size 640x480 with 1 Axes>"
      ]
     },
     "metadata": {},
     "output_type": "display_data"
    }
   ],
   "source": [
    "popularity_df.set_index('original_title')['popularity'][0:10].plot.barh()"
   ]
  },
  {
   "cell_type": "code",
   "execution_count": null,
   "id": "5fe10d81",
   "metadata": {},
   "outputs": [
    {
     "data": {
      "text/plain": [
       "(481, 19)"
      ]
     },
     "metadata": {},
     "output_type": "display_data"
    }
   ],
   "source": [
    "filtered_df.shape"
   ]
  },
  {
   "cell_type": "code",
   "execution_count": null,
   "id": "64ca4211",
   "metadata": {},
   "outputs": [
    {
     "data": {
      "text/plain": [
       "Index(['budget', 'genres', 'id', 'keywords', 'original_language',\n",
       "       'original_title', 'overview', 'popularity', 'production_companies',\n",
       "       'release_date', 'revenue', 'runtime', 'spoken_languages', 'tagline',\n",
       "       'vote_average', 'vote_count', 'cast', 'crew', 'weighted_average'],\n",
       "      dtype='object')"
      ]
     },
     "metadata": {},
     "output_type": "display_data"
    }
   ],
   "source": [
    "filtered_df.columns"
   ]
  },
  {
   "cell_type": "code",
   "execution_count": null,
   "id": "988dc580",
   "metadata": {},
   "outputs": [
    {
     "data": {
      "text/html": [
       "<div>\n",
       "<style scoped>\n",
       "    .dataframe tbody tr th:only-of-type {\n",
       "        vertical-align: middle;\n",
       "    }\n",
       "\n",
       "    .dataframe tbody tr th {\n",
       "        vertical-align: top;\n",
       "    }\n",
       "\n",
       "    .dataframe thead th {\n",
       "        text-align: right;\n",
       "    }\n",
       "</style>\n",
       "<table border=\"1\" class=\"dataframe\">\n",
       "  <thead>\n",
       "    <tr style=\"text-align: right;\">\n",
       "      <th></th>\n",
       "      <th>weighted_average</th>\n",
       "      <th>popularity</th>\n",
       "    </tr>\n",
       "  </thead>\n",
       "  <tbody>\n",
       "    <tr>\n",
       "      <th>0</th>\n",
       "      <td>7.168053</td>\n",
       "      <td>150.437577</td>\n",
       "    </tr>\n",
       "    <tr>\n",
       "      <th>1</th>\n",
       "      <td>6.918271</td>\n",
       "      <td>139.082615</td>\n",
       "    </tr>\n",
       "    <tr>\n",
       "      <th>2</th>\n",
       "      <td>6.493333</td>\n",
       "      <td>107.376788</td>\n",
       "    </tr>\n",
       "    <tr>\n",
       "      <th>3</th>\n",
       "      <td>7.492998</td>\n",
       "      <td>112.312950</td>\n",
       "    </tr>\n",
       "    <tr>\n",
       "      <th>4</th>\n",
       "      <td>6.500396</td>\n",
       "      <td>43.926995</td>\n",
       "    </tr>\n",
       "  </tbody>\n",
       "</table>\n",
       "</div>"
      ],
      "text/plain": [
       "   weighted_average  popularity\n",
       "0          7.168053  150.437577\n",
       "1          6.918271  139.082615\n",
       "2          6.493333  107.376788\n",
       "3          7.492998  112.312950\n",
       "4          6.500396   43.926995"
      ]
     },
     "metadata": {},
     "output_type": "display_data"
    }
   ],
   "source": [
    "filtered_df[['weighted_average','popularity']][0:5]"
   ]
  },
  {
   "cell_type": "markdown",
   "id": "e7cac3b9",
   "metadata": {},
   "source": [
    "### Normalizing weighted_average and popularity feature to build a hybrid model based on both features"
   ]
  },
  {
   "cell_type": "code",
   "execution_count": null,
   "id": "d96adf3b",
   "metadata": {},
   "outputs": [],
   "source": [
    "from sklearn.preprocessing import MinMaxScaler"
   ]
  },
  {
   "cell_type": "code",
   "execution_count": null,
   "id": "0ec483b6",
   "metadata": {},
   "outputs": [],
   "source": [
    "scaling = MinMaxScaler()"
   ]
  },
  {
   "cell_type": "code",
   "execution_count": null,
   "id": "8663334a",
   "metadata": {},
   "outputs": [],
   "source": [
    "scaled_values = scaling.fit_transform(filtered_df[['weighted_average','popularity']])"
   ]
  },
  {
   "cell_type": "code",
   "execution_count": null,
   "id": "0f75b2a0",
   "metadata": {},
   "outputs": [],
   "source": [
    "filtered_df[['weighted_average_scaled','popularity_scaled']] = scaled_values"
   ]
  },
  {
   "cell_type": "code",
   "execution_count": null,
   "id": "92e87f4b",
   "metadata": {},
   "outputs": [
    {
     "data": {
      "text/plain": [
       "Index(['budget', 'genres', 'id', 'keywords', 'original_language',\n",
       "       'original_title', 'overview', 'popularity', 'production_companies',\n",
       "       'release_date', 'revenue', 'runtime', 'spoken_languages', 'tagline',\n",
       "       'vote_average', 'vote_count', 'cast', 'crew', 'weighted_average',\n",
       "       'weighted_average_scaled', 'popularity_scaled'],\n",
       "      dtype='object')"
      ]
     },
     "metadata": {},
     "output_type": "display_data"
    }
   ],
   "source": [
    "filtered_df.columns"
   ]
  },
  {
   "cell_type": "code",
   "execution_count": null,
   "id": "051f6336",
   "metadata": {},
   "outputs": [
    {
     "data": {
      "text/html": [
       "<div>\n",
       "<style scoped>\n",
       "    .dataframe tbody tr th:only-of-type {\n",
       "        vertical-align: middle;\n",
       "    }\n",
       "\n",
       "    .dataframe tbody tr th {\n",
       "        vertical-align: top;\n",
       "    }\n",
       "\n",
       "    .dataframe thead th {\n",
       "        text-align: right;\n",
       "    }\n",
       "</style>\n",
       "<table border=\"1\" class=\"dataframe\">\n",
       "  <thead>\n",
       "    <tr style=\"text-align: right;\">\n",
       "      <th></th>\n",
       "      <th>budget</th>\n",
       "      <th>genres</th>\n",
       "      <th>id</th>\n",
       "      <th>keywords</th>\n",
       "      <th>original_language</th>\n",
       "      <th>original_title</th>\n",
       "      <th>overview</th>\n",
       "      <th>popularity</th>\n",
       "      <th>production_companies</th>\n",
       "      <th>release_date</th>\n",
       "      <th>...</th>\n",
       "      <th>runtime</th>\n",
       "      <th>spoken_languages</th>\n",
       "      <th>tagline</th>\n",
       "      <th>vote_average</th>\n",
       "      <th>vote_count</th>\n",
       "      <th>cast</th>\n",
       "      <th>crew</th>\n",
       "      <th>weighted_average</th>\n",
       "      <th>weighted_average_scaled</th>\n",
       "      <th>popularity_scaled</th>\n",
       "    </tr>\n",
       "  </thead>\n",
       "  <tbody>\n",
       "    <tr>\n",
       "      <th>0</th>\n",
       "      <td>237000000</td>\n",
       "      <td>[{\"id\": 28, \"name\": \"Action\"}, {\"id\": 12, \"nam...</td>\n",
       "      <td>19995</td>\n",
       "      <td>[{\"id\": 1463, \"name\": \"culture clash\"}, {\"id\":...</td>\n",
       "      <td>en</td>\n",
       "      <td>Avatar</td>\n",
       "      <td>In the 22nd century, a paraplegic Marine is di...</td>\n",
       "      <td>150.437577</td>\n",
       "      <td>[{\"name\": \"Ingenious Film Partners\", \"id\": 289...</td>\n",
       "      <td>2009-12-10</td>\n",
       "      <td>...</td>\n",
       "      <td>162.0</td>\n",
       "      <td>[{\"iso_639_1\": \"en\", \"name\": \"English\"}, {\"iso...</td>\n",
       "      <td>Enter the World of Pandora.</td>\n",
       "      <td>7.2</td>\n",
       "      <td>11800</td>\n",
       "      <td>[{\"cast_id\": 242, \"character\": \"Jake Sully\", \"...</td>\n",
       "      <td>[{\"credit_id\": \"52fe48009251416c750aca23\", \"de...</td>\n",
       "      <td>7.168053</td>\n",
       "      <td>0.607106</td>\n",
       "      <td>0.170052</td>\n",
       "    </tr>\n",
       "    <tr>\n",
       "      <th>1</th>\n",
       "      <td>300000000</td>\n",
       "      <td>[{\"id\": 12, \"name\": \"Adventure\"}, {\"id\": 14, \"...</td>\n",
       "      <td>285</td>\n",
       "      <td>[{\"id\": 270, \"name\": \"ocean\"}, {\"id\": 726, \"na...</td>\n",
       "      <td>en</td>\n",
       "      <td>Pirates of the Caribbean: At World's End</td>\n",
       "      <td>Captain Barbossa, long believed to be dead, ha...</td>\n",
       "      <td>139.082615</td>\n",
       "      <td>[{\"name\": \"Walt Disney Pictures\", \"id\": 2}, {\"...</td>\n",
       "      <td>2007-05-19</td>\n",
       "      <td>...</td>\n",
       "      <td>169.0</td>\n",
       "      <td>[{\"iso_639_1\": \"en\", \"name\": \"English\"}]</td>\n",
       "      <td>At the end of the world, the adventure begins.</td>\n",
       "      <td>6.9</td>\n",
       "      <td>4500</td>\n",
       "      <td>[{\"cast_id\": 4, \"character\": \"Captain Jack Spa...</td>\n",
       "      <td>[{\"credit_id\": \"52fe4232c3a36847f800b579\", \"de...</td>\n",
       "      <td>6.918271</td>\n",
       "      <td>0.513695</td>\n",
       "      <td>0.157056</td>\n",
       "    </tr>\n",
       "    <tr>\n",
       "      <th>2</th>\n",
       "      <td>245000000</td>\n",
       "      <td>[{\"id\": 28, \"name\": \"Action\"}, {\"id\": 12, \"nam...</td>\n",
       "      <td>206647</td>\n",
       "      <td>[{\"id\": 470, \"name\": \"spy\"}, {\"id\": 818, \"name...</td>\n",
       "      <td>en</td>\n",
       "      <td>Spectre</td>\n",
       "      <td>A cryptic message from Bond’s past sends him o...</td>\n",
       "      <td>107.376788</td>\n",
       "      <td>[{\"name\": \"Columbia Pictures\", \"id\": 5}, {\"nam...</td>\n",
       "      <td>2015-10-26</td>\n",
       "      <td>...</td>\n",
       "      <td>148.0</td>\n",
       "      <td>[{\"iso_639_1\": \"fr\", \"name\": \"Fran\\u00e7ais\"},...</td>\n",
       "      <td>A Plan No One Escapes</td>\n",
       "      <td>6.3</td>\n",
       "      <td>4466</td>\n",
       "      <td>[{\"cast_id\": 1, \"character\": \"James Bond\", \"cr...</td>\n",
       "      <td>[{\"credit_id\": \"54805967c3a36829b5002c41\", \"de...</td>\n",
       "      <td>6.493333</td>\n",
       "      <td>0.354781</td>\n",
       "      <td>0.120768</td>\n",
       "    </tr>\n",
       "  </tbody>\n",
       "</table>\n",
       "<p>3 rows × 21 columns</p>\n",
       "</div>"
      ],
      "text/plain": [
       "      budget                                             genres      id  \\\n",
       "0  237000000  [{\"id\": 28, \"name\": \"Action\"}, {\"id\": 12, \"nam...   19995   \n",
       "1  300000000  [{\"id\": 12, \"name\": \"Adventure\"}, {\"id\": 14, \"...     285   \n",
       "2  245000000  [{\"id\": 28, \"name\": \"Action\"}, {\"id\": 12, \"nam...  206647   \n",
       "\n",
       "                                            keywords original_language  \\\n",
       "0  [{\"id\": 1463, \"name\": \"culture clash\"}, {\"id\":...                en   \n",
       "1  [{\"id\": 270, \"name\": \"ocean\"}, {\"id\": 726, \"na...                en   \n",
       "2  [{\"id\": 470, \"name\": \"spy\"}, {\"id\": 818, \"name...                en   \n",
       "\n",
       "                             original_title  \\\n",
       "0                                    Avatar   \n",
       "1  Pirates of the Caribbean: At World's End   \n",
       "2                                   Spectre   \n",
       "\n",
       "                                            overview  popularity  \\\n",
       "0  In the 22nd century, a paraplegic Marine is di...  150.437577   \n",
       "1  Captain Barbossa, long believed to be dead, ha...  139.082615   \n",
       "2  A cryptic message from Bond’s past sends him o...  107.376788   \n",
       "\n",
       "                                production_companies release_date  ...  \\\n",
       "0  [{\"name\": \"Ingenious Film Partners\", \"id\": 289...   2009-12-10  ...   \n",
       "1  [{\"name\": \"Walt Disney Pictures\", \"id\": 2}, {\"...   2007-05-19  ...   \n",
       "2  [{\"name\": \"Columbia Pictures\", \"id\": 5}, {\"nam...   2015-10-26  ...   \n",
       "\n",
       "   runtime                                   spoken_languages  \\\n",
       "0    162.0  [{\"iso_639_1\": \"en\", \"name\": \"English\"}, {\"iso...   \n",
       "1    169.0           [{\"iso_639_1\": \"en\", \"name\": \"English\"}]   \n",
       "2    148.0  [{\"iso_639_1\": \"fr\", \"name\": \"Fran\\u00e7ais\"},...   \n",
       "\n",
       "                                          tagline vote_average  vote_count  \\\n",
       "0                     Enter the World of Pandora.          7.2       11800   \n",
       "1  At the end of the world, the adventure begins.          6.9        4500   \n",
       "2                           A Plan No One Escapes          6.3        4466   \n",
       "\n",
       "                                                cast  \\\n",
       "0  [{\"cast_id\": 242, \"character\": \"Jake Sully\", \"...   \n",
       "1  [{\"cast_id\": 4, \"character\": \"Captain Jack Spa...   \n",
       "2  [{\"cast_id\": 1, \"character\": \"James Bond\", \"cr...   \n",
       "\n",
       "                                                crew weighted_average  \\\n",
       "0  [{\"credit_id\": \"52fe48009251416c750aca23\", \"de...         7.168053   \n",
       "1  [{\"credit_id\": \"52fe4232c3a36847f800b579\", \"de...         6.918271   \n",
       "2  [{\"credit_id\": \"54805967c3a36829b5002c41\", \"de...         6.493333   \n",
       "\n",
       "   weighted_average_scaled  popularity_scaled  \n",
       "0                 0.607106           0.170052  \n",
       "1                 0.513695           0.157056  \n",
       "2                 0.354781           0.120768  \n",
       "\n",
       "[3 rows x 21 columns]"
      ]
     },
     "metadata": {},
     "output_type": "display_data"
    }
   ],
   "source": [
    "filtered_df.head(3)"
   ]
  },
  {
   "cell_type": "code",
   "execution_count": null,
   "id": "8a884977",
   "metadata": {},
   "outputs": [
    {
     "data": {
      "text/plain": [
       "Index(['budget', 'genres', 'id', 'keywords', 'original_language',\n",
       "       'original_title', 'overview', 'popularity', 'production_companies',\n",
       "       'release_date', 'revenue', 'runtime', 'spoken_languages', 'tagline',\n",
       "       'vote_average', 'vote_count', 'cast', 'crew', 'weighted_average',\n",
       "       'weighted_average_scaled', 'popularity_scaled'],\n",
       "      dtype='object')"
      ]
     },
     "metadata": {},
     "output_type": "display_data"
    }
   ],
   "source": [
    "filtered_df.columns"
   ]
  },
  {
   "cell_type": "markdown",
   "id": "2e49d16a",
   "metadata": {},
   "source": [
    "### 50% weights taken from both features to build a hybrid score"
   ]
  },
  {
   "cell_type": "code",
   "execution_count": null,
   "id": "74df02e2",
   "metadata": {},
   "outputs": [],
   "source": [
    "filtered_df['score_mix'] = filtered_df['weighted_average_scaled'] * 0.5 + filtered_df['popularity_scaled'] * 0.5"
   ]
  },
  {
   "cell_type": "code",
   "execution_count": null,
   "id": "9d68ad43",
   "metadata": {},
   "outputs": [
    {
     "data": {
      "text/html": [
       "<div>\n",
       "<style scoped>\n",
       "    .dataframe tbody tr th:only-of-type {\n",
       "        vertical-align: middle;\n",
       "    }\n",
       "\n",
       "    .dataframe tbody tr th {\n",
       "        vertical-align: top;\n",
       "    }\n",
       "\n",
       "    .dataframe thead th {\n",
       "        text-align: right;\n",
       "    }\n",
       "</style>\n",
       "<table border=\"1\" class=\"dataframe\">\n",
       "  <thead>\n",
       "    <tr style=\"text-align: right;\">\n",
       "      <th></th>\n",
       "      <th>budget</th>\n",
       "      <th>genres</th>\n",
       "      <th>id</th>\n",
       "      <th>keywords</th>\n",
       "      <th>original_language</th>\n",
       "      <th>original_title</th>\n",
       "      <th>overview</th>\n",
       "      <th>popularity</th>\n",
       "      <th>production_companies</th>\n",
       "      <th>release_date</th>\n",
       "      <th>...</th>\n",
       "      <th>spoken_languages</th>\n",
       "      <th>tagline</th>\n",
       "      <th>vote_average</th>\n",
       "      <th>vote_count</th>\n",
       "      <th>cast</th>\n",
       "      <th>crew</th>\n",
       "      <th>weighted_average</th>\n",
       "      <th>weighted_average_scaled</th>\n",
       "      <th>popularity_scaled</th>\n",
       "      <th>score_mix</th>\n",
       "    </tr>\n",
       "  </thead>\n",
       "  <tbody>\n",
       "    <tr>\n",
       "      <th>0</th>\n",
       "      <td>237000000</td>\n",
       "      <td>[{\"id\": 28, \"name\": \"Action\"}, {\"id\": 12, \"nam...</td>\n",
       "      <td>19995</td>\n",
       "      <td>[{\"id\": 1463, \"name\": \"culture clash\"}, {\"id\":...</td>\n",
       "      <td>en</td>\n",
       "      <td>Avatar</td>\n",
       "      <td>In the 22nd century, a paraplegic Marine is di...</td>\n",
       "      <td>150.437577</td>\n",
       "      <td>[{\"name\": \"Ingenious Film Partners\", \"id\": 289...</td>\n",
       "      <td>2009-12-10</td>\n",
       "      <td>...</td>\n",
       "      <td>[{\"iso_639_1\": \"en\", \"name\": \"English\"}, {\"iso...</td>\n",
       "      <td>Enter the World of Pandora.</td>\n",
       "      <td>7.2</td>\n",
       "      <td>11800</td>\n",
       "      <td>[{\"cast_id\": 242, \"character\": \"Jake Sully\", \"...</td>\n",
       "      <td>[{\"credit_id\": \"52fe48009251416c750aca23\", \"de...</td>\n",
       "      <td>7.168053</td>\n",
       "      <td>0.607106</td>\n",
       "      <td>0.170052</td>\n",
       "      <td>0.388579</td>\n",
       "    </tr>\n",
       "    <tr>\n",
       "      <th>1</th>\n",
       "      <td>300000000</td>\n",
       "      <td>[{\"id\": 12, \"name\": \"Adventure\"}, {\"id\": 14, \"...</td>\n",
       "      <td>285</td>\n",
       "      <td>[{\"id\": 270, \"name\": \"ocean\"}, {\"id\": 726, \"na...</td>\n",
       "      <td>en</td>\n",
       "      <td>Pirates of the Caribbean: At World's End</td>\n",
       "      <td>Captain Barbossa, long believed to be dead, ha...</td>\n",
       "      <td>139.082615</td>\n",
       "      <td>[{\"name\": \"Walt Disney Pictures\", \"id\": 2}, {\"...</td>\n",
       "      <td>2007-05-19</td>\n",
       "      <td>...</td>\n",
       "      <td>[{\"iso_639_1\": \"en\", \"name\": \"English\"}]</td>\n",
       "      <td>At the end of the world, the adventure begins.</td>\n",
       "      <td>6.9</td>\n",
       "      <td>4500</td>\n",
       "      <td>[{\"cast_id\": 4, \"character\": \"Captain Jack Spa...</td>\n",
       "      <td>[{\"credit_id\": \"52fe4232c3a36847f800b579\", \"de...</td>\n",
       "      <td>6.918271</td>\n",
       "      <td>0.513695</td>\n",
       "      <td>0.157056</td>\n",
       "      <td>0.335375</td>\n",
       "    </tr>\n",
       "    <tr>\n",
       "      <th>2</th>\n",
       "      <td>245000000</td>\n",
       "      <td>[{\"id\": 28, \"name\": \"Action\"}, {\"id\": 12, \"nam...</td>\n",
       "      <td>206647</td>\n",
       "      <td>[{\"id\": 470, \"name\": \"spy\"}, {\"id\": 818, \"name...</td>\n",
       "      <td>en</td>\n",
       "      <td>Spectre</td>\n",
       "      <td>A cryptic message from Bond’s past sends him o...</td>\n",
       "      <td>107.376788</td>\n",
       "      <td>[{\"name\": \"Columbia Pictures\", \"id\": 5}, {\"nam...</td>\n",
       "      <td>2015-10-26</td>\n",
       "      <td>...</td>\n",
       "      <td>[{\"iso_639_1\": \"fr\", \"name\": \"Fran\\u00e7ais\"},...</td>\n",
       "      <td>A Plan No One Escapes</td>\n",
       "      <td>6.3</td>\n",
       "      <td>4466</td>\n",
       "      <td>[{\"cast_id\": 1, \"character\": \"James Bond\", \"cr...</td>\n",
       "      <td>[{\"credit_id\": \"54805967c3a36829b5002c41\", \"de...</td>\n",
       "      <td>6.493333</td>\n",
       "      <td>0.354781</td>\n",
       "      <td>0.120768</td>\n",
       "      <td>0.237774</td>\n",
       "    </tr>\n",
       "    <tr>\n",
       "      <th>3</th>\n",
       "      <td>250000000</td>\n",
       "      <td>[{\"id\": 28, \"name\": \"Action\"}, {\"id\": 80, \"nam...</td>\n",
       "      <td>49026</td>\n",
       "      <td>[{\"id\": 849, \"name\": \"dc comics\"}, {\"id\": 853,...</td>\n",
       "      <td>en</td>\n",
       "      <td>The Dark Knight Rises</td>\n",
       "      <td>Following the death of District Attorney Harve...</td>\n",
       "      <td>112.312950</td>\n",
       "      <td>[{\"name\": \"Legendary Pictures\", \"id\": 923}, {\"...</td>\n",
       "      <td>2012-07-16</td>\n",
       "      <td>...</td>\n",
       "      <td>[{\"iso_639_1\": \"en\", \"name\": \"English\"}]</td>\n",
       "      <td>The Legend Ends</td>\n",
       "      <td>7.6</td>\n",
       "      <td>9106</td>\n",
       "      <td>[{\"cast_id\": 2, \"character\": \"Bruce Wayne / Ba...</td>\n",
       "      <td>[{\"credit_id\": \"52fe4781c3a36847f81398c3\", \"de...</td>\n",
       "      <td>7.492998</td>\n",
       "      <td>0.728625</td>\n",
       "      <td>0.126417</td>\n",
       "      <td>0.427521</td>\n",
       "    </tr>\n",
       "  </tbody>\n",
       "</table>\n",
       "<p>4 rows × 22 columns</p>\n",
       "</div>"
      ],
      "text/plain": [
       "      budget                                             genres      id  \\\n",
       "0  237000000  [{\"id\": 28, \"name\": \"Action\"}, {\"id\": 12, \"nam...   19995   \n",
       "1  300000000  [{\"id\": 12, \"name\": \"Adventure\"}, {\"id\": 14, \"...     285   \n",
       "2  245000000  [{\"id\": 28, \"name\": \"Action\"}, {\"id\": 12, \"nam...  206647   \n",
       "3  250000000  [{\"id\": 28, \"name\": \"Action\"}, {\"id\": 80, \"nam...   49026   \n",
       "\n",
       "                                            keywords original_language  \\\n",
       "0  [{\"id\": 1463, \"name\": \"culture clash\"}, {\"id\":...                en   \n",
       "1  [{\"id\": 270, \"name\": \"ocean\"}, {\"id\": 726, \"na...                en   \n",
       "2  [{\"id\": 470, \"name\": \"spy\"}, {\"id\": 818, \"name...                en   \n",
       "3  [{\"id\": 849, \"name\": \"dc comics\"}, {\"id\": 853,...                en   \n",
       "\n",
       "                             original_title  \\\n",
       "0                                    Avatar   \n",
       "1  Pirates of the Caribbean: At World's End   \n",
       "2                                   Spectre   \n",
       "3                     The Dark Knight Rises   \n",
       "\n",
       "                                            overview  popularity  \\\n",
       "0  In the 22nd century, a paraplegic Marine is di...  150.437577   \n",
       "1  Captain Barbossa, long believed to be dead, ha...  139.082615   \n",
       "2  A cryptic message from Bond’s past sends him o...  107.376788   \n",
       "3  Following the death of District Attorney Harve...  112.312950   \n",
       "\n",
       "                                production_companies release_date  ...  \\\n",
       "0  [{\"name\": \"Ingenious Film Partners\", \"id\": 289...   2009-12-10  ...   \n",
       "1  [{\"name\": \"Walt Disney Pictures\", \"id\": 2}, {\"...   2007-05-19  ...   \n",
       "2  [{\"name\": \"Columbia Pictures\", \"id\": 5}, {\"nam...   2015-10-26  ...   \n",
       "3  [{\"name\": \"Legendary Pictures\", \"id\": 923}, {\"...   2012-07-16  ...   \n",
       "\n",
       "                                    spoken_languages  \\\n",
       "0  [{\"iso_639_1\": \"en\", \"name\": \"English\"}, {\"iso...   \n",
       "1           [{\"iso_639_1\": \"en\", \"name\": \"English\"}]   \n",
       "2  [{\"iso_639_1\": \"fr\", \"name\": \"Fran\\u00e7ais\"},...   \n",
       "3           [{\"iso_639_1\": \"en\", \"name\": \"English\"}]   \n",
       "\n",
       "                                          tagline vote_average vote_count  \\\n",
       "0                     Enter the World of Pandora.          7.2      11800   \n",
       "1  At the end of the world, the adventure begins.          6.9       4500   \n",
       "2                           A Plan No One Escapes          6.3       4466   \n",
       "3                                 The Legend Ends          7.6       9106   \n",
       "\n",
       "                                                cast  \\\n",
       "0  [{\"cast_id\": 242, \"character\": \"Jake Sully\", \"...   \n",
       "1  [{\"cast_id\": 4, \"character\": \"Captain Jack Spa...   \n",
       "2  [{\"cast_id\": 1, \"character\": \"James Bond\", \"cr...   \n",
       "3  [{\"cast_id\": 2, \"character\": \"Bruce Wayne / Ba...   \n",
       "\n",
       "                                                crew weighted_average  \\\n",
       "0  [{\"credit_id\": \"52fe48009251416c750aca23\", \"de...         7.168053   \n",
       "1  [{\"credit_id\": \"52fe4232c3a36847f800b579\", \"de...         6.918271   \n",
       "2  [{\"credit_id\": \"54805967c3a36829b5002c41\", \"de...         6.493333   \n",
       "3  [{\"credit_id\": \"52fe4781c3a36847f81398c3\", \"de...         7.492998   \n",
       "\n",
       "  weighted_average_scaled  popularity_scaled  score_mix  \n",
       "0                0.607106           0.170052   0.388579  \n",
       "1                0.513695           0.157056   0.335375  \n",
       "2                0.354781           0.120768   0.237774  \n",
       "3                0.728625           0.126417   0.427521  \n",
       "\n",
       "[4 rows x 22 columns]"
      ]
     },
     "metadata": {},
     "output_type": "display_data"
    }
   ],
   "source": [
    "filtered_df.head(4)"
   ]
  },
  {
   "cell_type": "markdown",
   "id": "c272c830",
   "metadata": {},
   "source": [
    "## Highest Recommended movies based on the popularity and weighted average"
   ]
  },
  {
   "cell_type": "code",
   "execution_count": null,
   "id": "554cbd4f",
   "metadata": {},
   "outputs": [],
   "source": [
    "rank_df = filtered_df.sort_values('score_mix',ascending=False).head(10)"
   ]
  },
  {
   "cell_type": "code",
   "execution_count": null,
   "id": "ec732def",
   "metadata": {},
   "outputs": [
    {
     "data": {
      "text/html": [
       "<div>\n",
       "<style scoped>\n",
       "    .dataframe tbody tr th:only-of-type {\n",
       "        vertical-align: middle;\n",
       "    }\n",
       "\n",
       "    .dataframe tbody tr th {\n",
       "        vertical-align: top;\n",
       "    }\n",
       "\n",
       "    .dataframe thead th {\n",
       "        text-align: right;\n",
       "    }\n",
       "</style>\n",
       "<table border=\"1\" class=\"dataframe\">\n",
       "  <thead>\n",
       "    <tr style=\"text-align: right;\">\n",
       "      <th></th>\n",
       "      <th>budget</th>\n",
       "      <th>genres</th>\n",
       "      <th>id</th>\n",
       "      <th>keywords</th>\n",
       "      <th>original_language</th>\n",
       "      <th>original_title</th>\n",
       "      <th>overview</th>\n",
       "      <th>popularity</th>\n",
       "      <th>production_companies</th>\n",
       "      <th>release_date</th>\n",
       "      <th>...</th>\n",
       "      <th>spoken_languages</th>\n",
       "      <th>tagline</th>\n",
       "      <th>vote_average</th>\n",
       "      <th>vote_count</th>\n",
       "      <th>cast</th>\n",
       "      <th>crew</th>\n",
       "      <th>weighted_average</th>\n",
       "      <th>weighted_average_scaled</th>\n",
       "      <th>popularity_scaled</th>\n",
       "      <th>score_mix</th>\n",
       "    </tr>\n",
       "  </thead>\n",
       "  <tbody>\n",
       "    <tr>\n",
       "      <th>95</th>\n",
       "      <td>165000000</td>\n",
       "      <td>[{\"id\": 12, \"name\": \"Adventure\"}, {\"id\": 18, \"...</td>\n",
       "      <td>157336</td>\n",
       "      <td>[{\"id\": 83, \"name\": \"saving the world\"}, {\"id\"...</td>\n",
       "      <td>en</td>\n",
       "      <td>Interstellar</td>\n",
       "      <td>Interstellar chronicles the adventures of a gr...</td>\n",
       "      <td>724.247784</td>\n",
       "      <td>[{\"name\": \"Paramount Pictures\", \"id\": 4}, {\"na...</td>\n",
       "      <td>2014-11-05</td>\n",
       "      <td>...</td>\n",
       "      <td>[{\"iso_639_1\": \"en\", \"name\": \"English\"}]</td>\n",
       "      <td>Mankind was born on Earth. It was never meant ...</td>\n",
       "      <td>8.1</td>\n",
       "      <td>10867</td>\n",
       "      <td>[{\"cast_id\": 9, \"character\": \"Joseph Cooper\", ...</td>\n",
       "      <td>[{\"credit_id\": \"52fe4bbf9251416c910e4801\", \"de...</td>\n",
       "      <td>7.935482</td>\n",
       "      <td>0.894101</td>\n",
       "      <td>0.826794</td>\n",
       "      <td>0.860448</td>\n",
       "    </tr>\n",
       "    <tr>\n",
       "      <th>546</th>\n",
       "      <td>74000000</td>\n",
       "      <td>[{\"id\": 10751, \"name\": \"Family\"}, {\"id\": 16, \"...</td>\n",
       "      <td>211672</td>\n",
       "      <td>[{\"id\": 3487, \"name\": \"assistant\"}, {\"id\": 179...</td>\n",
       "      <td>en</td>\n",
       "      <td>Minions</td>\n",
       "      <td>Minions Stuart, Kevin and Bob are recruited by...</td>\n",
       "      <td>875.581305</td>\n",
       "      <td>[{\"name\": \"Universal Pictures\", \"id\": 33}, {\"n...</td>\n",
       "      <td>2015-06-17</td>\n",
       "      <td>...</td>\n",
       "      <td>[{\"iso_639_1\": \"en\", \"name\": \"English\"}]</td>\n",
       "      <td>Before Gru, they had a history of bad bosses</td>\n",
       "      <td>6.4</td>\n",
       "      <td>4571</td>\n",
       "      <td>[{\"cast_id\": 22, \"character\": \"Scarlet Overkil...</td>\n",
       "      <td>[{\"credit_id\": \"5431b2b10e0a2656e20026c7\", \"de...</td>\n",
       "      <td>6.561483</td>\n",
       "      <td>0.380267</td>\n",
       "      <td>1.000000</td>\n",
       "      <td>0.690134</td>\n",
       "    </tr>\n",
       "    <tr>\n",
       "      <th>94</th>\n",
       "      <td>170000000</td>\n",
       "      <td>[{\"id\": 28, \"name\": \"Action\"}, {\"id\": 878, \"na...</td>\n",
       "      <td>118340</td>\n",
       "      <td>[{\"id\": 8828, \"name\": \"marvel comic\"}, {\"id\": ...</td>\n",
       "      <td>en</td>\n",
       "      <td>Guardians of the Galaxy</td>\n",
       "      <td>Light years from Earth, 26 years after being a...</td>\n",
       "      <td>481.098624</td>\n",
       "      <td>[{\"name\": \"Marvel Studios\", \"id\": 420}, {\"name...</td>\n",
       "      <td>2014-07-30</td>\n",
       "      <td>...</td>\n",
       "      <td>[{\"iso_639_1\": \"en\", \"name\": \"English\"}]</td>\n",
       "      <td>All heroes start somewhere.</td>\n",
       "      <td>7.9</td>\n",
       "      <td>9742</td>\n",
       "      <td>[{\"cast_id\": 1, \"character\": \"Peter Quill / St...</td>\n",
       "      <td>[{\"credit_id\": \"538ce329c3a3687155003358\", \"de...</td>\n",
       "      <td>7.751249</td>\n",
       "      <td>0.825203</td>\n",
       "      <td>0.548503</td>\n",
       "      <td>0.686853</td>\n",
       "    </tr>\n",
       "    <tr>\n",
       "      <th>788</th>\n",
       "      <td>58000000</td>\n",
       "      <td>[{\"id\": 28, \"name\": \"Action\"}, {\"id\": 12, \"nam...</td>\n",
       "      <td>293660</td>\n",
       "      <td>[{\"id\": 2095, \"name\": \"anti hero\"}, {\"id\": 307...</td>\n",
       "      <td>en</td>\n",
       "      <td>Deadpool</td>\n",
       "      <td>Deadpool tells the origin story of former Spec...</td>\n",
       "      <td>514.569956</td>\n",
       "      <td>[{\"name\": \"Twentieth Century Fox Film Corporat...</td>\n",
       "      <td>2016-02-09</td>\n",
       "      <td>...</td>\n",
       "      <td>[{\"iso_639_1\": \"en\", \"name\": \"English\"}]</td>\n",
       "      <td>Witness the beginning of a happy ending</td>\n",
       "      <td>7.4</td>\n",
       "      <td>10995</td>\n",
       "      <td>[{\"cast_id\": 99, \"character\": \"Wade Wilson / D...</td>\n",
       "      <td>[{\"credit_id\": \"56c986b2925141172f0068b6\", \"de...</td>\n",
       "      <td>7.337398</td>\n",
       "      <td>0.670436</td>\n",
       "      <td>0.586812</td>\n",
       "      <td>0.628624</td>\n",
       "    </tr>\n",
       "    <tr>\n",
       "      <th>1881</th>\n",
       "      <td>25000000</td>\n",
       "      <td>[{\"id\": 18, \"name\": \"Drama\"}, {\"id\": 80, \"name...</td>\n",
       "      <td>278</td>\n",
       "      <td>[{\"id\": 378, \"name\": \"prison\"}, {\"id\": 417, \"n...</td>\n",
       "      <td>en</td>\n",
       "      <td>The Shawshank Redemption</td>\n",
       "      <td>Framed in the 1940s for the double murder of h...</td>\n",
       "      <td>136.747729</td>\n",
       "      <td>[{\"name\": \"Castle Rock Entertainment\", \"id\": 97}]</td>\n",
       "      <td>1994-09-23</td>\n",
       "      <td>...</td>\n",
       "      <td>[{\"iso_639_1\": \"en\", \"name\": \"English\"}]</td>\n",
       "      <td>Fear can hold you prisoner. Hope can set you f...</td>\n",
       "      <td>8.5</td>\n",
       "      <td>8205</td>\n",
       "      <td>[{\"cast_id\": 3, \"character\": \"Andy Dufresne\", ...</td>\n",
       "      <td>[{\"credit_id\": \"52fe4231c3a36847f800b153\", \"de...</td>\n",
       "      <td>8.218658</td>\n",
       "      <td>1.000000</td>\n",
       "      <td>0.154384</td>\n",
       "      <td>0.577192</td>\n",
       "    </tr>\n",
       "    <tr>\n",
       "      <th>65</th>\n",
       "      <td>185000000</td>\n",
       "      <td>[{\"id\": 18, \"name\": \"Drama\"}, {\"id\": 28, \"name...</td>\n",
       "      <td>155</td>\n",
       "      <td>[{\"id\": 849, \"name\": \"dc comics\"}, {\"id\": 853,...</td>\n",
       "      <td>en</td>\n",
       "      <td>The Dark Knight</td>\n",
       "      <td>Batman raises the stakes in his war on crime. ...</td>\n",
       "      <td>187.322927</td>\n",
       "      <td>[{\"name\": \"DC Comics\", \"id\": 429}, {\"name\": \"L...</td>\n",
       "      <td>2008-07-16</td>\n",
       "      <td>...</td>\n",
       "      <td>[{\"iso_639_1\": \"en\", \"name\": \"English\"}, {\"iso...</td>\n",
       "      <td>Why So Serious?</td>\n",
       "      <td>8.2</td>\n",
       "      <td>12002</td>\n",
       "      <td>[{\"cast_id\": 35, \"character\": \"Bruce Wayne\", \"...</td>\n",
       "      <td>[{\"credit_id\": \"55a0eb4a925141296b0010f8\", \"de...</td>\n",
       "      <td>8.035690</td>\n",
       "      <td>0.931576</td>\n",
       "      <td>0.212268</td>\n",
       "      <td>0.571922</td>\n",
       "    </tr>\n",
       "    <tr>\n",
       "      <th>662</th>\n",
       "      <td>63000000</td>\n",
       "      <td>[{\"id\": 18, \"name\": \"Drama\"}]</td>\n",
       "      <td>550</td>\n",
       "      <td>[{\"id\": 825, \"name\": \"support group\"}, {\"id\": ...</td>\n",
       "      <td>en</td>\n",
       "      <td>Fight Club</td>\n",
       "      <td>A ticking-time-bomb insomniac and a slippery s...</td>\n",
       "      <td>146.757391</td>\n",
       "      <td>[{\"name\": \"Regency Enterprises\", \"id\": 508}, {...</td>\n",
       "      <td>1999-10-15</td>\n",
       "      <td>...</td>\n",
       "      <td>[{\"iso_639_1\": \"en\", \"name\": \"English\"}]</td>\n",
       "      <td>Mischief. Mayhem. Soap.</td>\n",
       "      <td>8.3</td>\n",
       "      <td>9413</td>\n",
       "      <td>[{\"cast_id\": 4, \"character\": \"The Narrator\", \"...</td>\n",
       "      <td>[{\"credit_id\": \"55731b8192514111610027d7\", \"de...</td>\n",
       "      <td>8.081543</td>\n",
       "      <td>0.948723</td>\n",
       "      <td>0.165840</td>\n",
       "      <td>0.557282</td>\n",
       "    </tr>\n",
       "    <tr>\n",
       "      <th>3337</th>\n",
       "      <td>6000000</td>\n",
       "      <td>[{\"id\": 18, \"name\": \"Drama\"}, {\"id\": 80, \"name...</td>\n",
       "      <td>238</td>\n",
       "      <td>[{\"id\": 131, \"name\": \"italy\"}, {\"id\": 699, \"na...</td>\n",
       "      <td>en</td>\n",
       "      <td>The Godfather</td>\n",
       "      <td>Spanning the years 1945 to 1955, a chronicle o...</td>\n",
       "      <td>143.659698</td>\n",
       "      <td>[{\"name\": \"Paramount Pictures\", \"id\": 4}, {\"na...</td>\n",
       "      <td>1972-03-14</td>\n",
       "      <td>...</td>\n",
       "      <td>[{\"iso_639_1\": \"en\", \"name\": \"English\"}, {\"iso...</td>\n",
       "      <td>An offer you can't refuse.</td>\n",
       "      <td>8.4</td>\n",
       "      <td>5893</td>\n",
       "      <td>[{\"cast_id\": 5, \"character\": \"Don Vito Corleon...</td>\n",
       "      <td>[{\"credit_id\": \"52fe422bc3a36847f80093c9\", \"de...</td>\n",
       "      <td>8.058304</td>\n",
       "      <td>0.940032</td>\n",
       "      <td>0.162295</td>\n",
       "      <td>0.551163</td>\n",
       "    </tr>\n",
       "    <tr>\n",
       "      <th>127</th>\n",
       "      <td>150000000</td>\n",
       "      <td>[{\"id\": 28, \"name\": \"Action\"}, {\"id\": 12, \"nam...</td>\n",
       "      <td>76341</td>\n",
       "      <td>[{\"id\": 2964, \"name\": \"future\"}, {\"id\": 3713, ...</td>\n",
       "      <td>en</td>\n",
       "      <td>Mad Max: Fury Road</td>\n",
       "      <td>An apocalyptic story set in the furthest reach...</td>\n",
       "      <td>434.278564</td>\n",
       "      <td>[{\"name\": \"Village Roadshow Pictures\", \"id\": 7...</td>\n",
       "      <td>2015-05-13</td>\n",
       "      <td>...</td>\n",
       "      <td>[{\"iso_639_1\": \"en\", \"name\": \"English\"}]</td>\n",
       "      <td>What a Lovely Day.</td>\n",
       "      <td>7.2</td>\n",
       "      <td>9427</td>\n",
       "      <td>[{\"cast_id\": 2, \"character\": \"Max Rockatansky\"...</td>\n",
       "      <td>[{\"credit_id\": \"577da370c3a36817f8003838\", \"de...</td>\n",
       "      <td>7.161323</td>\n",
       "      <td>0.604589</td>\n",
       "      <td>0.494916</td>\n",
       "      <td>0.549753</td>\n",
       "    </tr>\n",
       "    <tr>\n",
       "      <th>3865</th>\n",
       "      <td>3300000</td>\n",
       "      <td>[{\"id\": 18, \"name\": \"Drama\"}]</td>\n",
       "      <td>244786</td>\n",
       "      <td>[{\"id\": 1416, \"name\": \"jazz\"}, {\"id\": 1523, \"n...</td>\n",
       "      <td>en</td>\n",
       "      <td>Whiplash</td>\n",
       "      <td>Under the direction of a ruthless instructor, ...</td>\n",
       "      <td>192.528841</td>\n",
       "      <td>[{\"name\": \"Bold Films\", \"id\": 2266}, {\"name\": ...</td>\n",
       "      <td>2014-10-10</td>\n",
       "      <td>...</td>\n",
       "      <td>[{\"iso_639_1\": \"en\", \"name\": \"English\"}]</td>\n",
       "      <td>The road to greatness can take you to the edge.</td>\n",
       "      <td>8.3</td>\n",
       "      <td>4254</td>\n",
       "      <td>[{\"cast_id\": 5, \"character\": \"Andrew Neimann\",...</td>\n",
       "      <td>[{\"credit_id\": \"54d5356ec3a3683ba0000039\", \"de...</td>\n",
       "      <td>7.896554</td>\n",
       "      <td>0.879543</td>\n",
       "      <td>0.218227</td>\n",
       "      <td>0.548885</td>\n",
       "    </tr>\n",
       "  </tbody>\n",
       "</table>\n",
       "<p>10 rows × 22 columns</p>\n",
       "</div>"
      ],
      "text/plain": [
       "         budget                                             genres      id  \\\n",
       "95    165000000  [{\"id\": 12, \"name\": \"Adventure\"}, {\"id\": 18, \"...  157336   \n",
       "546    74000000  [{\"id\": 10751, \"name\": \"Family\"}, {\"id\": 16, \"...  211672   \n",
       "94    170000000  [{\"id\": 28, \"name\": \"Action\"}, {\"id\": 878, \"na...  118340   \n",
       "788    58000000  [{\"id\": 28, \"name\": \"Action\"}, {\"id\": 12, \"nam...  293660   \n",
       "1881   25000000  [{\"id\": 18, \"name\": \"Drama\"}, {\"id\": 80, \"name...     278   \n",
       "65    185000000  [{\"id\": 18, \"name\": \"Drama\"}, {\"id\": 28, \"name...     155   \n",
       "662    63000000                      [{\"id\": 18, \"name\": \"Drama\"}]     550   \n",
       "3337    6000000  [{\"id\": 18, \"name\": \"Drama\"}, {\"id\": 80, \"name...     238   \n",
       "127   150000000  [{\"id\": 28, \"name\": \"Action\"}, {\"id\": 12, \"nam...   76341   \n",
       "3865    3300000                      [{\"id\": 18, \"name\": \"Drama\"}]  244786   \n",
       "\n",
       "                                               keywords original_language  \\\n",
       "95    [{\"id\": 83, \"name\": \"saving the world\"}, {\"id\"...                en   \n",
       "546   [{\"id\": 3487, \"name\": \"assistant\"}, {\"id\": 179...                en   \n",
       "94    [{\"id\": 8828, \"name\": \"marvel comic\"}, {\"id\": ...                en   \n",
       "788   [{\"id\": 2095, \"name\": \"anti hero\"}, {\"id\": 307...                en   \n",
       "1881  [{\"id\": 378, \"name\": \"prison\"}, {\"id\": 417, \"n...                en   \n",
       "65    [{\"id\": 849, \"name\": \"dc comics\"}, {\"id\": 853,...                en   \n",
       "662   [{\"id\": 825, \"name\": \"support group\"}, {\"id\": ...                en   \n",
       "3337  [{\"id\": 131, \"name\": \"italy\"}, {\"id\": 699, \"na...                en   \n",
       "127   [{\"id\": 2964, \"name\": \"future\"}, {\"id\": 3713, ...                en   \n",
       "3865  [{\"id\": 1416, \"name\": \"jazz\"}, {\"id\": 1523, \"n...                en   \n",
       "\n",
       "                original_title  \\\n",
       "95                Interstellar   \n",
       "546                    Minions   \n",
       "94     Guardians of the Galaxy   \n",
       "788                   Deadpool   \n",
       "1881  The Shawshank Redemption   \n",
       "65             The Dark Knight   \n",
       "662                 Fight Club   \n",
       "3337             The Godfather   \n",
       "127         Mad Max: Fury Road   \n",
       "3865                  Whiplash   \n",
       "\n",
       "                                               overview  popularity  \\\n",
       "95    Interstellar chronicles the adventures of a gr...  724.247784   \n",
       "546   Minions Stuart, Kevin and Bob are recruited by...  875.581305   \n",
       "94    Light years from Earth, 26 years after being a...  481.098624   \n",
       "788   Deadpool tells the origin story of former Spec...  514.569956   \n",
       "1881  Framed in the 1940s for the double murder of h...  136.747729   \n",
       "65    Batman raises the stakes in his war on crime. ...  187.322927   \n",
       "662   A ticking-time-bomb insomniac and a slippery s...  146.757391   \n",
       "3337  Spanning the years 1945 to 1955, a chronicle o...  143.659698   \n",
       "127   An apocalyptic story set in the furthest reach...  434.278564   \n",
       "3865  Under the direction of a ruthless instructor, ...  192.528841   \n",
       "\n",
       "                                   production_companies release_date  ...  \\\n",
       "95    [{\"name\": \"Paramount Pictures\", \"id\": 4}, {\"na...   2014-11-05  ...   \n",
       "546   [{\"name\": \"Universal Pictures\", \"id\": 33}, {\"n...   2015-06-17  ...   \n",
       "94    [{\"name\": \"Marvel Studios\", \"id\": 420}, {\"name...   2014-07-30  ...   \n",
       "788   [{\"name\": \"Twentieth Century Fox Film Corporat...   2016-02-09  ...   \n",
       "1881  [{\"name\": \"Castle Rock Entertainment\", \"id\": 97}]   1994-09-23  ...   \n",
       "65    [{\"name\": \"DC Comics\", \"id\": 429}, {\"name\": \"L...   2008-07-16  ...   \n",
       "662   [{\"name\": \"Regency Enterprises\", \"id\": 508}, {...   1999-10-15  ...   \n",
       "3337  [{\"name\": \"Paramount Pictures\", \"id\": 4}, {\"na...   1972-03-14  ...   \n",
       "127   [{\"name\": \"Village Roadshow Pictures\", \"id\": 7...   2015-05-13  ...   \n",
       "3865  [{\"name\": \"Bold Films\", \"id\": 2266}, {\"name\": ...   2014-10-10  ...   \n",
       "\n",
       "                                       spoken_languages  \\\n",
       "95             [{\"iso_639_1\": \"en\", \"name\": \"English\"}]   \n",
       "546            [{\"iso_639_1\": \"en\", \"name\": \"English\"}]   \n",
       "94             [{\"iso_639_1\": \"en\", \"name\": \"English\"}]   \n",
       "788            [{\"iso_639_1\": \"en\", \"name\": \"English\"}]   \n",
       "1881           [{\"iso_639_1\": \"en\", \"name\": \"English\"}]   \n",
       "65    [{\"iso_639_1\": \"en\", \"name\": \"English\"}, {\"iso...   \n",
       "662            [{\"iso_639_1\": \"en\", \"name\": \"English\"}]   \n",
       "3337  [{\"iso_639_1\": \"en\", \"name\": \"English\"}, {\"iso...   \n",
       "127            [{\"iso_639_1\": \"en\", \"name\": \"English\"}]   \n",
       "3865           [{\"iso_639_1\": \"en\", \"name\": \"English\"}]   \n",
       "\n",
       "                                                tagline vote_average  \\\n",
       "95    Mankind was born on Earth. It was never meant ...          8.1   \n",
       "546        Before Gru, they had a history of bad bosses          6.4   \n",
       "94                          All heroes start somewhere.          7.9   \n",
       "788             Witness the beginning of a happy ending          7.4   \n",
       "1881  Fear can hold you prisoner. Hope can set you f...          8.5   \n",
       "65                                      Why So Serious?          8.2   \n",
       "662                             Mischief. Mayhem. Soap.          8.3   \n",
       "3337                         An offer you can't refuse.          8.4   \n",
       "127                                  What a Lovely Day.          7.2   \n",
       "3865    The road to greatness can take you to the edge.          8.3   \n",
       "\n",
       "     vote_count                                               cast  \\\n",
       "95        10867  [{\"cast_id\": 9, \"character\": \"Joseph Cooper\", ...   \n",
       "546        4571  [{\"cast_id\": 22, \"character\": \"Scarlet Overkil...   \n",
       "94         9742  [{\"cast_id\": 1, \"character\": \"Peter Quill / St...   \n",
       "788       10995  [{\"cast_id\": 99, \"character\": \"Wade Wilson / D...   \n",
       "1881       8205  [{\"cast_id\": 3, \"character\": \"Andy Dufresne\", ...   \n",
       "65        12002  [{\"cast_id\": 35, \"character\": \"Bruce Wayne\", \"...   \n",
       "662        9413  [{\"cast_id\": 4, \"character\": \"The Narrator\", \"...   \n",
       "3337       5893  [{\"cast_id\": 5, \"character\": \"Don Vito Corleon...   \n",
       "127        9427  [{\"cast_id\": 2, \"character\": \"Max Rockatansky\"...   \n",
       "3865       4254  [{\"cast_id\": 5, \"character\": \"Andrew Neimann\",...   \n",
       "\n",
       "                                                   crew weighted_average  \\\n",
       "95    [{\"credit_id\": \"52fe4bbf9251416c910e4801\", \"de...         7.935482   \n",
       "546   [{\"credit_id\": \"5431b2b10e0a2656e20026c7\", \"de...         6.561483   \n",
       "94    [{\"credit_id\": \"538ce329c3a3687155003358\", \"de...         7.751249   \n",
       "788   [{\"credit_id\": \"56c986b2925141172f0068b6\", \"de...         7.337398   \n",
       "1881  [{\"credit_id\": \"52fe4231c3a36847f800b153\", \"de...         8.218658   \n",
       "65    [{\"credit_id\": \"55a0eb4a925141296b0010f8\", \"de...         8.035690   \n",
       "662   [{\"credit_id\": \"55731b8192514111610027d7\", \"de...         8.081543   \n",
       "3337  [{\"credit_id\": \"52fe422bc3a36847f80093c9\", \"de...         8.058304   \n",
       "127   [{\"credit_id\": \"577da370c3a36817f8003838\", \"de...         7.161323   \n",
       "3865  [{\"credit_id\": \"54d5356ec3a3683ba0000039\", \"de...         7.896554   \n",
       "\n",
       "     weighted_average_scaled  popularity_scaled  score_mix  \n",
       "95                  0.894101           0.826794   0.860448  \n",
       "546                 0.380267           1.000000   0.690134  \n",
       "94                  0.825203           0.548503   0.686853  \n",
       "788                 0.670436           0.586812   0.628624  \n",
       "1881                1.000000           0.154384   0.577192  \n",
       "65                  0.931576           0.212268   0.571922  \n",
       "662                 0.948723           0.165840   0.557282  \n",
       "3337                0.940032           0.162295   0.551163  \n",
       "127                 0.604589           0.494916   0.549753  \n",
       "3865                0.879543           0.218227   0.548885  \n",
       "\n",
       "[10 rows x 22 columns]"
      ]
     },
     "metadata": {},
     "output_type": "display_data"
    }
   ],
   "source": [
    "rank_df"
   ]
  },
  {
   "cell_type": "code",
   "execution_count": null,
   "id": "8d5febac",
   "metadata": {},
   "outputs": [],
   "source": [
    "import plotly.express as px"
   ]
  },
  {
   "cell_type": "code",
   "execution_count": null,
   "id": "8cb6a869",
   "metadata": {},
   "outputs": [
    {
     "ename": "ValueError",
     "evalue": "Mime type rendering requires nbformat>=4.2.0 but it is not installed",
     "output_type": "error",
     "traceback": [
      "\u001b[31m---------------------------------------------------------------------------\u001b[39m\n",
      "\u001b[31mValueError\u001b[39m                                Traceback (most recent call last)\n",
      "\u001b[36mFile \u001b[39m\u001b[32mc:\\SPD Docs\\AI Projects\\ML Projects\\movie_recommendation_system\\.venv\\Lib\\site-packages\\IPython\\core\\formatters.py:984\u001b[39m, in \u001b[36mIPythonDisplayFormatter.__call__\u001b[39m\u001b[34m(self, obj)\u001b[39m\n",
      "\u001b[32m    982\u001b[39m method = get_real_method(obj, \u001b[38;5;28mself\u001b[39m.print_method)\n",
      "\u001b[32m    983\u001b[39m \u001b[38;5;28;01mif\u001b[39;00m method \u001b[38;5;129;01mis\u001b[39;00m \u001b[38;5;129;01mnot\u001b[39;00m \u001b[38;5;28;01mNone\u001b[39;00m:\n",
      "\u001b[32m--> \u001b[39m\u001b[32m984\u001b[39m     \u001b[43mmethod\u001b[49m\u001b[43m(\u001b[49m\u001b[43m)\u001b[49m\n",
      "\u001b[32m    985\u001b[39m     \u001b[38;5;28;01mreturn\u001b[39;00m \u001b[38;5;28;01mTrue\u001b[39;00m\n",
      "\n",
      "\u001b[36mFile \u001b[39m\u001b[32mc:\\SPD Docs\\AI Projects\\ML Projects\\movie_recommendation_system\\.venv\\Lib\\site-packages\\plotly\\basedatatypes.py:850\u001b[39m, in \u001b[36mBaseFigure._ipython_display_\u001b[39m\u001b[34m(self)\u001b[39m\n",
      "\u001b[32m    847\u001b[39m \u001b[38;5;28;01mimport\u001b[39;00m\u001b[38;5;250m \u001b[39m\u001b[34;01mplotly\u001b[39;00m\u001b[34;01m.\u001b[39;00m\u001b[34;01mio\u001b[39;00m\u001b[38;5;250m \u001b[39m\u001b[38;5;28;01mas\u001b[39;00m\u001b[38;5;250m \u001b[39m\u001b[34;01mpio\u001b[39;00m\n",
      "\u001b[32m    849\u001b[39m \u001b[38;5;28;01mif\u001b[39;00m pio.renderers.render_on_display \u001b[38;5;129;01mand\u001b[39;00m pio.renderers.default:\n",
      "\u001b[32m--> \u001b[39m\u001b[32m850\u001b[39m     \u001b[43mpio\u001b[49m\u001b[43m.\u001b[49m\u001b[43mshow\u001b[49m\u001b[43m(\u001b[49m\u001b[38;5;28;43mself\u001b[39;49m\u001b[43m)\u001b[49m\n",
      "\u001b[32m    851\u001b[39m \u001b[38;5;28;01melse\u001b[39;00m:\n",
      "\u001b[32m    852\u001b[39m     \u001b[38;5;28mprint\u001b[39m(\u001b[38;5;28mrepr\u001b[39m(\u001b[38;5;28mself\u001b[39m))\n",
      "\n",
      "\u001b[36mFile \u001b[39m\u001b[32mc:\\SPD Docs\\AI Projects\\ML Projects\\movie_recommendation_system\\.venv\\Lib\\site-packages\\plotly\\io\\_renderers.py:415\u001b[39m, in \u001b[36mshow\u001b[39m\u001b[34m(fig, renderer, validate, **kwargs)\u001b[39m\n",
      "\u001b[32m    410\u001b[39m     \u001b[38;5;28;01mraise\u001b[39;00m \u001b[38;5;167;01mValueError\u001b[39;00m(\n",
      "\u001b[32m    411\u001b[39m         \u001b[33m\"\u001b[39m\u001b[33mMime type rendering requires ipython but it is not installed\u001b[39m\u001b[33m\"\u001b[39m\n",
      "\u001b[32m    412\u001b[39m     )\n",
      "\u001b[32m    414\u001b[39m \u001b[38;5;28;01mif\u001b[39;00m \u001b[38;5;129;01mnot\u001b[39;00m nbformat \u001b[38;5;129;01mor\u001b[39;00m Version(nbformat.__version__) < Version(\u001b[33m\"\u001b[39m\u001b[33m4.2.0\u001b[39m\u001b[33m\"\u001b[39m):\n",
      "\u001b[32m--> \u001b[39m\u001b[32m415\u001b[39m     \u001b[38;5;28;01mraise\u001b[39;00m \u001b[38;5;167;01mValueError\u001b[39;00m(\n",
      "\u001b[32m    416\u001b[39m         \u001b[33m\"\u001b[39m\u001b[33mMime type rendering requires nbformat>=4.2.0 but it is not installed\u001b[39m\u001b[33m\"\u001b[39m\n",
      "\u001b[32m    417\u001b[39m     )\n",
      "\u001b[32m    419\u001b[39m display_jupyter_version_warnings()\n",
      "\u001b[32m    421\u001b[39m ipython_display.display(bundle, raw=\u001b[38;5;28;01mTrue\u001b[39;00m)\n",
      "\n",
      "\u001b[31mValueError\u001b[39m: Mime type rendering requires nbformat>=4.2.0 but it is not installed"
     ]
    },
    {
     "data": {
      "application/vnd.plotly.v1+json": {
       "config": {
        "plotlyServerURL": "https://plot.ly"
       },
       "data": [
        {
         "hovertemplate": "original_title=%{x}<br>score_mix=%{y}<extra></extra>",
         "legendgroup": "",
         "marker": {
          "color": "#636efa",
          "pattern": {
           "shape": ""
          }
         },
         "name": "",
         "orientation": "v",
         "showlegend": false,
         "textposition": "auto",
         "type": "bar",
         "x": [
          "Interstellar",
          "Minions",
          "Guardians of the Galaxy",
          "Deadpool",
          "The Shawshank Redemption",
          "The Dark Knight",
          "Fight Club",
          "The Godfather",
          "Mad Max: Fury Road",
          "Whiplash"
         ],
         "xaxis": "x",
         "y": {
          "bdata": "nsSrWsmI6z/8NOT3khXmP3Lx+9iz+uU/Awd0ArAd5D9TCin4WnjiP9p6SIIvTeI/fA7iEUDV4T+gYfGZIaPhPxw7Yt+Sl+E/zoocIneQ4T8=",
          "dtype": "f8"
         },
         "yaxis": "y"
        }
       ],
       "layout": {
        "barmode": "relative",
        "legend": {
         "tracegroupgap": 0
        },
        "margin": {
         "t": 60
        },
        "template": {
         "data": {
          "bar": [
           {
            "error_x": {
             "color": "#2a3f5f"
            },
            "error_y": {
             "color": "#2a3f5f"
            },
            "marker": {
             "line": {
              "color": "#E5ECF6",
              "width": 0.5
             },
             "pattern": {
              "fillmode": "overlay",
              "size": 10,
              "solidity": 0.2
             }
            },
            "type": "bar"
           }
          ],
          "barpolar": [
           {
            "marker": {
             "line": {
              "color": "#E5ECF6",
              "width": 0.5
             },
             "pattern": {
              "fillmode": "overlay",
              "size": 10,
              "solidity": 0.2
             }
            },
            "type": "barpolar"
           }
          ],
          "carpet": [
           {
            "aaxis": {
             "endlinecolor": "#2a3f5f",
             "gridcolor": "white",
             "linecolor": "white",
             "minorgridcolor": "white",
             "startlinecolor": "#2a3f5f"
            },
            "baxis": {
             "endlinecolor": "#2a3f5f",
             "gridcolor": "white",
             "linecolor": "white",
             "minorgridcolor": "white",
             "startlinecolor": "#2a3f5f"
            },
            "type": "carpet"
           }
          ],
          "choropleth": [
           {
            "colorbar": {
             "outlinewidth": 0,
             "ticks": ""
            },
            "type": "choropleth"
           }
          ],
          "contour": [
           {
            "colorbar": {
             "outlinewidth": 0,
             "ticks": ""
            },
            "colorscale": [
             [
              0,
              "#0d0887"
             ],
             [
              0.1111111111111111,
              "#46039f"
             ],
             [
              0.2222222222222222,
              "#7201a8"
             ],
             [
              0.3333333333333333,
              "#9c179e"
             ],
             [
              0.4444444444444444,
              "#bd3786"
             ],
             [
              0.5555555555555556,
              "#d8576b"
             ],
             [
              0.6666666666666666,
              "#ed7953"
             ],
             [
              0.7777777777777778,
              "#fb9f3a"
             ],
             [
              0.8888888888888888,
              "#fdca26"
             ],
             [
              1,
              "#f0f921"
             ]
            ],
            "type": "contour"
           }
          ],
          "contourcarpet": [
           {
            "colorbar": {
             "outlinewidth": 0,
             "ticks": ""
            },
            "type": "contourcarpet"
           }
          ],
          "heatmap": [
           {
            "colorbar": {
             "outlinewidth": 0,
             "ticks": ""
            },
            "colorscale": [
             [
              0,
              "#0d0887"
             ],
             [
              0.1111111111111111,
              "#46039f"
             ],
             [
              0.2222222222222222,
              "#7201a8"
             ],
             [
              0.3333333333333333,
              "#9c179e"
             ],
             [
              0.4444444444444444,
              "#bd3786"
             ],
             [
              0.5555555555555556,
              "#d8576b"
             ],
             [
              0.6666666666666666,
              "#ed7953"
             ],
             [
              0.7777777777777778,
              "#fb9f3a"
             ],
             [
              0.8888888888888888,
              "#fdca26"
             ],
             [
              1,
              "#f0f921"
             ]
            ],
            "type": "heatmap"
           }
          ],
          "histogram": [
           {
            "marker": {
             "pattern": {
              "fillmode": "overlay",
              "size": 10,
              "solidity": 0.2
             }
            },
            "type": "histogram"
           }
          ],
          "histogram2d": [
           {
            "colorbar": {
             "outlinewidth": 0,
             "ticks": ""
            },
            "colorscale": [
             [
              0,
              "#0d0887"
             ],
             [
              0.1111111111111111,
              "#46039f"
             ],
             [
              0.2222222222222222,
              "#7201a8"
             ],
             [
              0.3333333333333333,
              "#9c179e"
             ],
             [
              0.4444444444444444,
              "#bd3786"
             ],
             [
              0.5555555555555556,
              "#d8576b"
             ],
             [
              0.6666666666666666,
              "#ed7953"
             ],
             [
              0.7777777777777778,
              "#fb9f3a"
             ],
             [
              0.8888888888888888,
              "#fdca26"
             ],
             [
              1,
              "#f0f921"
             ]
            ],
            "type": "histogram2d"
           }
          ],
          "histogram2dcontour": [
           {
            "colorbar": {
             "outlinewidth": 0,
             "ticks": ""
            },
            "colorscale": [
             [
              0,
              "#0d0887"
             ],
             [
              0.1111111111111111,
              "#46039f"
             ],
             [
              0.2222222222222222,
              "#7201a8"
             ],
             [
              0.3333333333333333,
              "#9c179e"
             ],
             [
              0.4444444444444444,
              "#bd3786"
             ],
             [
              0.5555555555555556,
              "#d8576b"
             ],
             [
              0.6666666666666666,
              "#ed7953"
             ],
             [
              0.7777777777777778,
              "#fb9f3a"
             ],
             [
              0.8888888888888888,
              "#fdca26"
             ],
             [
              1,
              "#f0f921"
             ]
            ],
            "type": "histogram2dcontour"
           }
          ],
          "mesh3d": [
           {
            "colorbar": {
             "outlinewidth": 0,
             "ticks": ""
            },
            "type": "mesh3d"
           }
          ],
          "parcoords": [
           {
            "line": {
             "colorbar": {
              "outlinewidth": 0,
              "ticks": ""
             }
            },
            "type": "parcoords"
           }
          ],
          "pie": [
           {
            "automargin": true,
            "type": "pie"
           }
          ],
          "scatter": [
           {
            "fillpattern": {
             "fillmode": "overlay",
             "size": 10,
             "solidity": 0.2
            },
            "type": "scatter"
           }
          ],
          "scatter3d": [
           {
            "line": {
             "colorbar": {
              "outlinewidth": 0,
              "ticks": ""
             }
            },
            "marker": {
             "colorbar": {
              "outlinewidth": 0,
              "ticks": ""
             }
            },
            "type": "scatter3d"
           }
          ],
          "scattercarpet": [
           {
            "marker": {
             "colorbar": {
              "outlinewidth": 0,
              "ticks": ""
             }
            },
            "type": "scattercarpet"
           }
          ],
          "scattergeo": [
           {
            "marker": {
             "colorbar": {
              "outlinewidth": 0,
              "ticks": ""
             }
            },
            "type": "scattergeo"
           }
          ],
          "scattergl": [
           {
            "marker": {
             "colorbar": {
              "outlinewidth": 0,
              "ticks": ""
             }
            },
            "type": "scattergl"
           }
          ],
          "scattermap": [
           {
            "marker": {
             "colorbar": {
              "outlinewidth": 0,
              "ticks": ""
             }
            },
            "type": "scattermap"
           }
          ],
          "scattermapbox": [
           {
            "marker": {
             "colorbar": {
              "outlinewidth": 0,
              "ticks": ""
             }
            },
            "type": "scattermapbox"
           }
          ],
          "scatterpolar": [
           {
            "marker": {
             "colorbar": {
              "outlinewidth": 0,
              "ticks": ""
             }
            },
            "type": "scatterpolar"
           }
          ],
          "scatterpolargl": [
           {
            "marker": {
             "colorbar": {
              "outlinewidth": 0,
              "ticks": ""
             }
            },
            "type": "scatterpolargl"
           }
          ],
          "scatterternary": [
           {
            "marker": {
             "colorbar": {
              "outlinewidth": 0,
              "ticks": ""
             }
            },
            "type": "scatterternary"
           }
          ],
          "surface": [
           {
            "colorbar": {
             "outlinewidth": 0,
             "ticks": ""
            },
            "colorscale": [
             [
              0,
              "#0d0887"
             ],
             [
              0.1111111111111111,
              "#46039f"
             ],
             [
              0.2222222222222222,
              "#7201a8"
             ],
             [
              0.3333333333333333,
              "#9c179e"
             ],
             [
              0.4444444444444444,
              "#bd3786"
             ],
             [
              0.5555555555555556,
              "#d8576b"
             ],
             [
              0.6666666666666666,
              "#ed7953"
             ],
             [
              0.7777777777777778,
              "#fb9f3a"
             ],
             [
              0.8888888888888888,
              "#fdca26"
             ],
             [
              1,
              "#f0f921"
             ]
            ],
            "type": "surface"
           }
          ],
          "table": [
           {
            "cells": {
             "fill": {
              "color": "#EBF0F8"
             },
             "line": {
              "color": "white"
             }
            },
            "header": {
             "fill": {
              "color": "#C8D4E3"
             },
             "line": {
              "color": "white"
             }
            },
            "type": "table"
           }
          ]
         },
         "layout": {
          "annotationdefaults": {
           "arrowcolor": "#2a3f5f",
           "arrowhead": 0,
           "arrowwidth": 1
          },
          "autotypenumbers": "strict",
          "coloraxis": {
           "colorbar": {
            "outlinewidth": 0,
            "ticks": ""
           }
          },
          "colorscale": {
           "diverging": [
            [
             0,
             "#8e0152"
            ],
            [
             0.1,
             "#c51b7d"
            ],
            [
             0.2,
             "#de77ae"
            ],
            [
             0.3,
             "#f1b6da"
            ],
            [
             0.4,
             "#fde0ef"
            ],
            [
             0.5,
             "#f7f7f7"
            ],
            [
             0.6,
             "#e6f5d0"
            ],
            [
             0.7,
             "#b8e186"
            ],
            [
             0.8,
             "#7fbc41"
            ],
            [
             0.9,
             "#4d9221"
            ],
            [
             1,
             "#276419"
            ]
           ],
           "sequential": [
            [
             0,
             "#0d0887"
            ],
            [
             0.1111111111111111,
             "#46039f"
            ],
            [
             0.2222222222222222,
             "#7201a8"
            ],
            [
             0.3333333333333333,
             "#9c179e"
            ],
            [
             0.4444444444444444,
             "#bd3786"
            ],
            [
             0.5555555555555556,
             "#d8576b"
            ],
            [
             0.6666666666666666,
             "#ed7953"
            ],
            [
             0.7777777777777778,
             "#fb9f3a"
            ],
            [
             0.8888888888888888,
             "#fdca26"
            ],
            [
             1,
             "#f0f921"
            ]
           ],
           "sequentialminus": [
            [
             0,
             "#0d0887"
            ],
            [
             0.1111111111111111,
             "#46039f"
            ],
            [
             0.2222222222222222,
             "#7201a8"
            ],
            [
             0.3333333333333333,
             "#9c179e"
            ],
            [
             0.4444444444444444,
             "#bd3786"
            ],
            [
             0.5555555555555556,
             "#d8576b"
            ],
            [
             0.6666666666666666,
             "#ed7953"
            ],
            [
             0.7777777777777778,
             "#fb9f3a"
            ],
            [
             0.8888888888888888,
             "#fdca26"
            ],
            [
             1,
             "#f0f921"
            ]
           ]
          },
          "colorway": [
           "#636efa",
           "#EF553B",
           "#00cc96",
           "#ab63fa",
           "#FFA15A",
           "#19d3f3",
           "#FF6692",
           "#B6E880",
           "#FF97FF",
           "#FECB52"
          ],
          "font": {
           "color": "#2a3f5f"
          },
          "geo": {
           "bgcolor": "white",
           "lakecolor": "white",
           "landcolor": "#E5ECF6",
           "showlakes": true,
           "showland": true,
           "subunitcolor": "white"
          },
          "hoverlabel": {
           "align": "left"
          },
          "hovermode": "closest",
          "mapbox": {
           "style": "light"
          },
          "paper_bgcolor": "white",
          "plot_bgcolor": "#E5ECF6",
          "polar": {
           "angularaxis": {
            "gridcolor": "white",
            "linecolor": "white",
            "ticks": ""
           },
           "bgcolor": "#E5ECF6",
           "radialaxis": {
            "gridcolor": "white",
            "linecolor": "white",
            "ticks": ""
           }
          },
          "scene": {
           "xaxis": {
            "backgroundcolor": "#E5ECF6",
            "gridcolor": "white",
            "gridwidth": 2,
            "linecolor": "white",
            "showbackground": true,
            "ticks": "",
            "zerolinecolor": "white"
           },
           "yaxis": {
            "backgroundcolor": "#E5ECF6",
            "gridcolor": "white",
            "gridwidth": 2,
            "linecolor": "white",
            "showbackground": true,
            "ticks": "",
            "zerolinecolor": "white"
           },
           "zaxis": {
            "backgroundcolor": "#E5ECF6",
            "gridcolor": "white",
            "gridwidth": 2,
            "linecolor": "white",
            "showbackground": true,
            "ticks": "",
            "zerolinecolor": "white"
           }
          },
          "shapedefaults": {
           "line": {
            "color": "#2a3f5f"
           }
          },
          "ternary": {
           "aaxis": {
            "gridcolor": "white",
            "linecolor": "white",
            "ticks": ""
           },
           "baxis": {
            "gridcolor": "white",
            "linecolor": "white",
            "ticks": ""
           },
           "bgcolor": "#E5ECF6",
           "caxis": {
            "gridcolor": "white",
            "linecolor": "white",
            "ticks": ""
           }
          },
          "title": {
           "x": 0.05
          },
          "xaxis": {
           "automargin": true,
           "gridcolor": "white",
           "linecolor": "white",
           "ticks": "",
           "title": {
            "standoff": 15
           },
           "zerolinecolor": "white",
           "zerolinewidth": 2
          },
          "yaxis": {
           "automargin": true,
           "gridcolor": "white",
           "linecolor": "white",
           "ticks": "",
           "title": {
            "standoff": 15
           },
           "zerolinecolor": "white",
           "zerolinewidth": 2
          }
         }
        },
        "xaxis": {
         "anchor": "y",
         "domain": [
          0,
          1
         ],
         "title": {
          "text": "original_title"
         }
        },
        "yaxis": {
         "anchor": "x",
         "domain": [
          0,
          1
         ],
         "title": {
          "text": "score_mix"
         }
        }
       }
      },
      "text/html": [
       "<div>                        <script type=\"text/javascript\">window.PlotlyConfig = {MathJaxConfig: 'local'};</script>\n",
       "        <script charset=\"utf-8\" src=\"https://cdn.plot.ly/plotly-3.0.1.min.js\" integrity=\"sha256-oy6Be7Eh6eiQFs5M7oXuPxxm9qbJXEtTpfSI93dW16Q=\" crossorigin=\"anonymous\"></script>                <div id=\"1913c9e8-8183-4fd9-b196-7cb92e166d72\" class=\"plotly-graph-div\" style=\"height:100%; width:100%;\"></div>            <script type=\"text/javascript\">                window.PLOTLYENV=window.PLOTLYENV || {};                                if (document.getElementById(\"1913c9e8-8183-4fd9-b196-7cb92e166d72\")) {                    Plotly.newPlot(                        \"1913c9e8-8183-4fd9-b196-7cb92e166d72\",                        [{\"hovertemplate\":\"original_title=%{x}\\u003cbr\\u003escore_mix=%{y}\\u003cextra\\u003e\\u003c\\u002fextra\\u003e\",\"legendgroup\":\"\",\"marker\":{\"color\":\"#636efa\",\"pattern\":{\"shape\":\"\"}},\"name\":\"\",\"orientation\":\"v\",\"showlegend\":false,\"textposition\":\"auto\",\"x\":[\"Interstellar\",\"Minions\",\"Guardians of the Galaxy\",\"Deadpool\",\"The Shawshank Redemption\",\"The Dark Knight\",\"Fight Club\",\"The Godfather\",\"Mad Max: Fury Road\",\"Whiplash\"],\"xaxis\":\"x\",\"y\":{\"dtype\":\"f8\",\"bdata\":\"nsSrWsmI6z\\u002f8NOT3khXmP3Lx+9iz+uU\\u002fAwd0ArAd5D9TCin4WnjiP9p6SIIvTeI\\u002ffA7iEUDV4T+gYfGZIaPhPxw7Yt+Sl+E\\u002fzoocIneQ4T8=\"},\"yaxis\":\"y\",\"type\":\"bar\"}],                        {\"template\":{\"data\":{\"histogram2dcontour\":[{\"type\":\"histogram2dcontour\",\"colorbar\":{\"outlinewidth\":0,\"ticks\":\"\"},\"colorscale\":[[0.0,\"#0d0887\"],[0.1111111111111111,\"#46039f\"],[0.2222222222222222,\"#7201a8\"],[0.3333333333333333,\"#9c179e\"],[0.4444444444444444,\"#bd3786\"],[0.5555555555555556,\"#d8576b\"],[0.6666666666666666,\"#ed7953\"],[0.7777777777777778,\"#fb9f3a\"],[0.8888888888888888,\"#fdca26\"],[1.0,\"#f0f921\"]]}],\"choropleth\":[{\"type\":\"choropleth\",\"colorbar\":{\"outlinewidth\":0,\"ticks\":\"\"}}],\"histogram2d\":[{\"type\":\"histogram2d\",\"colorbar\":{\"outlinewidth\":0,\"ticks\":\"\"},\"colorscale\":[[0.0,\"#0d0887\"],[0.1111111111111111,\"#46039f\"],[0.2222222222222222,\"#7201a8\"],[0.3333333333333333,\"#9c179e\"],[0.4444444444444444,\"#bd3786\"],[0.5555555555555556,\"#d8576b\"],[0.6666666666666666,\"#ed7953\"],[0.7777777777777778,\"#fb9f3a\"],[0.8888888888888888,\"#fdca26\"],[1.0,\"#f0f921\"]]}],\"heatmap\":[{\"type\":\"heatmap\",\"colorbar\":{\"outlinewidth\":0,\"ticks\":\"\"},\"colorscale\":[[0.0,\"#0d0887\"],[0.1111111111111111,\"#46039f\"],[0.2222222222222222,\"#7201a8\"],[0.3333333333333333,\"#9c179e\"],[0.4444444444444444,\"#bd3786\"],[0.5555555555555556,\"#d8576b\"],[0.6666666666666666,\"#ed7953\"],[0.7777777777777778,\"#fb9f3a\"],[0.8888888888888888,\"#fdca26\"],[1.0,\"#f0f921\"]]}],\"contourcarpet\":[{\"type\":\"contourcarpet\",\"colorbar\":{\"outlinewidth\":0,\"ticks\":\"\"}}],\"contour\":[{\"type\":\"contour\",\"colorbar\":{\"outlinewidth\":0,\"ticks\":\"\"},\"colorscale\":[[0.0,\"#0d0887\"],[0.1111111111111111,\"#46039f\"],[0.2222222222222222,\"#7201a8\"],[0.3333333333333333,\"#9c179e\"],[0.4444444444444444,\"#bd3786\"],[0.5555555555555556,\"#d8576b\"],[0.6666666666666666,\"#ed7953\"],[0.7777777777777778,\"#fb9f3a\"],[0.8888888888888888,\"#fdca26\"],[1.0,\"#f0f921\"]]}],\"surface\":[{\"type\":\"surface\",\"colorbar\":{\"outlinewidth\":0,\"ticks\":\"\"},\"colorscale\":[[0.0,\"#0d0887\"],[0.1111111111111111,\"#46039f\"],[0.2222222222222222,\"#7201a8\"],[0.3333333333333333,\"#9c179e\"],[0.4444444444444444,\"#bd3786\"],[0.5555555555555556,\"#d8576b\"],[0.6666666666666666,\"#ed7953\"],[0.7777777777777778,\"#fb9f3a\"],[0.8888888888888888,\"#fdca26\"],[1.0,\"#f0f921\"]]}],\"mesh3d\":[{\"type\":\"mesh3d\",\"colorbar\":{\"outlinewidth\":0,\"ticks\":\"\"}}],\"scatter\":[{\"fillpattern\":{\"fillmode\":\"overlay\",\"size\":10,\"solidity\":0.2},\"type\":\"scatter\"}],\"parcoords\":[{\"type\":\"parcoords\",\"line\":{\"colorbar\":{\"outlinewidth\":0,\"ticks\":\"\"}}}],\"scatterpolargl\":[{\"type\":\"scatterpolargl\",\"marker\":{\"colorbar\":{\"outlinewidth\":0,\"ticks\":\"\"}}}],\"bar\":[{\"error_x\":{\"color\":\"#2a3f5f\"},\"error_y\":{\"color\":\"#2a3f5f\"},\"marker\":{\"line\":{\"color\":\"#E5ECF6\",\"width\":0.5},\"pattern\":{\"fillmode\":\"overlay\",\"size\":10,\"solidity\":0.2}},\"type\":\"bar\"}],\"scattergeo\":[{\"type\":\"scattergeo\",\"marker\":{\"colorbar\":{\"outlinewidth\":0,\"ticks\":\"\"}}}],\"scatterpolar\":[{\"type\":\"scatterpolar\",\"marker\":{\"colorbar\":{\"outlinewidth\":0,\"ticks\":\"\"}}}],\"histogram\":[{\"marker\":{\"pattern\":{\"fillmode\":\"overlay\",\"size\":10,\"solidity\":0.2}},\"type\":\"histogram\"}],\"scattergl\":[{\"type\":\"scattergl\",\"marker\":{\"colorbar\":{\"outlinewidth\":0,\"ticks\":\"\"}}}],\"scatter3d\":[{\"type\":\"scatter3d\",\"line\":{\"colorbar\":{\"outlinewidth\":0,\"ticks\":\"\"}},\"marker\":{\"colorbar\":{\"outlinewidth\":0,\"ticks\":\"\"}}}],\"scattermap\":[{\"type\":\"scattermap\",\"marker\":{\"colorbar\":{\"outlinewidth\":0,\"ticks\":\"\"}}}],\"scattermapbox\":[{\"type\":\"scattermapbox\",\"marker\":{\"colorbar\":{\"outlinewidth\":0,\"ticks\":\"\"}}}],\"scatterternary\":[{\"type\":\"scatterternary\",\"marker\":{\"colorbar\":{\"outlinewidth\":0,\"ticks\":\"\"}}}],\"scattercarpet\":[{\"type\":\"scattercarpet\",\"marker\":{\"colorbar\":{\"outlinewidth\":0,\"ticks\":\"\"}}}],\"carpet\":[{\"aaxis\":{\"endlinecolor\":\"#2a3f5f\",\"gridcolor\":\"white\",\"linecolor\":\"white\",\"minorgridcolor\":\"white\",\"startlinecolor\":\"#2a3f5f\"},\"baxis\":{\"endlinecolor\":\"#2a3f5f\",\"gridcolor\":\"white\",\"linecolor\":\"white\",\"minorgridcolor\":\"white\",\"startlinecolor\":\"#2a3f5f\"},\"type\":\"carpet\"}],\"table\":[{\"cells\":{\"fill\":{\"color\":\"#EBF0F8\"},\"line\":{\"color\":\"white\"}},\"header\":{\"fill\":{\"color\":\"#C8D4E3\"},\"line\":{\"color\":\"white\"}},\"type\":\"table\"}],\"barpolar\":[{\"marker\":{\"line\":{\"color\":\"#E5ECF6\",\"width\":0.5},\"pattern\":{\"fillmode\":\"overlay\",\"size\":10,\"solidity\":0.2}},\"type\":\"barpolar\"}],\"pie\":[{\"automargin\":true,\"type\":\"pie\"}]},\"layout\":{\"autotypenumbers\":\"strict\",\"colorway\":[\"#636efa\",\"#EF553B\",\"#00cc96\",\"#ab63fa\",\"#FFA15A\",\"#19d3f3\",\"#FF6692\",\"#B6E880\",\"#FF97FF\",\"#FECB52\"],\"font\":{\"color\":\"#2a3f5f\"},\"hovermode\":\"closest\",\"hoverlabel\":{\"align\":\"left\"},\"paper_bgcolor\":\"white\",\"plot_bgcolor\":\"#E5ECF6\",\"polar\":{\"bgcolor\":\"#E5ECF6\",\"angularaxis\":{\"gridcolor\":\"white\",\"linecolor\":\"white\",\"ticks\":\"\"},\"radialaxis\":{\"gridcolor\":\"white\",\"linecolor\":\"white\",\"ticks\":\"\"}},\"ternary\":{\"bgcolor\":\"#E5ECF6\",\"aaxis\":{\"gridcolor\":\"white\",\"linecolor\":\"white\",\"ticks\":\"\"},\"baxis\":{\"gridcolor\":\"white\",\"linecolor\":\"white\",\"ticks\":\"\"},\"caxis\":{\"gridcolor\":\"white\",\"linecolor\":\"white\",\"ticks\":\"\"}},\"coloraxis\":{\"colorbar\":{\"outlinewidth\":0,\"ticks\":\"\"}},\"colorscale\":{\"sequential\":[[0.0,\"#0d0887\"],[0.1111111111111111,\"#46039f\"],[0.2222222222222222,\"#7201a8\"],[0.3333333333333333,\"#9c179e\"],[0.4444444444444444,\"#bd3786\"],[0.5555555555555556,\"#d8576b\"],[0.6666666666666666,\"#ed7953\"],[0.7777777777777778,\"#fb9f3a\"],[0.8888888888888888,\"#fdca26\"],[1.0,\"#f0f921\"]],\"sequentialminus\":[[0.0,\"#0d0887\"],[0.1111111111111111,\"#46039f\"],[0.2222222222222222,\"#7201a8\"],[0.3333333333333333,\"#9c179e\"],[0.4444444444444444,\"#bd3786\"],[0.5555555555555556,\"#d8576b\"],[0.6666666666666666,\"#ed7953\"],[0.7777777777777778,\"#fb9f3a\"],[0.8888888888888888,\"#fdca26\"],[1.0,\"#f0f921\"]],\"diverging\":[[0,\"#8e0152\"],[0.1,\"#c51b7d\"],[0.2,\"#de77ae\"],[0.3,\"#f1b6da\"],[0.4,\"#fde0ef\"],[0.5,\"#f7f7f7\"],[0.6,\"#e6f5d0\"],[0.7,\"#b8e186\"],[0.8,\"#7fbc41\"],[0.9,\"#4d9221\"],[1,\"#276419\"]]},\"xaxis\":{\"gridcolor\":\"white\",\"linecolor\":\"white\",\"ticks\":\"\",\"title\":{\"standoff\":15},\"zerolinecolor\":\"white\",\"automargin\":true,\"zerolinewidth\":2},\"yaxis\":{\"gridcolor\":\"white\",\"linecolor\":\"white\",\"ticks\":\"\",\"title\":{\"standoff\":15},\"zerolinecolor\":\"white\",\"automargin\":true,\"zerolinewidth\":2},\"scene\":{\"xaxis\":{\"backgroundcolor\":\"#E5ECF6\",\"gridcolor\":\"white\",\"linecolor\":\"white\",\"showbackground\":true,\"ticks\":\"\",\"zerolinecolor\":\"white\",\"gridwidth\":2},\"yaxis\":{\"backgroundcolor\":\"#E5ECF6\",\"gridcolor\":\"white\",\"linecolor\":\"white\",\"showbackground\":true,\"ticks\":\"\",\"zerolinecolor\":\"white\",\"gridwidth\":2},\"zaxis\":{\"backgroundcolor\":\"#E5ECF6\",\"gridcolor\":\"white\",\"linecolor\":\"white\",\"showbackground\":true,\"ticks\":\"\",\"zerolinecolor\":\"white\",\"gridwidth\":2}},\"shapedefaults\":{\"line\":{\"color\":\"#2a3f5f\"}},\"annotationdefaults\":{\"arrowcolor\":\"#2a3f5f\",\"arrowhead\":0,\"arrowwidth\":1},\"geo\":{\"bgcolor\":\"white\",\"landcolor\":\"#E5ECF6\",\"subunitcolor\":\"white\",\"showland\":true,\"showlakes\":true,\"lakecolor\":\"white\"},\"title\":{\"x\":0.05},\"mapbox\":{\"style\":\"light\"}}},\"xaxis\":{\"anchor\":\"y\",\"domain\":[0.0,1.0],\"title\":{\"text\":\"original_title\"}},\"yaxis\":{\"anchor\":\"x\",\"domain\":[0.0,1.0],\"title\":{\"text\":\"score_mix\"}},\"legend\":{\"tracegroupgap\":0},\"margin\":{\"t\":60},\"barmode\":\"relative\"},                        {\"responsive\": true}                    )                };            </script>        </div>"
      ],
      "text/plain": [
       "Figure({\n",
       "    'data': [{'hovertemplate': 'original_title=%{x}<br>score_mix=%{y}<extra></extra>',\n",
       "              'legendgroup': '',\n",
       "              'marker': {'color': '#636efa', 'pattern': {'shape': ''}},\n",
       "              'name': '',\n",
       "              'orientation': 'v',\n",
       "              'showlegend': False,\n",
       "              'textposition': 'auto',\n",
       "              'type': 'bar',\n",
       "              'x': array(['Interstellar', 'Minions', 'Guardians of the Galaxy', 'Deadpool',\n",
       "                          'The Shawshank Redemption', 'The Dark Knight', 'Fight Club',\n",
       "                          'The Godfather', 'Mad Max: Fury Road', 'Whiplash'], dtype=object),\n",
       "              'xaxis': 'x',\n",
       "              'y': {'bdata': ('nsSrWsmI6z/8NOT3khXmP3Lx+9iz+u' ... 'GZIaPhPxw7Yt+Sl+E/zoocIneQ4T8='),\n",
       "                    'dtype': 'f8'},\n",
       "              'yaxis': 'y'}],\n",
       "    'layout': {'barmode': 'relative',\n",
       "               'legend': {'tracegroupgap': 0},\n",
       "               'margin': {'t': 60},\n",
       "               'template': '...',\n",
       "               'xaxis': {'anchor': 'y', 'domain': [0.0, 1.0], 'title': {'text': 'original_title'}},\n",
       "               'yaxis': {'anchor': 'x', 'domain': [0.0, 1.0], 'title': {'text': 'score_mix'}}}\n",
       "})"
      ]
     },
     "metadata": {},
     "output_type": "display_data"
    }
   ],
   "source": [
    "px.bar(data_frame=rank_df, x='original_title', y='score_mix')"
   ]
  },
  {
   "cell_type": "markdown",
   "id": "6bfa5a94",
   "metadata": {},
   "source": [
    "## Building content based recommendation model"
   ]
  },
  {
   "cell_type": "code",
   "execution_count": null,
   "id": "ef85697a",
   "metadata": {},
   "outputs": [
    {
     "data": {
      "text/plain": [
       "Index(['budget', 'genres', 'id', 'keywords', 'original_language',\n",
       "       'original_title', 'overview', 'popularity', 'production_companies',\n",
       "       'release_date', 'revenue', 'runtime', 'spoken_languages', 'tagline',\n",
       "       'vote_average', 'vote_count', 'cast', 'crew', 'weighted_average',\n",
       "       'weighted_average_scaled', 'popularity_scaled', 'score_mix'],\n",
       "      dtype='object')"
      ]
     },
     "metadata": {},
     "output_type": "display_data"
    }
   ],
   "source": [
    "filtered_df.columns"
   ]
  },
  {
   "cell_type": "code",
   "execution_count": null,
   "id": "75f03d87",
   "metadata": {},
   "outputs": [],
   "source": [
    "data = filtered_df.copy()"
   ]
  },
  {
   "cell_type": "code",
   "execution_count": null,
   "id": "3087c1d0",
   "metadata": {},
   "outputs": [
    {
     "data": {
      "text/plain": [
       "Index(['budget', 'genres', 'id', 'keywords', 'original_language',\n",
       "       'original_title', 'overview', 'popularity', 'production_companies',\n",
       "       'release_date', 'revenue', 'runtime', 'spoken_languages', 'tagline',\n",
       "       'vote_average', 'vote_count', 'cast', 'crew', 'weighted_average',\n",
       "       'weighted_average_scaled', 'popularity_scaled', 'score_mix'],\n",
       "      dtype='object')"
      ]
     },
     "metadata": {},
     "output_type": "display_data"
    }
   ],
   "source": [
    "data.columns"
   ]
  },
  {
   "cell_type": "code",
   "execution_count": null,
   "id": "55751778",
   "metadata": {},
   "outputs": [
    {
     "data": {
      "text/plain": [
       "'In the 22nd century, a paraplegic Marine is dispatched to the moon Pandora on a unique mission, but becomes torn between following orders and protecting an alien civilization.'"
      ]
     },
     "metadata": {},
     "output_type": "display_data"
    }
   ],
   "source": [
    "data['overview'][0]"
   ]
  },
  {
   "cell_type": "code",
   "execution_count": null,
   "id": "79cb3c27",
   "metadata": {},
   "outputs": [
    {
     "data": {
      "text/plain": [
       "np.int64(0)"
      ]
     },
     "metadata": {},
     "output_type": "display_data"
    }
   ],
   "source": [
    "data['overview'].isnull().sum()"
   ]
  },
  {
   "cell_type": "markdown",
   "id": "88d2ac17",
   "metadata": {},
   "source": [
    "### Converting overview feature into numerical data using TF-IDF"
   ]
  },
  {
   "cell_type": "code",
   "execution_count": null,
   "id": "19d5e3ab",
   "metadata": {},
   "outputs": [],
   "source": [
    "from sklearn.feature_extraction.text import TfidfVectorizer"
   ]
  },
  {
   "cell_type": "code",
   "execution_count": null,
   "id": "0adfe681",
   "metadata": {},
   "outputs": [],
   "source": [
    "tfv = TfidfVectorizer(min_df=3,max_features=None,ngram_range=(1,3),stop_words=\"english\")"
   ]
  },
  {
   "cell_type": "code",
   "execution_count": null,
   "id": "4ce9d3c3",
   "metadata": {},
   "outputs": [
    {
     "data": {
      "text/plain": [
       "<Compressed Sparse Row sparse matrix of dtype 'float64'\n",
       "\twith 8196 stored elements and shape (481, 1287)>"
      ]
     },
     "metadata": {},
     "output_type": "display_data"
    }
   ],
   "source": [
    "tfv_matrix = tfv.fit_transform(data['overview'])\n",
    "tfv_matrix"
   ]
  },
  {
   "cell_type": "code",
   "execution_count": null,
   "id": "6930f430",
   "metadata": {},
   "outputs": [
    {
     "data": {
      "text/plain": [
       "(481, 1287)"
      ]
     },
     "metadata": {},
     "output_type": "display_data"
    }
   ],
   "source": [
    "tfv_matrix.shape"
   ]
  },
  {
   "cell_type": "code",
   "execution_count": null,
   "id": "b7642dec",
   "metadata": {},
   "outputs": [
    {
     "data": {
      "text/plain": [
       "'In the 22nd century, a paraplegic Marine is dispatched to the moon Pandora on a unique mission, but becomes torn between following orders and protecting an alien civilization.'"
      ]
     },
     "metadata": {},
     "output_type": "display_data"
    }
   ],
   "source": [
    "data['overview'][0]"
   ]
  },
  {
   "cell_type": "code",
   "execution_count": null,
   "id": "b9c1a80a",
   "metadata": {},
   "outputs": [
    {
     "data": {
      "text/plain": [
       "array([0., 0., 0., ..., 0., 0., 0.], shape=(1287,))"
      ]
     },
     "metadata": {},
     "output_type": "display_data"
    }
   ],
   "source": [
    "tfv_matrix.toarray()[0]"
   ]
  },
  {
   "cell_type": "code",
   "execution_count": null,
   "id": "7d24e6d5",
   "metadata": {},
   "outputs": [
    {
     "data": {
      "text/html": [
       "<div>\n",
       "<style scoped>\n",
       "    .dataframe tbody tr th:only-of-type {\n",
       "        vertical-align: middle;\n",
       "    }\n",
       "\n",
       "    .dataframe tbody tr th {\n",
       "        vertical-align: top;\n",
       "    }\n",
       "\n",
       "    .dataframe thead th {\n",
       "        text-align: right;\n",
       "    }\n",
       "</style>\n",
       "<table border=\"1\" class=\"dataframe\">\n",
       "  <thead>\n",
       "    <tr style=\"text-align: right;\">\n",
       "      <th></th>\n",
       "      <th>0</th>\n",
       "      <th>1</th>\n",
       "      <th>2</th>\n",
       "      <th>3</th>\n",
       "      <th>4</th>\n",
       "      <th>5</th>\n",
       "      <th>6</th>\n",
       "      <th>7</th>\n",
       "      <th>8</th>\n",
       "      <th>9</th>\n",
       "      <th>...</th>\n",
       "      <th>1277</th>\n",
       "      <th>1278</th>\n",
       "      <th>1279</th>\n",
       "      <th>1280</th>\n",
       "      <th>1281</th>\n",
       "      <th>1282</th>\n",
       "      <th>1283</th>\n",
       "      <th>1284</th>\n",
       "      <th>1285</th>\n",
       "      <th>1286</th>\n",
       "    </tr>\n",
       "  </thead>\n",
       "  <tbody>\n",
       "    <tr>\n",
       "      <th>0</th>\n",
       "      <td>0.000000</td>\n",
       "      <td>0.0</td>\n",
       "      <td>0.0</td>\n",
       "      <td>0.0</td>\n",
       "      <td>0.0</td>\n",
       "      <td>0.0</td>\n",
       "      <td>0.0</td>\n",
       "      <td>0.0</td>\n",
       "      <td>0.0</td>\n",
       "      <td>0.0</td>\n",
       "      <td>...</td>\n",
       "      <td>0.00000</td>\n",
       "      <td>0.000000</td>\n",
       "      <td>0.000000</td>\n",
       "      <td>0.0</td>\n",
       "      <td>0.0</td>\n",
       "      <td>0.0</td>\n",
       "      <td>0.0</td>\n",
       "      <td>0.0</td>\n",
       "      <td>0.0</td>\n",
       "      <td>0.0</td>\n",
       "    </tr>\n",
       "    <tr>\n",
       "      <th>1</th>\n",
       "      <td>0.000000</td>\n",
       "      <td>0.0</td>\n",
       "      <td>0.0</td>\n",
       "      <td>0.0</td>\n",
       "      <td>0.0</td>\n",
       "      <td>0.0</td>\n",
       "      <td>0.0</td>\n",
       "      <td>0.0</td>\n",
       "      <td>0.0</td>\n",
       "      <td>0.0</td>\n",
       "      <td>...</td>\n",
       "      <td>0.00000</td>\n",
       "      <td>0.000000</td>\n",
       "      <td>0.000000</td>\n",
       "      <td>0.0</td>\n",
       "      <td>0.0</td>\n",
       "      <td>0.0</td>\n",
       "      <td>0.0</td>\n",
       "      <td>0.0</td>\n",
       "      <td>0.0</td>\n",
       "      <td>0.0</td>\n",
       "    </tr>\n",
       "    <tr>\n",
       "      <th>2</th>\n",
       "      <td>0.000000</td>\n",
       "      <td>0.0</td>\n",
       "      <td>0.0</td>\n",
       "      <td>0.0</td>\n",
       "      <td>0.0</td>\n",
       "      <td>0.0</td>\n",
       "      <td>0.0</td>\n",
       "      <td>0.0</td>\n",
       "      <td>0.0</td>\n",
       "      <td>0.0</td>\n",
       "      <td>...</td>\n",
       "      <td>0.00000</td>\n",
       "      <td>0.000000</td>\n",
       "      <td>0.000000</td>\n",
       "      <td>0.0</td>\n",
       "      <td>0.0</td>\n",
       "      <td>0.0</td>\n",
       "      <td>0.0</td>\n",
       "      <td>0.0</td>\n",
       "      <td>0.0</td>\n",
       "      <td>0.0</td>\n",
       "    </tr>\n",
       "    <tr>\n",
       "      <th>3</th>\n",
       "      <td>0.000000</td>\n",
       "      <td>0.0</td>\n",
       "      <td>0.0</td>\n",
       "      <td>0.0</td>\n",
       "      <td>0.0</td>\n",
       "      <td>0.0</td>\n",
       "      <td>0.0</td>\n",
       "      <td>0.0</td>\n",
       "      <td>0.0</td>\n",
       "      <td>0.0</td>\n",
       "      <td>...</td>\n",
       "      <td>0.00000</td>\n",
       "      <td>0.000000</td>\n",
       "      <td>0.000000</td>\n",
       "      <td>0.0</td>\n",
       "      <td>0.0</td>\n",
       "      <td>0.0</td>\n",
       "      <td>0.0</td>\n",
       "      <td>0.0</td>\n",
       "      <td>0.0</td>\n",
       "      <td>0.0</td>\n",
       "    </tr>\n",
       "    <tr>\n",
       "      <th>4</th>\n",
       "      <td>0.000000</td>\n",
       "      <td>0.0</td>\n",
       "      <td>0.0</td>\n",
       "      <td>0.0</td>\n",
       "      <td>0.0</td>\n",
       "      <td>0.0</td>\n",
       "      <td>0.0</td>\n",
       "      <td>0.0</td>\n",
       "      <td>0.0</td>\n",
       "      <td>0.0</td>\n",
       "      <td>...</td>\n",
       "      <td>0.00000</td>\n",
       "      <td>0.000000</td>\n",
       "      <td>0.000000</td>\n",
       "      <td>0.0</td>\n",
       "      <td>0.0</td>\n",
       "      <td>0.0</td>\n",
       "      <td>0.0</td>\n",
       "      <td>0.0</td>\n",
       "      <td>0.0</td>\n",
       "      <td>0.0</td>\n",
       "    </tr>\n",
       "    <tr>\n",
       "      <th>...</th>\n",
       "      <td>...</td>\n",
       "      <td>...</td>\n",
       "      <td>...</td>\n",
       "      <td>...</td>\n",
       "      <td>...</td>\n",
       "      <td>...</td>\n",
       "      <td>...</td>\n",
       "      <td>...</td>\n",
       "      <td>...</td>\n",
       "      <td>...</td>\n",
       "      <td>...</td>\n",
       "      <td>...</td>\n",
       "      <td>...</td>\n",
       "      <td>...</td>\n",
       "      <td>...</td>\n",
       "      <td>...</td>\n",
       "      <td>...</td>\n",
       "      <td>...</td>\n",
       "      <td>...</td>\n",
       "      <td>...</td>\n",
       "      <td>...</td>\n",
       "    </tr>\n",
       "    <tr>\n",
       "      <th>476</th>\n",
       "      <td>0.000000</td>\n",
       "      <td>0.0</td>\n",
       "      <td>0.0</td>\n",
       "      <td>0.0</td>\n",
       "      <td>0.0</td>\n",
       "      <td>0.0</td>\n",
       "      <td>0.0</td>\n",
       "      <td>0.0</td>\n",
       "      <td>0.0</td>\n",
       "      <td>0.0</td>\n",
       "      <td>...</td>\n",
       "      <td>0.00000</td>\n",
       "      <td>0.000000</td>\n",
       "      <td>0.000000</td>\n",
       "      <td>0.0</td>\n",
       "      <td>0.0</td>\n",
       "      <td>0.0</td>\n",
       "      <td>0.0</td>\n",
       "      <td>0.0</td>\n",
       "      <td>0.0</td>\n",
       "      <td>0.0</td>\n",
       "    </tr>\n",
       "    <tr>\n",
       "      <th>477</th>\n",
       "      <td>0.000000</td>\n",
       "      <td>0.0</td>\n",
       "      <td>0.0</td>\n",
       "      <td>0.0</td>\n",
       "      <td>0.0</td>\n",
       "      <td>0.0</td>\n",
       "      <td>0.0</td>\n",
       "      <td>0.0</td>\n",
       "      <td>0.0</td>\n",
       "      <td>0.0</td>\n",
       "      <td>...</td>\n",
       "      <td>0.00000</td>\n",
       "      <td>0.000000</td>\n",
       "      <td>0.000000</td>\n",
       "      <td>0.0</td>\n",
       "      <td>0.0</td>\n",
       "      <td>0.0</td>\n",
       "      <td>0.0</td>\n",
       "      <td>0.0</td>\n",
       "      <td>0.0</td>\n",
       "      <td>0.0</td>\n",
       "    </tr>\n",
       "    <tr>\n",
       "      <th>478</th>\n",
       "      <td>0.267267</td>\n",
       "      <td>0.0</td>\n",
       "      <td>0.0</td>\n",
       "      <td>0.0</td>\n",
       "      <td>0.0</td>\n",
       "      <td>0.0</td>\n",
       "      <td>0.0</td>\n",
       "      <td>0.0</td>\n",
       "      <td>0.0</td>\n",
       "      <td>0.0</td>\n",
       "      <td>...</td>\n",
       "      <td>0.00000</td>\n",
       "      <td>0.000000</td>\n",
       "      <td>0.000000</td>\n",
       "      <td>0.0</td>\n",
       "      <td>0.0</td>\n",
       "      <td>0.0</td>\n",
       "      <td>0.0</td>\n",
       "      <td>0.0</td>\n",
       "      <td>0.0</td>\n",
       "      <td>0.0</td>\n",
       "    </tr>\n",
       "    <tr>\n",
       "      <th>479</th>\n",
       "      <td>0.000000</td>\n",
       "      <td>0.0</td>\n",
       "      <td>0.0</td>\n",
       "      <td>0.0</td>\n",
       "      <td>0.0</td>\n",
       "      <td>0.0</td>\n",
       "      <td>0.0</td>\n",
       "      <td>0.0</td>\n",
       "      <td>0.0</td>\n",
       "      <td>0.0</td>\n",
       "      <td>...</td>\n",
       "      <td>0.25119</td>\n",
       "      <td>0.326234</td>\n",
       "      <td>0.000000</td>\n",
       "      <td>0.0</td>\n",
       "      <td>0.0</td>\n",
       "      <td>0.0</td>\n",
       "      <td>0.0</td>\n",
       "      <td>0.0</td>\n",
       "      <td>0.0</td>\n",
       "      <td>0.0</td>\n",
       "    </tr>\n",
       "    <tr>\n",
       "      <th>480</th>\n",
       "      <td>0.000000</td>\n",
       "      <td>0.0</td>\n",
       "      <td>0.0</td>\n",
       "      <td>0.0</td>\n",
       "      <td>0.0</td>\n",
       "      <td>0.0</td>\n",
       "      <td>0.0</td>\n",
       "      <td>0.0</td>\n",
       "      <td>0.0</td>\n",
       "      <td>0.0</td>\n",
       "      <td>...</td>\n",
       "      <td>0.00000</td>\n",
       "      <td>0.000000</td>\n",
       "      <td>0.194964</td>\n",
       "      <td>0.0</td>\n",
       "      <td>0.0</td>\n",
       "      <td>0.0</td>\n",
       "      <td>0.0</td>\n",
       "      <td>0.0</td>\n",
       "      <td>0.0</td>\n",
       "      <td>0.0</td>\n",
       "    </tr>\n",
       "  </tbody>\n",
       "</table>\n",
       "<p>481 rows × 1287 columns</p>\n",
       "</div>"
      ],
      "text/plain": [
       "         0     1     2     3     4     5     6     7     8     9     ...  \\\n",
       "0    0.000000   0.0   0.0   0.0   0.0   0.0   0.0   0.0   0.0   0.0  ...   \n",
       "1    0.000000   0.0   0.0   0.0   0.0   0.0   0.0   0.0   0.0   0.0  ...   \n",
       "2    0.000000   0.0   0.0   0.0   0.0   0.0   0.0   0.0   0.0   0.0  ...   \n",
       "3    0.000000   0.0   0.0   0.0   0.0   0.0   0.0   0.0   0.0   0.0  ...   \n",
       "4    0.000000   0.0   0.0   0.0   0.0   0.0   0.0   0.0   0.0   0.0  ...   \n",
       "..        ...   ...   ...   ...   ...   ...   ...   ...   ...   ...  ...   \n",
       "476  0.000000   0.0   0.0   0.0   0.0   0.0   0.0   0.0   0.0   0.0  ...   \n",
       "477  0.000000   0.0   0.0   0.0   0.0   0.0   0.0   0.0   0.0   0.0  ...   \n",
       "478  0.267267   0.0   0.0   0.0   0.0   0.0   0.0   0.0   0.0   0.0  ...   \n",
       "479  0.000000   0.0   0.0   0.0   0.0   0.0   0.0   0.0   0.0   0.0  ...   \n",
       "480  0.000000   0.0   0.0   0.0   0.0   0.0   0.0   0.0   0.0   0.0  ...   \n",
       "\n",
       "        1277      1278      1279  1280  1281  1282  1283  1284  1285  1286  \n",
       "0    0.00000  0.000000  0.000000   0.0   0.0   0.0   0.0   0.0   0.0   0.0  \n",
       "1    0.00000  0.000000  0.000000   0.0   0.0   0.0   0.0   0.0   0.0   0.0  \n",
       "2    0.00000  0.000000  0.000000   0.0   0.0   0.0   0.0   0.0   0.0   0.0  \n",
       "3    0.00000  0.000000  0.000000   0.0   0.0   0.0   0.0   0.0   0.0   0.0  \n",
       "4    0.00000  0.000000  0.000000   0.0   0.0   0.0   0.0   0.0   0.0   0.0  \n",
       "..       ...       ...       ...   ...   ...   ...   ...   ...   ...   ...  \n",
       "476  0.00000  0.000000  0.000000   0.0   0.0   0.0   0.0   0.0   0.0   0.0  \n",
       "477  0.00000  0.000000  0.000000   0.0   0.0   0.0   0.0   0.0   0.0   0.0  \n",
       "478  0.00000  0.000000  0.000000   0.0   0.0   0.0   0.0   0.0   0.0   0.0  \n",
       "479  0.25119  0.326234  0.000000   0.0   0.0   0.0   0.0   0.0   0.0   0.0  \n",
       "480  0.00000  0.000000  0.194964   0.0   0.0   0.0   0.0   0.0   0.0   0.0  \n",
       "\n",
       "[481 rows x 1287 columns]"
      ]
     },
     "metadata": {},
     "output_type": "display_data"
    }
   ],
   "source": [
    "pd.DataFrame(tfv_matrix.toarray())"
   ]
  },
  {
   "cell_type": "markdown",
   "id": "962917a1",
   "metadata": {},
   "source": [
    "### Find similarity score between data"
   ]
  },
  {
   "cell_type": "code",
   "execution_count": null,
   "id": "fb5b6fb6",
   "metadata": {},
   "outputs": [],
   "source": [
    "from sklearn.metrics.pairwise import sigmoid_kernel"
   ]
  },
  {
   "cell_type": "code",
   "execution_count": null,
   "id": "d8df875d",
   "metadata": {},
   "outputs": [],
   "source": [
    "sig = sigmoid_kernel(tfv_matrix,tfv_matrix)"
   ]
  },
  {
   "cell_type": "code",
   "execution_count": null,
   "id": "0dda691c",
   "metadata": {},
   "outputs": [
    {
     "data": {
      "text/plain": [
       "array([[0.76192028, 0.76159416, 0.76159416, ..., 0.76159416, 0.76159416,\n",
       "        0.76159416],\n",
       "       [0.76159416, 0.76192028, 0.76159416, ..., 0.76159416, 0.76159416,\n",
       "        0.76159416],\n",
       "       [0.76159416, 0.76159416, 0.76192028, ..., 0.76159416, 0.76159416,\n",
       "        0.76159416],\n",
       "       ...,\n",
       "       [0.76159416, 0.76159416, 0.76159416, ..., 0.76192028, 0.7616054 ,\n",
       "        0.76161335],\n",
       "       [0.76159416, 0.76159416, 0.76159416, ..., 0.7616054 , 0.76192028,\n",
       "        0.76159416],\n",
       "       [0.76159416, 0.76159416, 0.76159416, ..., 0.76161335, 0.76159416,\n",
       "        0.76192028]], shape=(481, 481))"
      ]
     },
     "metadata": {},
     "output_type": "display_data"
    }
   ],
   "source": [
    "sig"
   ]
  },
  {
   "cell_type": "code",
   "execution_count": null,
   "id": "77470c4a",
   "metadata": {},
   "outputs": [
    {
     "data": {
      "text/html": [
       "<div>\n",
       "<style scoped>\n",
       "    .dataframe tbody tr th:only-of-type {\n",
       "        vertical-align: middle;\n",
       "    }\n",
       "\n",
       "    .dataframe tbody tr th {\n",
       "        vertical-align: top;\n",
       "    }\n",
       "\n",
       "    .dataframe thead th {\n",
       "        text-align: right;\n",
       "    }\n",
       "</style>\n",
       "<table border=\"1\" class=\"dataframe\">\n",
       "  <thead>\n",
       "    <tr style=\"text-align: right;\">\n",
       "      <th></th>\n",
       "      <th>0</th>\n",
       "      <th>1</th>\n",
       "      <th>2</th>\n",
       "      <th>3</th>\n",
       "      <th>4</th>\n",
       "      <th>5</th>\n",
       "      <th>6</th>\n",
       "      <th>7</th>\n",
       "      <th>8</th>\n",
       "      <th>9</th>\n",
       "      <th>...</th>\n",
       "      <th>471</th>\n",
       "      <th>472</th>\n",
       "      <th>473</th>\n",
       "      <th>474</th>\n",
       "      <th>475</th>\n",
       "      <th>476</th>\n",
       "      <th>477</th>\n",
       "      <th>478</th>\n",
       "      <th>479</th>\n",
       "      <th>480</th>\n",
       "    </tr>\n",
       "  </thead>\n",
       "  <tbody>\n",
       "    <tr>\n",
       "      <th>0</th>\n",
       "      <td>0.761920</td>\n",
       "      <td>0.761594</td>\n",
       "      <td>0.761594</td>\n",
       "      <td>0.761612</td>\n",
       "      <td>0.761594</td>\n",
       "      <td>0.761609</td>\n",
       "      <td>0.761594</td>\n",
       "      <td>0.761619</td>\n",
       "      <td>0.761594</td>\n",
       "      <td>0.761594</td>\n",
       "      <td>...</td>\n",
       "      <td>0.761594</td>\n",
       "      <td>0.761594</td>\n",
       "      <td>0.761594</td>\n",
       "      <td>0.761594</td>\n",
       "      <td>0.761594</td>\n",
       "      <td>0.761594</td>\n",
       "      <td>0.761594</td>\n",
       "      <td>0.761594</td>\n",
       "      <td>0.761594</td>\n",
       "      <td>0.761594</td>\n",
       "    </tr>\n",
       "    <tr>\n",
       "      <th>1</th>\n",
       "      <td>0.761594</td>\n",
       "      <td>0.761920</td>\n",
       "      <td>0.761594</td>\n",
       "      <td>0.761594</td>\n",
       "      <td>0.761623</td>\n",
       "      <td>0.761594</td>\n",
       "      <td>0.761594</td>\n",
       "      <td>0.761609</td>\n",
       "      <td>0.761594</td>\n",
       "      <td>0.761594</td>\n",
       "      <td>...</td>\n",
       "      <td>0.761594</td>\n",
       "      <td>0.761594</td>\n",
       "      <td>0.761594</td>\n",
       "      <td>0.761594</td>\n",
       "      <td>0.761594</td>\n",
       "      <td>0.761604</td>\n",
       "      <td>0.761594</td>\n",
       "      <td>0.761594</td>\n",
       "      <td>0.761594</td>\n",
       "      <td>0.761594</td>\n",
       "    </tr>\n",
       "    <tr>\n",
       "      <th>2</th>\n",
       "      <td>0.761594</td>\n",
       "      <td>0.761594</td>\n",
       "      <td>0.761920</td>\n",
       "      <td>0.761594</td>\n",
       "      <td>0.761594</td>\n",
       "      <td>0.761594</td>\n",
       "      <td>0.761594</td>\n",
       "      <td>0.761608</td>\n",
       "      <td>0.761606</td>\n",
       "      <td>0.761594</td>\n",
       "      <td>...</td>\n",
       "      <td>0.761594</td>\n",
       "      <td>0.761594</td>\n",
       "      <td>0.761594</td>\n",
       "      <td>0.761594</td>\n",
       "      <td>0.761594</td>\n",
       "      <td>0.761594</td>\n",
       "      <td>0.761594</td>\n",
       "      <td>0.761594</td>\n",
       "      <td>0.761594</td>\n",
       "      <td>0.761594</td>\n",
       "    </tr>\n",
       "    <tr>\n",
       "      <th>3</th>\n",
       "      <td>0.761612</td>\n",
       "      <td>0.761594</td>\n",
       "      <td>0.761594</td>\n",
       "      <td>0.761920</td>\n",
       "      <td>0.761601</td>\n",
       "      <td>0.761597</td>\n",
       "      <td>0.761604</td>\n",
       "      <td>0.761606</td>\n",
       "      <td>0.761604</td>\n",
       "      <td>0.761680</td>\n",
       "      <td>...</td>\n",
       "      <td>0.761594</td>\n",
       "      <td>0.761594</td>\n",
       "      <td>0.761614</td>\n",
       "      <td>0.761603</td>\n",
       "      <td>0.761594</td>\n",
       "      <td>0.761594</td>\n",
       "      <td>0.761601</td>\n",
       "      <td>0.761594</td>\n",
       "      <td>0.761620</td>\n",
       "      <td>0.761594</td>\n",
       "    </tr>\n",
       "    <tr>\n",
       "      <th>4</th>\n",
       "      <td>0.761594</td>\n",
       "      <td>0.761623</td>\n",
       "      <td>0.761594</td>\n",
       "      <td>0.761601</td>\n",
       "      <td>0.761920</td>\n",
       "      <td>0.761594</td>\n",
       "      <td>0.761601</td>\n",
       "      <td>0.761618</td>\n",
       "      <td>0.761594</td>\n",
       "      <td>0.761606</td>\n",
       "      <td>...</td>\n",
       "      <td>0.761631</td>\n",
       "      <td>0.761594</td>\n",
       "      <td>0.761594</td>\n",
       "      <td>0.761594</td>\n",
       "      <td>0.761594</td>\n",
       "      <td>0.761610</td>\n",
       "      <td>0.761594</td>\n",
       "      <td>0.761603</td>\n",
       "      <td>0.761605</td>\n",
       "      <td>0.761594</td>\n",
       "    </tr>\n",
       "    <tr>\n",
       "      <th>...</th>\n",
       "      <td>...</td>\n",
       "      <td>...</td>\n",
       "      <td>...</td>\n",
       "      <td>...</td>\n",
       "      <td>...</td>\n",
       "      <td>...</td>\n",
       "      <td>...</td>\n",
       "      <td>...</td>\n",
       "      <td>...</td>\n",
       "      <td>...</td>\n",
       "      <td>...</td>\n",
       "      <td>...</td>\n",
       "      <td>...</td>\n",
       "      <td>...</td>\n",
       "      <td>...</td>\n",
       "      <td>...</td>\n",
       "      <td>...</td>\n",
       "      <td>...</td>\n",
       "      <td>...</td>\n",
       "      <td>...</td>\n",
       "      <td>...</td>\n",
       "    </tr>\n",
       "    <tr>\n",
       "      <th>476</th>\n",
       "      <td>0.761594</td>\n",
       "      <td>0.761604</td>\n",
       "      <td>0.761594</td>\n",
       "      <td>0.761594</td>\n",
       "      <td>0.761610</td>\n",
       "      <td>0.761594</td>\n",
       "      <td>0.761594</td>\n",
       "      <td>0.761594</td>\n",
       "      <td>0.761594</td>\n",
       "      <td>0.761594</td>\n",
       "      <td>...</td>\n",
       "      <td>0.761594</td>\n",
       "      <td>0.761594</td>\n",
       "      <td>0.761594</td>\n",
       "      <td>0.761594</td>\n",
       "      <td>0.761594</td>\n",
       "      <td>0.761920</td>\n",
       "      <td>0.761594</td>\n",
       "      <td>0.761594</td>\n",
       "      <td>0.761594</td>\n",
       "      <td>0.761594</td>\n",
       "    </tr>\n",
       "    <tr>\n",
       "      <th>477</th>\n",
       "      <td>0.761594</td>\n",
       "      <td>0.761594</td>\n",
       "      <td>0.761594</td>\n",
       "      <td>0.761601</td>\n",
       "      <td>0.761594</td>\n",
       "      <td>0.761594</td>\n",
       "      <td>0.761594</td>\n",
       "      <td>0.761594</td>\n",
       "      <td>0.761594</td>\n",
       "      <td>0.761594</td>\n",
       "      <td>...</td>\n",
       "      <td>0.761594</td>\n",
       "      <td>0.761594</td>\n",
       "      <td>0.761594</td>\n",
       "      <td>0.761594</td>\n",
       "      <td>0.761615</td>\n",
       "      <td>0.761594</td>\n",
       "      <td>0.761920</td>\n",
       "      <td>0.761594</td>\n",
       "      <td>0.761611</td>\n",
       "      <td>0.761594</td>\n",
       "    </tr>\n",
       "    <tr>\n",
       "      <th>478</th>\n",
       "      <td>0.761594</td>\n",
       "      <td>0.761594</td>\n",
       "      <td>0.761594</td>\n",
       "      <td>0.761594</td>\n",
       "      <td>0.761603</td>\n",
       "      <td>0.761607</td>\n",
       "      <td>0.761594</td>\n",
       "      <td>0.761594</td>\n",
       "      <td>0.761594</td>\n",
       "      <td>0.761602</td>\n",
       "      <td>...</td>\n",
       "      <td>0.761643</td>\n",
       "      <td>0.761594</td>\n",
       "      <td>0.761594</td>\n",
       "      <td>0.761594</td>\n",
       "      <td>0.761594</td>\n",
       "      <td>0.761594</td>\n",
       "      <td>0.761594</td>\n",
       "      <td>0.761920</td>\n",
       "      <td>0.761605</td>\n",
       "      <td>0.761613</td>\n",
       "    </tr>\n",
       "    <tr>\n",
       "      <th>479</th>\n",
       "      <td>0.761594</td>\n",
       "      <td>0.761594</td>\n",
       "      <td>0.761594</td>\n",
       "      <td>0.761620</td>\n",
       "      <td>0.761605</td>\n",
       "      <td>0.761600</td>\n",
       "      <td>0.761610</td>\n",
       "      <td>0.761610</td>\n",
       "      <td>0.761594</td>\n",
       "      <td>0.761621</td>\n",
       "      <td>...</td>\n",
       "      <td>0.761594</td>\n",
       "      <td>0.761594</td>\n",
       "      <td>0.761606</td>\n",
       "      <td>0.761594</td>\n",
       "      <td>0.761594</td>\n",
       "      <td>0.761594</td>\n",
       "      <td>0.761611</td>\n",
       "      <td>0.761605</td>\n",
       "      <td>0.761920</td>\n",
       "      <td>0.761594</td>\n",
       "    </tr>\n",
       "    <tr>\n",
       "      <th>480</th>\n",
       "      <td>0.761594</td>\n",
       "      <td>0.761594</td>\n",
       "      <td>0.761594</td>\n",
       "      <td>0.761594</td>\n",
       "      <td>0.761594</td>\n",
       "      <td>0.761594</td>\n",
       "      <td>0.761594</td>\n",
       "      <td>0.761605</td>\n",
       "      <td>0.761631</td>\n",
       "      <td>0.761594</td>\n",
       "      <td>...</td>\n",
       "      <td>0.761662</td>\n",
       "      <td>0.761594</td>\n",
       "      <td>0.761613</td>\n",
       "      <td>0.761594</td>\n",
       "      <td>0.761594</td>\n",
       "      <td>0.761594</td>\n",
       "      <td>0.761594</td>\n",
       "      <td>0.761613</td>\n",
       "      <td>0.761594</td>\n",
       "      <td>0.761920</td>\n",
       "    </tr>\n",
       "  </tbody>\n",
       "</table>\n",
       "<p>481 rows × 481 columns</p>\n",
       "</div>"
      ],
      "text/plain": [
       "          0         1         2         3         4         5         6    \\\n",
       "0    0.761920  0.761594  0.761594  0.761612  0.761594  0.761609  0.761594   \n",
       "1    0.761594  0.761920  0.761594  0.761594  0.761623  0.761594  0.761594   \n",
       "2    0.761594  0.761594  0.761920  0.761594  0.761594  0.761594  0.761594   \n",
       "3    0.761612  0.761594  0.761594  0.761920  0.761601  0.761597  0.761604   \n",
       "4    0.761594  0.761623  0.761594  0.761601  0.761920  0.761594  0.761601   \n",
       "..        ...       ...       ...       ...       ...       ...       ...   \n",
       "476  0.761594  0.761604  0.761594  0.761594  0.761610  0.761594  0.761594   \n",
       "477  0.761594  0.761594  0.761594  0.761601  0.761594  0.761594  0.761594   \n",
       "478  0.761594  0.761594  0.761594  0.761594  0.761603  0.761607  0.761594   \n",
       "479  0.761594  0.761594  0.761594  0.761620  0.761605  0.761600  0.761610   \n",
       "480  0.761594  0.761594  0.761594  0.761594  0.761594  0.761594  0.761594   \n",
       "\n",
       "          7         8         9    ...       471       472       473  \\\n",
       "0    0.761619  0.761594  0.761594  ...  0.761594  0.761594  0.761594   \n",
       "1    0.761609  0.761594  0.761594  ...  0.761594  0.761594  0.761594   \n",
       "2    0.761608  0.761606  0.761594  ...  0.761594  0.761594  0.761594   \n",
       "3    0.761606  0.761604  0.761680  ...  0.761594  0.761594  0.761614   \n",
       "4    0.761618  0.761594  0.761606  ...  0.761631  0.761594  0.761594   \n",
       "..        ...       ...       ...  ...       ...       ...       ...   \n",
       "476  0.761594  0.761594  0.761594  ...  0.761594  0.761594  0.761594   \n",
       "477  0.761594  0.761594  0.761594  ...  0.761594  0.761594  0.761594   \n",
       "478  0.761594  0.761594  0.761602  ...  0.761643  0.761594  0.761594   \n",
       "479  0.761610  0.761594  0.761621  ...  0.761594  0.761594  0.761606   \n",
       "480  0.761605  0.761631  0.761594  ...  0.761662  0.761594  0.761613   \n",
       "\n",
       "          474       475       476       477       478       479       480  \n",
       "0    0.761594  0.761594  0.761594  0.761594  0.761594  0.761594  0.761594  \n",
       "1    0.761594  0.761594  0.761604  0.761594  0.761594  0.761594  0.761594  \n",
       "2    0.761594  0.761594  0.761594  0.761594  0.761594  0.761594  0.761594  \n",
       "3    0.761603  0.761594  0.761594  0.761601  0.761594  0.761620  0.761594  \n",
       "4    0.761594  0.761594  0.761610  0.761594  0.761603  0.761605  0.761594  \n",
       "..        ...       ...       ...       ...       ...       ...       ...  \n",
       "476  0.761594  0.761594  0.761920  0.761594  0.761594  0.761594  0.761594  \n",
       "477  0.761594  0.761615  0.761594  0.761920  0.761594  0.761611  0.761594  \n",
       "478  0.761594  0.761594  0.761594  0.761594  0.761920  0.761605  0.761613  \n",
       "479  0.761594  0.761594  0.761594  0.761611  0.761605  0.761920  0.761594  \n",
       "480  0.761594  0.761594  0.761594  0.761594  0.761613  0.761594  0.761920  \n",
       "\n",
       "[481 rows x 481 columns]"
      ]
     },
     "metadata": {},
     "output_type": "display_data"
    }
   ],
   "source": [
    "pd.DataFrame(sig)"
   ]
  },
  {
   "cell_type": "code",
   "execution_count": null,
   "id": "4259881b",
   "metadata": {},
   "outputs": [
    {
     "data": {
      "text/plain": [
       "Index([   0,    1,    2,    3,    4,    5,    6,    7,    8,    9,\n",
       "       ...\n",
       "       3865, 3887, 3895, 3940, 4259, 4291, 4300, 4302, 4337, 4602],\n",
       "      dtype='int64', length=481)"
      ]
     },
     "metadata": {},
     "output_type": "display_data"
    }
   ],
   "source": [
    "data.index"
   ]
  },
  {
   "cell_type": "code",
   "execution_count": null,
   "id": "16e3006b",
   "metadata": {},
   "outputs": [],
   "source": [
    "indices = pd.Series(data=data.index, index=data['original_title'])"
   ]
  },
  {
   "cell_type": "code",
   "execution_count": null,
   "id": "1773347e",
   "metadata": {},
   "outputs": [
    {
     "data": {
      "text/plain": [
       "original_title\n",
       "Avatar                                         0\n",
       "Pirates of the Caribbean: At World's End       1\n",
       "Spectre                                        2\n",
       "The Dark Knight Rises                          3\n",
       "John Carter                                    4\n",
       "                                            ... \n",
       "Saw                                         4291\n",
       "Reservoir Dogs                              4300\n",
       "Il buono, il brutto, il cattivo             4302\n",
       "Taxi Driver                                 4337\n",
       "12 Angry Men                                4602\n",
       "Length: 481, dtype: int64"
      ]
     },
     "metadata": {},
     "output_type": "display_data"
    }
   ],
   "source": [
    "indices"
   ]
  },
  {
   "cell_type": "code",
   "execution_count": null,
   "id": "6ad189a6",
   "metadata": {},
   "outputs": [
    {
     "data": {
      "text/plain": [
       "np.int64(0)"
      ]
     },
     "metadata": {},
     "output_type": "display_data"
    }
   ],
   "source": [
    "indices['Avatar']"
   ]
  },
  {
   "cell_type": "code",
   "execution_count": null,
   "id": "2c04cbdf",
   "metadata": {},
   "outputs": [
    {
     "data": {
      "text/plain": [
       "array([0.76192028, 0.76159416, 0.76159416, 0.7616122 , 0.76159416,\n",
       "       0.76160925, 0.76159416, 0.76161893, 0.76159416, 0.76159416,\n",
       "       0.76160657, 0.76159416, 0.76159416, 0.76159416, 0.76159416,\n",
       "       0.76159416, 0.76159416, 0.76159416, 0.76159416, 0.76159416,\n",
       "       0.76159416, 0.76159416, 0.76161784, 0.76162267, 0.76159416,\n",
       "       0.76161373, 0.76159416, 0.76163477, 0.76159416, 0.76159416,\n",
       "       0.76159416, 0.76159416, 0.7616438 , 0.76159416, 0.76159416,\n",
       "       0.76159416, 0.76159416, 0.76159416, 0.76159416, 0.76160605,\n",
       "       0.76159416, 0.76163153, 0.76159416, 0.76161834, 0.76159416,\n",
       "       0.76159416, 0.76159416, 0.76159416, 0.76159416, 0.76159416,\n",
       "       0.76159416, 0.76159416, 0.76159416, 0.76159416, 0.76159416,\n",
       "       0.76159416, 0.76159416, 0.76159416, 0.76159416, 0.76159416,\n",
       "       0.76163133, 0.76159416, 0.76159416, 0.76162612, 0.76159416,\n",
       "       0.76159416, 0.76159416, 0.76159416, 0.76159416, 0.76159416,\n",
       "       0.76159416, 0.76159416, 0.76159416, 0.76160857, 0.76159416,\n",
       "       0.76160402, 0.76161092, 0.76159416, 0.76159416, 0.76159416,\n",
       "       0.76159416, 0.76159416, 0.76159416, 0.76159416, 0.76159416,\n",
       "       0.76159416, 0.76160243, 0.76159416, 0.76161594, 0.76159416,\n",
       "       0.76159416, 0.76159416, 0.76159416, 0.76159416, 0.76159416,\n",
       "       0.76159416, 0.76159416, 0.76159416, 0.76159416, 0.76159416,\n",
       "       0.76159416, 0.76159416, 0.76159416, 0.76159416, 0.76160956,\n",
       "       0.76159416, 0.76159416, 0.76159416, 0.7616106 , 0.76161449,\n",
       "       0.76160615, 0.76161672, 0.76159416, 0.76163337, 0.76161839,\n",
       "       0.76163748, 0.76160288, 0.76159416, 0.76159416, 0.76159416,\n",
       "       0.76159416, 0.76159416, 0.76159416, 0.76159416, 0.76159416,\n",
       "       0.76159416, 0.76159416, 0.76162491, 0.76159416, 0.76159416,\n",
       "       0.76159416, 0.76159416, 0.76159416, 0.76159416, 0.76159416,\n",
       "       0.76159416, 0.76159416, 0.76159416, 0.76159416, 0.76159416,\n",
       "       0.76159416, 0.76159416, 0.76159416, 0.76162931, 0.76159416,\n",
       "       0.76159416, 0.76159416, 0.76159416, 0.76159416, 0.76160404,\n",
       "       0.76159416, 0.76159416, 0.76160558, 0.76159416, 0.76159416,\n",
       "       0.76159416, 0.76159416, 0.76160447, 0.76159416, 0.76160567,\n",
       "       0.76159416, 0.76160288, 0.76159416, 0.76159416, 0.76159416,\n",
       "       0.76159416, 0.76159416, 0.76160432, 0.76159416, 0.76159416,\n",
       "       0.76159416, 0.76159416, 0.76159416, 0.76159416, 0.76159416,\n",
       "       0.76159416, 0.76159416, 0.76159416, 0.76159416, 0.76159416,\n",
       "       0.76159416, 0.76161048, 0.76159416, 0.76162902, 0.76159416,\n",
       "       0.76160542, 0.76159416, 0.76159416, 0.76159416, 0.76159416,\n",
       "       0.76159416, 0.76159416, 0.76160961, 0.76159416, 0.76159416,\n",
       "       0.76159416, 0.76159416, 0.76159416, 0.76159416, 0.76159416,\n",
       "       0.76159416, 0.76159416, 0.76159416, 0.76159416, 0.76159416,\n",
       "       0.76159416, 0.76159416, 0.76159416, 0.76160587, 0.76160493,\n",
       "       0.76159416, 0.76159416, 0.76159416, 0.76159416, 0.76159416,\n",
       "       0.76159416, 0.76159416, 0.76159416, 0.76159416, 0.76159416,\n",
       "       0.76159416, 0.76159416, 0.76159416, 0.76159416, 0.76159416,\n",
       "       0.76159416, 0.76159416, 0.76159416, 0.76159416, 0.76159416,\n",
       "       0.76159416, 0.76159416, 0.76159416, 0.76159416, 0.76159416,\n",
       "       0.76159416, 0.76159416, 0.76159416, 0.76160499, 0.76159416,\n",
       "       0.76159416, 0.76159416, 0.76159416, 0.76159416, 0.76163146,\n",
       "       0.76159416, 0.76159416, 0.76159416, 0.76159416, 0.76159416,\n",
       "       0.76159416, 0.76159416, 0.76159416, 0.76159416, 0.76159416,\n",
       "       0.76159416, 0.76159416, 0.76159416, 0.76159416, 0.76159416,\n",
       "       0.76159416, 0.76159416, 0.76159416, 0.76159416, 0.76159416,\n",
       "       0.76159416, 0.76159416, 0.76159416, 0.76163643, 0.76159416,\n",
       "       0.76159416, 0.76159416, 0.76161966, 0.76161984, 0.76159416,\n",
       "       0.76159416, 0.76159416, 0.76159416, 0.76159416, 0.76159416,\n",
       "       0.76159416, 0.76159416, 0.76159416, 0.76159416, 0.76159416,\n",
       "       0.76159416, 0.76159416, 0.76159416, 0.76159416, 0.76159416,\n",
       "       0.76160616, 0.76159416, 0.76159416, 0.76159416, 0.76159416,\n",
       "       0.76159416, 0.76159416, 0.76159416, 0.76160668, 0.76159416,\n",
       "       0.76160915, 0.76159416, 0.76159416, 0.76159416, 0.76159416,\n",
       "       0.76159416, 0.76159416, 0.76159416, 0.76159416, 0.76159416,\n",
       "       0.76162126, 0.76159416, 0.76159416, 0.76159416, 0.76159416,\n",
       "       0.76159416, 0.76159416, 0.76159416, 0.76161029, 0.76159416,\n",
       "       0.76159416, 0.76159416, 0.76159416, 0.76159416, 0.76159416,\n",
       "       0.76159416, 0.76159416, 0.76159416, 0.76159416, 0.76159416,\n",
       "       0.76159416, 0.76159416, 0.76159416, 0.76159416, 0.76161004,\n",
       "       0.7616207 , 0.76159416, 0.76159416, 0.76159416, 0.76159416,\n",
       "       0.76159416, 0.76159416, 0.76159416, 0.76159416, 0.76159416,\n",
       "       0.7616093 , 0.76159416, 0.76159416, 0.76159416, 0.76159416,\n",
       "       0.76159416, 0.76160597, 0.76160659, 0.76159416, 0.76161634,\n",
       "       0.76159416, 0.76159416, 0.76159416, 0.76159416, 0.76159416,\n",
       "       0.76159416, 0.76159416, 0.76159416, 0.76161524, 0.76159416,\n",
       "       0.76159416, 0.76159416, 0.76159416, 0.76159416, 0.76159416,\n",
       "       0.76159416, 0.76159416, 0.76159416, 0.76159416, 0.76159416,\n",
       "       0.76159416, 0.76159416, 0.7616025 , 0.76159416, 0.76159416,\n",
       "       0.76159416, 0.76159416, 0.76159416, 0.76159416, 0.76159416,\n",
       "       0.76159416, 0.76159416, 0.76159416, 0.76159416, 0.76159416,\n",
       "       0.76159416, 0.76159416, 0.76159416, 0.76159416, 0.76159416,\n",
       "       0.76159416, 0.76159416, 0.76159416, 0.76159416, 0.76161007,\n",
       "       0.76159416, 0.76159416, 0.76159416, 0.76159416, 0.76159416,\n",
       "       0.76159416, 0.76159416, 0.76159416, 0.76159416, 0.76159416,\n",
       "       0.76159416, 0.7616211 , 0.76159416, 0.76159416, 0.76159416,\n",
       "       0.76159416, 0.7616142 , 0.76159416, 0.76159416, 0.76159416,\n",
       "       0.76159416, 0.76159416, 0.76159416, 0.76159416, 0.76159416,\n",
       "       0.76159416, 0.76159416, 0.76159416, 0.76159416, 0.76159416,\n",
       "       0.76159416, 0.76159416, 0.76159416, 0.76159416, 0.76159416,\n",
       "       0.76159416, 0.76159416, 0.76159416, 0.76162421, 0.76159416,\n",
       "       0.76159416, 0.76159416, 0.76159416, 0.76159416, 0.76159416,\n",
       "       0.76159416, 0.76159416, 0.76159416, 0.76163739, 0.76159416,\n",
       "       0.76159416, 0.76161086, 0.76159416, 0.76159416, 0.76159416,\n",
       "       0.76159416, 0.76159416, 0.76159416, 0.76159416, 0.76159416,\n",
       "       0.76161566, 0.76159416, 0.76161057, 0.76159416, 0.76159416,\n",
       "       0.76159416, 0.76159416, 0.76159416, 0.76159416, 0.76159416,\n",
       "       0.76159416, 0.76159416, 0.76159416, 0.76159416, 0.76159416,\n",
       "       0.76159416, 0.76159416, 0.76159416, 0.76159416, 0.76159416,\n",
       "       0.76159416])"
      ]
     },
     "metadata": {},
     "output_type": "display_data"
    }
   ],
   "source": [
    "sig[0]"
   ]
  },
  {
   "cell_type": "code",
   "execution_count": null,
   "id": "472856b6",
   "metadata": {},
   "outputs": [
    {
     "data": {
      "text/plain": [
       "[(0, np.float64(0.7619202832910207)),\n",
       " (1, np.float64(0.7615941559557649)),\n",
       " (2, np.float64(0.7615941559557649)),\n",
       " (3, np.float64(0.7616122034494262)),\n",
       " (4, np.float64(0.7615941559557649)),\n",
       " (5, np.float64(0.7616092536556935)),\n",
       " (6, np.float64(0.7615941559557649)),\n",
       " (7, np.float64(0.7616189300381152)),\n",
       " (8, np.float64(0.7615941559557649)),\n",
       " (9, np.float64(0.7615941559557649)),\n",
       " (10, np.float64(0.7616065696628211)),\n",
       " (11, np.float64(0.7615941559557649)),\n",
       " (12, np.float64(0.7615941559557649)),\n",
       " (13, np.float64(0.7615941559557649)),\n",
       " (14, np.float64(0.7615941559557649)),\n",
       " (15, np.float64(0.7615941559557649)),\n",
       " (16, np.float64(0.7615941559557649)),\n",
       " (17, np.float64(0.7615941559557649)),\n",
       " (18, np.float64(0.7615941559557649)),\n",
       " (19, np.float64(0.7615941559557649)),\n",
       " (20, np.float64(0.7615941559557649)),\n",
       " (21, np.float64(0.7615941559557649)),\n",
       " (22, np.float64(0.761617835617301)),\n",
       " (23, np.float64(0.7616226689593035)),\n",
       " (24, np.float64(0.7615941559557649)),\n",
       " (25, np.float64(0.7616137268479982)),\n",
       " (26, np.float64(0.7615941559557649)),\n",
       " (27, np.float64(0.7616347652157809)),\n",
       " (28, np.float64(0.7615941559557649)),\n",
       " (29, np.float64(0.7615941559557649)),\n",
       " (30, np.float64(0.7615941559557649)),\n",
       " (31, np.float64(0.7615941559557649)),\n",
       " (32, np.float64(0.7616438020620747)),\n",
       " (33, np.float64(0.7615941559557649)),\n",
       " (34, np.float64(0.7615941559557649)),\n",
       " (35, np.float64(0.7615941559557649)),\n",
       " (36, np.float64(0.7615941559557649)),\n",
       " (37, np.float64(0.7615941559557649)),\n",
       " (38, np.float64(0.7615941559557649)),\n",
       " (39, np.float64(0.7616060531815754)),\n",
       " (40, np.float64(0.7615941559557649)),\n",
       " (41, np.float64(0.7616315279797605)),\n",
       " (42, np.float64(0.7615941559557649)),\n",
       " (43, np.float64(0.7616183419428874)),\n",
       " (44, np.float64(0.7615941559557649)),\n",
       " (45, np.float64(0.7615941559557649)),\n",
       " (46, np.float64(0.7615941559557649)),\n",
       " (47, np.float64(0.7615941559557649)),\n",
       " (48, np.float64(0.7615941559557649)),\n",
       " (49, np.float64(0.7615941559557649)),\n",
       " (50, np.float64(0.7615941559557649)),\n",
       " (51, np.float64(0.7615941559557649)),\n",
       " (52, np.float64(0.7615941559557649)),\n",
       " (53, np.float64(0.7615941559557649)),\n",
       " (54, np.float64(0.7615941559557649)),\n",
       " (55, np.float64(0.7615941559557649)),\n",
       " (56, np.float64(0.7615941559557649)),\n",
       " (57, np.float64(0.7615941559557649)),\n",
       " (58, np.float64(0.7615941559557649)),\n",
       " (59, np.float64(0.7615941559557649)),\n",
       " (60, np.float64(0.7616313296944649)),\n",
       " (61, np.float64(0.7615941559557649)),\n",
       " (62, np.float64(0.7615941559557649)),\n",
       " (63, np.float64(0.7616261199291152)),\n",
       " (64, np.float64(0.7615941559557649)),\n",
       " (65, np.float64(0.7615941559557649)),\n",
       " (66, np.float64(0.7615941559557649)),\n",
       " (67, np.float64(0.7615941559557649)),\n",
       " (68, np.float64(0.7615941559557649)),\n",
       " (69, np.float64(0.7615941559557649)),\n",
       " (70, np.float64(0.7615941559557649)),\n",
       " (71, np.float64(0.7615941559557649)),\n",
       " (72, np.float64(0.7615941559557649)),\n",
       " (73, np.float64(0.7616085683900855)),\n",
       " (74, np.float64(0.7615941559557649)),\n",
       " (75, np.float64(0.7616040212694741)),\n",
       " (76, np.float64(0.7616109188536901)),\n",
       " (77, np.float64(0.7615941559557649)),\n",
       " (78, np.float64(0.7615941559557649)),\n",
       " (79, np.float64(0.7615941559557649)),\n",
       " (80, np.float64(0.7615941559557649)),\n",
       " (81, np.float64(0.7615941559557649)),\n",
       " (82, np.float64(0.7615941559557649)),\n",
       " (83, np.float64(0.7615941559557649)),\n",
       " (84, np.float64(0.7615941559557649)),\n",
       " (85, np.float64(0.7615941559557649)),\n",
       " (86, np.float64(0.7616024281259053)),\n",
       " (87, np.float64(0.7615941559557649)),\n",
       " (88, np.float64(0.7616159430601648)),\n",
       " (89, np.float64(0.7615941559557649)),\n",
       " (90, np.float64(0.7615941559557649)),\n",
       " (91, np.float64(0.7615941559557649)),\n",
       " (92, np.float64(0.7615941559557649)),\n",
       " (93, np.float64(0.7615941559557649)),\n",
       " (94, np.float64(0.7615941559557649)),\n",
       " (95, np.float64(0.7615941559557649)),\n",
       " (96, np.float64(0.7615941559557649)),\n",
       " (97, np.float64(0.7615941559557649)),\n",
       " (98, np.float64(0.7615941559557649)),\n",
       " (99, np.float64(0.7615941559557649)),\n",
       " (100, np.float64(0.7615941559557649)),\n",
       " (101, np.float64(0.7615941559557649)),\n",
       " (102, np.float64(0.7615941559557649)),\n",
       " (103, np.float64(0.7615941559557649)),\n",
       " (104, np.float64(0.7616095645771611)),\n",
       " (105, np.float64(0.7615941559557649)),\n",
       " (106, np.float64(0.7615941559557649)),\n",
       " (107, np.float64(0.7615941559557649)),\n",
       " (108, np.float64(0.7616105993151742)),\n",
       " (109, np.float64(0.7616144911643314)),\n",
       " (110, np.float64(0.7616061465749492)),\n",
       " (111, np.float64(0.7616167248080519)),\n",
       " (112, np.float64(0.7615941559557649)),\n",
       " (113, np.float64(0.7616333738310593)),\n",
       " (114, np.float64(0.7616183905824947)),\n",
       " (115, np.float64(0.7616374831326581)),\n",
       " (116, np.float64(0.7616028798538916)),\n",
       " (117, np.float64(0.7615941559557649)),\n",
       " (118, np.float64(0.7615941559557649)),\n",
       " (119, np.float64(0.7615941559557649)),\n",
       " (120, np.float64(0.7615941559557649)),\n",
       " (121, np.float64(0.7615941559557649)),\n",
       " (122, np.float64(0.7615941559557649)),\n",
       " (123, np.float64(0.7615941559557649)),\n",
       " (124, np.float64(0.7615941559557649)),\n",
       " (125, np.float64(0.7615941559557649)),\n",
       " (126, np.float64(0.7615941559557649)),\n",
       " (127, np.float64(0.7616249141373285)),\n",
       " (128, np.float64(0.7615941559557649)),\n",
       " (129, np.float64(0.7615941559557649)),\n",
       " (130, np.float64(0.7615941559557649)),\n",
       " (131, np.float64(0.7615941559557649)),\n",
       " (132, np.float64(0.7615941559557649)),\n",
       " (133, np.float64(0.7615941559557649)),\n",
       " (134, np.float64(0.7615941559557649)),\n",
       " (135, np.float64(0.7615941559557649)),\n",
       " (136, np.float64(0.7615941559557649)),\n",
       " (137, np.float64(0.7615941559557649)),\n",
       " (138, np.float64(0.7615941559557649)),\n",
       " (139, np.float64(0.7615941559557649)),\n",
       " (140, np.float64(0.7615941559557649)),\n",
       " (141, np.float64(0.7615941559557649)),\n",
       " (142, np.float64(0.7615941559557649)),\n",
       " (143, np.float64(0.7616293067305003)),\n",
       " (144, np.float64(0.7615941559557649)),\n",
       " (145, np.float64(0.7615941559557649)),\n",
       " (146, np.float64(0.7615941559557649)),\n",
       " (147, np.float64(0.7615941559557649)),\n",
       " (148, np.float64(0.7615941559557649)),\n",
       " (149, np.float64(0.761604035232878)),\n",
       " (150, np.float64(0.7615941559557649)),\n",
       " (151, np.float64(0.7615941559557649)),\n",
       " (152, np.float64(0.7616055840001242)),\n",
       " (153, np.float64(0.7615941559557649)),\n",
       " (154, np.float64(0.7615941559557649)),\n",
       " (155, np.float64(0.7615941559557649)),\n",
       " (156, np.float64(0.7615941559557649)),\n",
       " (157, np.float64(0.7616044717727122)),\n",
       " (158, np.float64(0.7615941559557649)),\n",
       " (159, np.float64(0.7616056733512252)),\n",
       " (160, np.float64(0.7615941559557649)),\n",
       " (161, np.float64(0.7616028827666922)),\n",
       " (162, np.float64(0.7615941559557649)),\n",
       " (163, np.float64(0.7615941559557649)),\n",
       " (164, np.float64(0.7615941559557649)),\n",
       " (165, np.float64(0.7615941559557649)),\n",
       " (166, np.float64(0.7615941559557649)),\n",
       " (167, np.float64(0.7616043164649379)),\n",
       " (168, np.float64(0.7615941559557649)),\n",
       " (169, np.float64(0.7615941559557649)),\n",
       " (170, np.float64(0.7615941559557649)),\n",
       " (171, np.float64(0.7615941559557649)),\n",
       " (172, np.float64(0.7615941559557649)),\n",
       " (173, np.float64(0.7615941559557649)),\n",
       " (174, np.float64(0.7615941559557649)),\n",
       " (175, np.float64(0.7615941559557649)),\n",
       " (176, np.float64(0.7615941559557649)),\n",
       " (177, np.float64(0.7615941559557649)),\n",
       " (178, np.float64(0.7615941559557649)),\n",
       " (179, np.float64(0.7615941559557649)),\n",
       " (180, np.float64(0.7615941559557649)),\n",
       " (181, np.float64(0.761610480191119)),\n",
       " (182, np.float64(0.7615941559557649)),\n",
       " (183, np.float64(0.7616290249600138)),\n",
       " (184, np.float64(0.7615941559557649)),\n",
       " (185, np.float64(0.7616054215695599)),\n",
       " (186, np.float64(0.7615941559557649)),\n",
       " (187, np.float64(0.7615941559557649)),\n",
       " (188, np.float64(0.7615941559557649)),\n",
       " (189, np.float64(0.7615941559557649)),\n",
       " (190, np.float64(0.7615941559557649)),\n",
       " (191, np.float64(0.7615941559557649)),\n",
       " (192, np.float64(0.7616096125558992)),\n",
       " (193, np.float64(0.7615941559557649)),\n",
       " (194, np.float64(0.7615941559557649)),\n",
       " (195, np.float64(0.7615941559557649)),\n",
       " (196, np.float64(0.7615941559557649)),\n",
       " (197, np.float64(0.7615941559557649)),\n",
       " (198, np.float64(0.7615941559557649)),\n",
       " (199, np.float64(0.7615941559557649)),\n",
       " (200, np.float64(0.7615941559557649)),\n",
       " (201, np.float64(0.7615941559557649)),\n",
       " (202, np.float64(0.7615941559557649)),\n",
       " (203, np.float64(0.7615941559557649)),\n",
       " (204, np.float64(0.7615941559557649)),\n",
       " (205, np.float64(0.7615941559557649)),\n",
       " (206, np.float64(0.7615941559557649)),\n",
       " (207, np.float64(0.7615941559557649)),\n",
       " (208, np.float64(0.7616058746018326)),\n",
       " (209, np.float64(0.7616049318074696)),\n",
       " (210, np.float64(0.7615941559557649)),\n",
       " (211, np.float64(0.7615941559557649)),\n",
       " (212, np.float64(0.7615941559557649)),\n",
       " (213, np.float64(0.7615941559557649)),\n",
       " (214, np.float64(0.7615941559557649)),\n",
       " (215, np.float64(0.7615941559557649)),\n",
       " (216, np.float64(0.7615941559557649)),\n",
       " (217, np.float64(0.7615941559557649)),\n",
       " (218, np.float64(0.7615941559557649)),\n",
       " (219, np.float64(0.7615941559557649)),\n",
       " (220, np.float64(0.7615941559557649)),\n",
       " (221, np.float64(0.7615941559557649)),\n",
       " (222, np.float64(0.7615941559557649)),\n",
       " (223, np.float64(0.7615941559557649)),\n",
       " (224, np.float64(0.7615941559557649)),\n",
       " (225, np.float64(0.7615941559557649)),\n",
       " (226, np.float64(0.7615941559557649)),\n",
       " (227, np.float64(0.7615941559557649)),\n",
       " (228, np.float64(0.7615941559557649)),\n",
       " (229, np.float64(0.7615941559557649)),\n",
       " (230, np.float64(0.7615941559557649)),\n",
       " (231, np.float64(0.7615941559557649)),\n",
       " (232, np.float64(0.7615941559557649)),\n",
       " (233, np.float64(0.7615941559557649)),\n",
       " (234, np.float64(0.7615941559557649)),\n",
       " (235, np.float64(0.7615941559557649)),\n",
       " (236, np.float64(0.7615941559557649)),\n",
       " (237, np.float64(0.7615941559557649)),\n",
       " (238, np.float64(0.7616049927933284)),\n",
       " (239, np.float64(0.7615941559557649)),\n",
       " (240, np.float64(0.7615941559557649)),\n",
       " (241, np.float64(0.7615941559557649)),\n",
       " (242, np.float64(0.7615941559557649)),\n",
       " (243, np.float64(0.7615941559557649)),\n",
       " (244, np.float64(0.7616314625482568)),\n",
       " (245, np.float64(0.7615941559557649)),\n",
       " (246, np.float64(0.7615941559557649)),\n",
       " (247, np.float64(0.7615941559557649)),\n",
       " (248, np.float64(0.7615941559557649)),\n",
       " (249, np.float64(0.7615941559557649)),\n",
       " (250, np.float64(0.7615941559557649)),\n",
       " (251, np.float64(0.7615941559557649)),\n",
       " (252, np.float64(0.7615941559557649)),\n",
       " (253, np.float64(0.7615941559557649)),\n",
       " (254, np.float64(0.7615941559557649)),\n",
       " (255, np.float64(0.7615941559557649)),\n",
       " (256, np.float64(0.7615941559557649)),\n",
       " (257, np.float64(0.7615941559557649)),\n",
       " (258, np.float64(0.7615941559557649)),\n",
       " (259, np.float64(0.7615941559557649)),\n",
       " (260, np.float64(0.7615941559557649)),\n",
       " (261, np.float64(0.7615941559557649)),\n",
       " (262, np.float64(0.7615941559557649)),\n",
       " (263, np.float64(0.7615941559557649)),\n",
       " (264, np.float64(0.7615941559557649)),\n",
       " (265, np.float64(0.7615941559557649)),\n",
       " (266, np.float64(0.7615941559557649)),\n",
       " (267, np.float64(0.7615941559557649)),\n",
       " (268, np.float64(0.7616364303210734)),\n",
       " (269, np.float64(0.7615941559557649)),\n",
       " (270, np.float64(0.7615941559557649)),\n",
       " (271, np.float64(0.7615941559557649)),\n",
       " (272, np.float64(0.7616196560041627)),\n",
       " (273, np.float64(0.761619838378793)),\n",
       " (274, np.float64(0.7615941559557649)),\n",
       " (275, np.float64(0.7615941559557649)),\n",
       " (276, np.float64(0.7615941559557649)),\n",
       " (277, np.float64(0.7615941559557649)),\n",
       " (278, np.float64(0.7615941559557649)),\n",
       " (279, np.float64(0.7615941559557649)),\n",
       " (280, np.float64(0.7615941559557649)),\n",
       " (281, np.float64(0.7615941559557649)),\n",
       " (282, np.float64(0.7615941559557649)),\n",
       " (283, np.float64(0.7615941559557649)),\n",
       " (284, np.float64(0.7615941559557649)),\n",
       " (285, np.float64(0.7615941559557649)),\n",
       " (286, np.float64(0.7615941559557649)),\n",
       " (287, np.float64(0.7615941559557649)),\n",
       " (288, np.float64(0.7615941559557649)),\n",
       " (289, np.float64(0.7615941559557649)),\n",
       " (290, np.float64(0.7616061607998771)),\n",
       " (291, np.float64(0.7615941559557649)),\n",
       " (292, np.float64(0.7615941559557649)),\n",
       " (293, np.float64(0.7615941559557649)),\n",
       " (294, np.float64(0.7615941559557649)),\n",
       " (295, np.float64(0.7615941559557649)),\n",
       " (296, np.float64(0.7615941559557649)),\n",
       " (297, np.float64(0.7615941559557649)),\n",
       " (298, np.float64(0.7616066763946059)),\n",
       " (299, np.float64(0.7615941559557649)),\n",
       " (300, np.float64(0.7616091524836299)),\n",
       " (301, np.float64(0.7615941559557649)),\n",
       " (302, np.float64(0.7615941559557649)),\n",
       " (303, np.float64(0.7615941559557649)),\n",
       " (304, np.float64(0.7615941559557649)),\n",
       " (305, np.float64(0.7615941559557649)),\n",
       " (306, np.float64(0.7615941559557649)),\n",
       " (307, np.float64(0.7615941559557649)),\n",
       " (308, np.float64(0.7615941559557649)),\n",
       " (309, np.float64(0.7615941559557649)),\n",
       " (310, np.float64(0.7616212603068125)),\n",
       " (311, np.float64(0.7615941559557649)),\n",
       " (312, np.float64(0.7615941559557649)),\n",
       " (313, np.float64(0.7615941559557649)),\n",
       " (314, np.float64(0.7615941559557649)),\n",
       " (315, np.float64(0.7615941559557649)),\n",
       " (316, np.float64(0.7615941559557649)),\n",
       " (317, np.float64(0.7615941559557649)),\n",
       " (318, np.float64(0.7616102871112438)),\n",
       " (319, np.float64(0.7615941559557649)),\n",
       " (320, np.float64(0.7615941559557649)),\n",
       " (321, np.float64(0.7615941559557649)),\n",
       " (322, np.float64(0.7615941559557649)),\n",
       " (323, np.float64(0.7615941559557649)),\n",
       " (324, np.float64(0.7615941559557649)),\n",
       " (325, np.float64(0.7615941559557649)),\n",
       " (326, np.float64(0.7615941559557649)),\n",
       " (327, np.float64(0.7615941559557649)),\n",
       " (328, np.float64(0.7615941559557649)),\n",
       " (329, np.float64(0.7615941559557649)),\n",
       " (330, np.float64(0.7615941559557649)),\n",
       " (331, np.float64(0.7615941559557649)),\n",
       " (332, np.float64(0.7615941559557649)),\n",
       " (333, np.float64(0.7615941559557649)),\n",
       " (334, np.float64(0.7616100436459482)),\n",
       " (335, np.float64(0.7616207035282874)),\n",
       " (336, np.float64(0.7615941559557649)),\n",
       " (337, np.float64(0.7615941559557649)),\n",
       " (338, np.float64(0.7615941559557649)),\n",
       " (339, np.float64(0.7615941559557649)),\n",
       " (340, np.float64(0.7615941559557649)),\n",
       " (341, np.float64(0.7615941559557649)),\n",
       " (342, np.float64(0.7615941559557649)),\n",
       " (343, np.float64(0.7615941559557649)),\n",
       " (344, np.float64(0.7615941559557649)),\n",
       " (345, np.float64(0.761609301232507)),\n",
       " (346, np.float64(0.7615941559557649)),\n",
       " (347, np.float64(0.7615941559557649)),\n",
       " (348, np.float64(0.7615941559557649)),\n",
       " (349, np.float64(0.7615941559557649)),\n",
       " (350, np.float64(0.7615941559557649)),\n",
       " (351, np.float64(0.7616059699540269)),\n",
       " (352, np.float64(0.7616065886319529)),\n",
       " (353, np.float64(0.7615941559557649)),\n",
       " (354, np.float64(0.7616163383531566)),\n",
       " (355, np.float64(0.7615941559557649)),\n",
       " (356, np.float64(0.7615941559557649)),\n",
       " (357, np.float64(0.7615941559557649)),\n",
       " (358, np.float64(0.7615941559557649)),\n",
       " (359, np.float64(0.7615941559557649)),\n",
       " (360, np.float64(0.7615941559557649)),\n",
       " (361, np.float64(0.7615941559557649)),\n",
       " (362, np.float64(0.7615941559557649)),\n",
       " (363, np.float64(0.7616152448748013)),\n",
       " (364, np.float64(0.7615941559557649)),\n",
       " (365, np.float64(0.7615941559557649)),\n",
       " (366, np.float64(0.7615941559557649)),\n",
       " (367, np.float64(0.7615941559557649)),\n",
       " (368, np.float64(0.7615941559557649)),\n",
       " (369, np.float64(0.7615941559557649)),\n",
       " (370, np.float64(0.7615941559557649)),\n",
       " (371, np.float64(0.7615941559557649)),\n",
       " (372, np.float64(0.7615941559557649)),\n",
       " (373, np.float64(0.7615941559557649)),\n",
       " (374, np.float64(0.7615941559557649)),\n",
       " (375, np.float64(0.7615941559557649)),\n",
       " (376, np.float64(0.7615941559557649)),\n",
       " (377, np.float64(0.761602499974722)),\n",
       " (378, np.float64(0.7615941559557649)),\n",
       " (379, np.float64(0.7615941559557649)),\n",
       " (380, np.float64(0.7615941559557649)),\n",
       " (381, np.float64(0.7615941559557649)),\n",
       " (382, np.float64(0.7615941559557649)),\n",
       " (383, np.float64(0.7615941559557649)),\n",
       " (384, np.float64(0.7615941559557649)),\n",
       " (385, np.float64(0.7615941559557649)),\n",
       " (386, np.float64(0.7615941559557649)),\n",
       " (387, np.float64(0.7615941559557649)),\n",
       " (388, np.float64(0.7615941559557649)),\n",
       " (389, np.float64(0.7615941559557649)),\n",
       " (390, np.float64(0.7615941559557649)),\n",
       " (391, np.float64(0.7615941559557649)),\n",
       " (392, np.float64(0.7615941559557649)),\n",
       " (393, np.float64(0.7615941559557649)),\n",
       " (394, np.float64(0.7615941559557649)),\n",
       " (395, np.float64(0.7615941559557649)),\n",
       " (396, np.float64(0.7615941559557649)),\n",
       " (397, np.float64(0.7615941559557649)),\n",
       " (398, np.float64(0.7615941559557649)),\n",
       " (399, np.float64(0.7616100700862999)),\n",
       " (400, np.float64(0.7615941559557649)),\n",
       " (401, np.float64(0.7615941559557649)),\n",
       " (402, np.float64(0.7615941559557649)),\n",
       " (403, np.float64(0.7615941559557649)),\n",
       " (404, np.float64(0.7615941559557649)),\n",
       " (405, np.float64(0.7615941559557649)),\n",
       " (406, np.float64(0.7615941559557649)),\n",
       " (407, np.float64(0.7615941559557649)),\n",
       " (408, np.float64(0.7615941559557649)),\n",
       " (409, np.float64(0.7615941559557649)),\n",
       " (410, np.float64(0.7615941559557649)),\n",
       " (411, np.float64(0.7616211038063492)),\n",
       " (412, np.float64(0.7615941559557649)),\n",
       " (413, np.float64(0.7615941559557649)),\n",
       " (414, np.float64(0.7615941559557649)),\n",
       " (415, np.float64(0.7615941559557649)),\n",
       " (416, np.float64(0.7616141995782075)),\n",
       " (417, np.float64(0.7615941559557649)),\n",
       " (418, np.float64(0.7615941559557649)),\n",
       " (419, np.float64(0.7615941559557649)),\n",
       " (420, np.float64(0.7615941559557649)),\n",
       " (421, np.float64(0.7615941559557649)),\n",
       " (422, np.float64(0.7615941559557649)),\n",
       " (423, np.float64(0.7615941559557649)),\n",
       " (424, np.float64(0.7615941559557649)),\n",
       " (425, np.float64(0.7615941559557649)),\n",
       " (426, np.float64(0.7615941559557649)),\n",
       " (427, np.float64(0.7615941559557649)),\n",
       " (428, np.float64(0.7615941559557649)),\n",
       " (429, np.float64(0.7615941559557649)),\n",
       " (430, np.float64(0.7615941559557649)),\n",
       " (431, np.float64(0.7615941559557649)),\n",
       " (432, np.float64(0.7615941559557649)),\n",
       " (433, np.float64(0.7615941559557649)),\n",
       " (434, np.float64(0.7615941559557649)),\n",
       " (435, np.float64(0.7615941559557649)),\n",
       " (436, np.float64(0.7615941559557649)),\n",
       " (437, np.float64(0.7615941559557649)),\n",
       " (438, np.float64(0.7616242064203554)),\n",
       " (439, np.float64(0.7615941559557649)),\n",
       " (440, np.float64(0.7615941559557649)),\n",
       " (441, np.float64(0.7615941559557649)),\n",
       " (442, np.float64(0.7615941559557649)),\n",
       " (443, np.float64(0.7615941559557649)),\n",
       " (444, np.float64(0.7615941559557649)),\n",
       " (445, np.float64(0.7615941559557649)),\n",
       " (446, np.float64(0.7615941559557649)),\n",
       " (447, np.float64(0.7615941559557649)),\n",
       " (448, np.float64(0.7616373907749108)),\n",
       " (449, np.float64(0.7615941559557649)),\n",
       " (450, np.float64(0.7615941559557649)),\n",
       " (451, np.float64(0.7616108604406976)),\n",
       " (452, np.float64(0.7615941559557649)),\n",
       " (453, np.float64(0.7615941559557649)),\n",
       " (454, np.float64(0.7615941559557649)),\n",
       " (455, np.float64(0.7615941559557649)),\n",
       " (456, np.float64(0.7615941559557649)),\n",
       " (457, np.float64(0.7615941559557649)),\n",
       " (458, np.float64(0.7615941559557649)),\n",
       " (459, np.float64(0.7615941559557649)),\n",
       " (460, np.float64(0.7616156567752111)),\n",
       " (461, np.float64(0.7615941559557649)),\n",
       " (462, np.float64(0.761610572118902)),\n",
       " (463, np.float64(0.7615941559557649)),\n",
       " (464, np.float64(0.7615941559557649)),\n",
       " (465, np.float64(0.7615941559557649)),\n",
       " (466, np.float64(0.7615941559557649)),\n",
       " (467, np.float64(0.7615941559557649)),\n",
       " (468, np.float64(0.7615941559557649)),\n",
       " (469, np.float64(0.7615941559557649)),\n",
       " (470, np.float64(0.7615941559557649)),\n",
       " (471, np.float64(0.7615941559557649)),\n",
       " (472, np.float64(0.7615941559557649)),\n",
       " (473, np.float64(0.7615941559557649)),\n",
       " (474, np.float64(0.7615941559557649)),\n",
       " (475, np.float64(0.7615941559557649)),\n",
       " (476, np.float64(0.7615941559557649)),\n",
       " (477, np.float64(0.7615941559557649)),\n",
       " (478, np.float64(0.7615941559557649)),\n",
       " (479, np.float64(0.7615941559557649)),\n",
       " (480, np.float64(0.7615941559557649))]"
      ]
     },
     "metadata": {},
     "output_type": "display_data"
    }
   ],
   "source": [
    "list(enumerate(sig[indices['Avatar']]))"
   ]
  },
  {
   "cell_type": "code",
   "execution_count": null,
   "id": "dfd256da",
   "metadata": {},
   "outputs": [],
   "source": [
    "sigma = sorted(list(enumerate(sig[indices['Avatar']])), key= lambda x : x[1], reverse=True)"
   ]
  },
  {
   "cell_type": "code",
   "execution_count": null,
   "id": "7b1d69c3",
   "metadata": {},
   "outputs": [
    {
     "data": {
      "text/plain": [
       "[(0, np.float64(0.7619202832910207)),\n",
       " (32, np.float64(0.7616438020620747)),\n",
       " (115, np.float64(0.7616374831326581)),\n",
       " (448, np.float64(0.7616373907749108)),\n",
       " (268, np.float64(0.7616364303210734)),\n",
       " (27, np.float64(0.7616347652157809)),\n",
       " (113, np.float64(0.7616333738310593)),\n",
       " (41, np.float64(0.7616315279797605)),\n",
       " (244, np.float64(0.7616314625482568)),\n",
       " (60, np.float64(0.7616313296944649))]"
      ]
     },
     "metadata": {},
     "output_type": "display_data"
    }
   ],
   "source": [
    "sigma[0:10]"
   ]
  },
  {
   "cell_type": "code",
   "execution_count": null,
   "id": "4a3a7228",
   "metadata": {},
   "outputs": [],
   "source": [
    "ind = [i[0] for i in sigma[0:10]]"
   ]
  },
  {
   "cell_type": "code",
   "execution_count": null,
   "id": "62e61697",
   "metadata": {},
   "outputs": [
    {
     "data": {
      "text/plain": [
       "[0, 32, 115, 448, 268, 27, 113, 41, 244, 60]"
      ]
     },
     "metadata": {},
     "output_type": "display_data"
    }
   ],
   "source": [
    "ind"
   ]
  },
  {
   "cell_type": "code",
   "execution_count": null,
   "id": "fc2021ce",
   "metadata": {},
   "outputs": [],
   "source": [
    "dataframe = data.reset_index()"
   ]
  },
  {
   "cell_type": "code",
   "execution_count": null,
   "id": "6a436bc0",
   "metadata": {},
   "outputs": [
    {
     "data": {
      "text/plain": [
       "0                               Avatar\n",
       "32     Transformers: Age of Extinction\n",
       "115                    Men in Black II\n",
       "448         E.T. the Extra-Terrestrial\n",
       "268                      Despicable Me\n",
       "27                          Iron Man 3\n",
       "113                       Ghostbusters\n",
       "41                         World War Z\n",
       "244                   Independence Day\n",
       "60                            Iron Man\n",
       "Name: original_title, dtype: object"
      ]
     },
     "metadata": {},
     "output_type": "display_data"
    }
   ],
   "source": [
    "dataframe['original_title'][ind]"
   ]
  },
  {
   "cell_type": "code",
   "execution_count": null,
   "id": "79479468",
   "metadata": {},
   "outputs": [],
   "source": [
    "def give_recommendations(movie_title, model):\n",
    "    indices = pd.Series(data=data.index, index=data['original_title'])\n",
    "    idx = indices[movie_title]\n",
    "    model_scores = list(enumerate(model[idx]))\n",
    "    model_scores_sorted = sorted(model_scores, key= lambda x : x[1], reverse=True)\n",
    "    model_scores_10 = model_scores_sorted[1:11]\n",
    "    movie_indices_10 = [i[0] for i in model_scores_10]\n",
    "\n",
    "    return dataframe['original_title'][movie_indices_10]"
   ]
  },
  {
   "cell_type": "code",
   "execution_count": null,
   "id": "0dbbe6c9",
   "metadata": {},
   "outputs": [
    {
     "data": {
      "text/plain": [
       "32                       Transformers: Age of Extinction\n",
       "115                                      Men in Black II\n",
       "448                           E.T. the Extra-Terrestrial\n",
       "268                                        Despicable Me\n",
       "27                                            Iron Man 3\n",
       "113                                         Ghostbusters\n",
       "41                                           World War Z\n",
       "244                                     Independence Day\n",
       "60                                              Iron Man\n",
       "143    Pirates of the Caribbean: The Curse of the Bla...\n",
       "Name: original_title, dtype: object"
      ]
     },
     "metadata": {},
     "output_type": "display_data"
    }
   ],
   "source": [
    "give_recommendations('Avatar',sig)"
   ]
  },
  {
   "cell_type": "code",
   "execution_count": null,
   "id": "db944295",
   "metadata": {},
   "outputs": [],
   "source": [
    "import joblib"
   ]
  },
  {
   "cell_type": "code",
   "execution_count": null,
   "id": "78a50699",
   "metadata": {},
   "outputs": [],
   "source": [
    "data.to_csv(\"C:\\SPD Docs\\AI Projects\\ML Projects\\movie_recommendation_system\\dumped_obj\\movie_data_for_app.csv\", index=False)"
   ]
  },
  {
   "cell_type": "code",
   "execution_count": null,
   "id": "a592aa3b",
   "metadata": {},
   "outputs": [],
   "source": [
    "dataframe.to_csv(\"C:\\SPD Docs\\AI Projects\\ML Projects\\movie_recommendation_system\\dumped_obj\\movie_dataframe_for_app.csv\", index=False)\n"
   ]
  },
  {
   "cell_type": "code",
   "execution_count": null,
   "id": "5eb4970a",
   "metadata": {},
   "outputs": [
    {
     "data": {
      "text/plain": [
       "['C:\\\\SPD Docs\\\\AI Projects\\\\ML Projects\\\\movie_recommendation_system\\\\dumped_obj/sigmoid_kernel.pkl']"
      ]
     },
     "metadata": {},
     "output_type": "display_data"
    }
   ],
   "source": [
    "joblib.dump(tfv, \"C:\\SPD Docs\\AI Projects\\ML Projects\\movie_recommendation_system\\dumped_obj/tfidf_vectorizer.pkl\")\n",
    "joblib.dump(sig, \"C:\\SPD Docs\\AI Projects\\ML Projects\\movie_recommendation_system\\dumped_obj/sigmoid_kernel.pkl\")"
   ]
  }
 ],
 "metadata": {
  "language_info": {
   "name": "python"
  }
 },
 "nbformat": 4,
 "nbformat_minor": 5
}
